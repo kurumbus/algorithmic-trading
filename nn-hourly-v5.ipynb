{
 "cells": [
  {
   "cell_type": "code",
   "id": "initial_id",
   "metadata": {
    "collapsed": true,
    "ExecuteTime": {
     "end_time": "2024-08-25T05:05:38.982008Z",
     "start_time": "2024-08-25T05:05:37.036984Z"
    }
   },
   "source": [
    "from unittest.mock import inplace\n",
    "\n",
    "import pandas as pd\n",
    "import numpy as np\n",
    "import matplotlib.pyplot as plt\n",
    "import yfinance as yf\n",
    "from keras.src.callbacks import EarlyStopping\n",
    "import random\n",
    "import numpy as np\n",
    "import tensorflow as tf\n",
    "from keras.api.layers import Dense, Dropout\n",
    "from keras.api.models import Sequential\n",
    "from keras.api.regularizers import l1, l2\n",
    "from keras.api.optimizers import Adam"
   ],
   "outputs": [],
   "execution_count": 1
  },
  {
   "metadata": {
    "ExecuteTime": {
     "end_time": "2024-08-25T05:05:38.990048Z",
     "start_time": "2024-08-25T05:05:38.985536Z"
    }
   },
   "cell_type": "code",
   "source": [
    "def set_seeds(seed = 100):\n",
    "    random.seed(seed)\n",
    "    np.random.seed(seed)\n",
    "    tf.random.set_seed(seed)\n",
    "    \n",
    "def cw(df):\n",
    "    c0, c1 = np.bincount(df[\"dir\"])\n",
    "    w0 = (1/c0) * (len(df)) / 2\n",
    "    w1 = (1/c1) * (len(df)) / 2\n",
    "    return {0:w0, 1:w1}"
   ],
   "id": "b782f57370576e45",
   "outputs": [],
   "execution_count": 2
  },
  {
   "metadata": {
    "ExecuteTime": {
     "end_time": "2024-08-25T05:05:39.112470Z",
     "start_time": "2024-08-25T05:05:39.109354Z"
    }
   },
   "cell_type": "code",
   "source": [
    "symbol = \"EURUSD=X\"\n",
    "#start = \"2022-08-27\"\n",
    "start = \"2022-08-28\"\n",
    "end = \"2024-08-22\"\n",
    "interval = '1h'\n",
    "ptc = 0.000059\n",
    "lags = 7"
   ],
   "id": "b9805ccb87d70066",
   "outputs": [],
   "execution_count": 3
  },
  {
   "metadata": {
    "ExecuteTime": {
     "end_time": "2024-08-25T05:05:39.780155Z",
     "start_time": "2024-08-25T05:05:39.123895Z"
    }
   },
   "cell_type": "code",
   "source": [
    "df = yf.download(symbol, start, end, interval=interval)\n",
    "#df.rename(columns={\"Close\": \"price\"}, inplace=True)\n",
    "df.drop(columns=['Adj Close', 'Volume'], inplace=True)\n",
    "#df.index = df.index.tz_convert('utc')\n",
    "df['returns'] = np.log(df['Close'].div(df['Close'].shift(1)))\n",
    "df['day_of_week'] = df.index.dayofweek\n",
    "df['dir'] = np.where(df['returns'] > 0, 1,0)\n",
    "df.dropna(inplace=True)\n",
    "features = ['Open', 'High', 'Low', 'Close', 'returns']"
   ],
   "id": "8cc6e61a6ac618cc",
   "outputs": [
    {
     "name": "stderr",
     "output_type": "stream",
     "text": [
      "[*********************100%%**********************]  1 of 1 completed\n"
     ]
    }
   ],
   "execution_count": 4
  },
  {
   "metadata": {
    "ExecuteTime": {
     "end_time": "2024-08-25T05:05:39.826716Z",
     "start_time": "2024-08-25T05:05:39.797884Z"
    }
   },
   "cell_type": "code",
   "source": [
    "copy = df.copy()\n",
    "cols = []\n",
    "for f in features:\n",
    "    for lag in range(1, lags + 1):\n",
    "        col = \"{}_lag_{}\".format(f, lag)\n",
    "        copy[col] = copy[f].shift(lag)\n",
    "        cols.append(col)\n",
    "copy.dropna(inplace=True)\n",
    "cols.append('day_of_week')\n",
    "split = int(len(copy)* 0.8)\n",
    "train = copy.iloc[:split].copy()\n",
    "test = copy.iloc[split:].copy()\n",
    "mu, std = train.mean(), train.std()\n",
    "train_standardized = (train-mu) / std"
   ],
   "id": "9262fad79b9be002",
   "outputs": [],
   "execution_count": 5
  },
  {
   "metadata": {
    "ExecuteTime": {
     "end_time": "2024-08-25T05:05:39.889771Z",
     "start_time": "2024-08-25T05:05:39.886115Z"
    }
   },
   "cell_type": "code",
   "source": [
    "### Parameters\n",
    "dropout = 0.3"
   ],
   "id": "b901ea99b98523e1",
   "outputs": [],
   "execution_count": 6
  },
  {
   "metadata": {
    "ExecuteTime": {
     "end_time": "2024-08-25T05:05:49.029386Z",
     "start_time": "2024-08-25T05:05:39.923778Z"
    }
   },
   "cell_type": "code",
   "source": [
    "optimizer = Adam(learning_rate = 0.0001)\n",
    "early_stopping = EarlyStopping(monitor='val_loss', patience=10, restore_best_weights=True)\n",
    "\n",
    "set_seeds(100)\n",
    "model = Sequential()\n",
    "model.add(Dense(32, input_dim = len(cols), activity_regularizer = None ,activation = \"relu\", kernel_regularizer=l2(0.001), )) \n",
    "model.add(Dropout(dropout, seed = 100))\n",
    "model.add(Dense(32, activation = \"relu\", activity_regularizer = None, kernel_regularizer=l2(0.001),))\n",
    "model.add(Dense(32, activation = \"relu\", activity_regularizer = None, kernel_regularizer=l2(0.001),))    \n",
    "model.add(Dropout(dropout, seed = 100))        \n",
    "model.add(Dense(1, activation = \"sigmoid\")) \n",
    "model.compile(loss = \"binary_crossentropy\", optimizer = optimizer, metrics = [\"accuracy\"])\n",
    "\n",
    "model.fit(x=train_standardized[cols], y=train['dir'], epochs=30, verbose=False,\n",
    "          validation_split=0.2, shuffle=False, class_weight=cw(train), callbacks=[early_stopping] )\n"
   ],
   "id": "3d945ef08bf3221",
   "outputs": [
    {
     "name": "stderr",
     "output_type": "stream",
     "text": [
      "C:\\code\\trading\\v1\\pythonProject\\.venv\\Lib\\site-packages\\keras\\src\\layers\\core\\dense.py:87: UserWarning: Do not pass an `input_shape`/`input_dim` argument to a layer. When using Sequential models, prefer using an `Input(shape)` object as the first layer in the model instead.\n",
      "  super().__init__(activity_regularizer=activity_regularizer, **kwargs)\n",
      "C:\\code\\trading\\v1\\pythonProject\\.venv\\Lib\\site-packages\\keras\\src\\trainers\\data_adapters\\data_adapter_utils.py:126: FutureWarning: Series.__getitem__ treating keys as positions is deprecated. In a future version, integer keys will always be treated as labels (consistent with DataFrame behavior). To access a value by position, use `ser.iloc[pos]`\n",
      "  sample_weight[i] = class_weight.get(int(y[i]), 1.0)\n"
     ]
    },
    {
     "data": {
      "text/plain": [
       "<keras.src.callbacks.history.History at 0x2409adb8c10>"
      ]
     },
     "execution_count": 7,
     "metadata": {},
     "output_type": "execute_result"
    }
   ],
   "execution_count": 7
  },
  {
   "metadata": {
    "ExecuteTime": {
     "end_time": "2024-08-25T05:05:49.779703Z",
     "start_time": "2024-08-25T05:05:49.060334Z"
    }
   },
   "cell_type": "code",
   "source": [
    "loss_train, accuracy_train =  model.evaluate(train_standardized[cols], train['dir'])\n",
    "predict = model.predict(train_standardized[cols])\n",
    "\n",
    "test_standardized = (test-mu) / std\n",
    "loss_test, accuracy_test =  model.evaluate(test_standardized[cols], test['dir'])\n",
    "test['probability'] = model.predict(test_standardized[cols])\n",
    "threshold = 0.53\n",
    "test['position'] = np.where(test.probability < (1-threshold), -1, np.nan)\n",
    "test['position'] = np.where(test.probability > threshold, 1, test.position)\n",
    "test['position'] = test.position.ffill()\n",
    "test['strategy'] = test['position'] * test['returns']\n",
    "test['creturns'] = test['returns'].cumsum().apply(np.exp)\n",
    "test['cstrategy'] = test['strategy'].cumsum().apply(np.exp)\n",
    "test['trades'] = test.position.diff().abs()\n",
    "test['strategy_net'] = test.strategy - test.trades * ptc\n",
    "test['cstrategy_net'] = test['strategy_net'].cumsum().apply(np.exp)"
   ],
   "id": "f391aaecdae9bb04",
   "outputs": [
    {
     "name": "stdout",
     "output_type": "stream",
     "text": [
      "\u001B[1m308/308\u001B[0m \u001B[32m━━━━━━━━━━━━━━━━━━━━\u001B[0m\u001B[37m\u001B[0m \u001B[1m0s\u001B[0m 529us/step - accuracy: 0.5104 - loss: 0.7338\n",
      "\u001B[1m308/308\u001B[0m \u001B[32m━━━━━━━━━━━━━━━━━━━━\u001B[0m\u001B[37m\u001B[0m \u001B[1m0s\u001B[0m 545us/step\n",
      "\u001B[1m77/77\u001B[0m \u001B[32m━━━━━━━━━━━━━━━━━━━━\u001B[0m\u001B[37m\u001B[0m \u001B[1m0s\u001B[0m 580us/step - accuracy: 0.5346 - loss: 0.7346\n",
      "\u001B[1m77/77\u001B[0m \u001B[32m━━━━━━━━━━━━━━━━━━━━\u001B[0m\u001B[37m\u001B[0m \u001B[1m0s\u001B[0m 490us/step\n"
     ]
    }
   ],
   "execution_count": 8
  },
  {
   "metadata": {
    "ExecuteTime": {
     "end_time": "2024-08-25T05:05:49.856518Z",
     "start_time": "2024-08-25T05:05:49.852556Z"
    }
   },
   "cell_type": "code",
   "source": [
    "print(f\"Loss: {loss_train}\")\n",
    "print(f\"Accuracy: {accuracy_train}\")"
   ],
   "id": "4683f4b4dd7cfbf0",
   "outputs": [
    {
     "name": "stdout",
     "output_type": "stream",
     "text": [
      "Loss: 0.7336093187332153\n",
      "Accuracy: 0.5286397337913513\n"
     ]
    }
   ],
   "execution_count": 9
  },
  {
   "metadata": {
    "ExecuteTime": {
     "end_time": "2024-08-25T05:05:49.916618Z",
     "start_time": "2024-08-25T05:05:49.912596Z"
    }
   },
   "cell_type": "code",
   "source": [
    "print(f\"Loss: {loss_test}\")\n",
    "print(f\"Accuracy: {accuracy_test}\")"
   ],
   "id": "6f575fa58fa73cd3",
   "outputs": [
    {
     "name": "stdout",
     "output_type": "stream",
     "text": [
      "Loss: 0.7342873811721802\n",
      "Accuracy: 0.5423108339309692\n"
     ]
    }
   ],
   "execution_count": 10
  },
  {
   "metadata": {
    "ExecuteTime": {
     "end_time": "2024-08-25T05:05:50.048477Z",
     "start_time": "2024-08-25T05:05:49.927653Z"
    }
   },
   "cell_type": "code",
   "source": "test.probability.hist()",
   "id": "e62c05c5d7a3e94d",
   "outputs": [
    {
     "data": {
      "text/plain": [
       "<Axes: >"
      ]
     },
     "execution_count": 11,
     "metadata": {},
     "output_type": "execute_result"
    },
    {
     "data": {
      "text/plain": [
       "<Figure size 640x480 with 1 Axes>"
      ],
      "image/png": "[encoded data removed]"
     },
     "metadata": {},
     "output_type": "display_data"
    }
   ],
   "execution_count": 11
  },
  {
   "metadata": {
    "ExecuteTime": {
     "end_time": "2024-08-25T05:05:50.094107Z",
     "start_time": "2024-08-25T05:05:50.087569Z"
    }
   },
   "cell_type": "code",
   "source": "test.creturns.corr(test.cstrategy)",
   "id": "2e77923ccf6611cf",
   "outputs": [
    {
     "data": {
      "text/plain": [
       "0.9999245998700397"
      ]
     },
     "execution_count": 12,
     "metadata": {},
     "output_type": "execute_result"
    }
   ],
   "execution_count": 12
  },
  {
   "metadata": {
    "ExecuteTime": {
     "end_time": "2024-08-25T05:05:50.141053Z",
     "start_time": "2024-08-25T05:05:50.135417Z"
    }
   },
   "cell_type": "code",
   "source": "test.position.value_counts()",
   "id": "49142fff6b0af84",
   "outputs": [
    {
     "data": {
      "text/plain": [
       "position\n",
       " 1.0    2264\n",
       "-1.0       7\n",
       "Name: count, dtype: int64"
      ]
     },
     "execution_count": 13,
     "metadata": {},
     "output_type": "execute_result"
    }
   ],
   "execution_count": 13
  },
  {
   "metadata": {
    "ExecuteTime": {
     "end_time": "2024-08-25T05:05:51.181181Z",
     "start_time": "2024-08-25T05:05:50.202701Z"
    }
   },
   "cell_type": "code",
   "source": [
    "train['probability'] = model.predict(train_standardized[cols])\n",
    "threshold = 0.53\n",
    "train['position'] = np.where(train.probability < (1-threshold), -1, np.nan)\n",
    "train['position'] = np.where(train.probability > threshold, 1, train.position)\n",
    "train['position'] = train.position.ffill()\n",
    "train['strategy'] = train['position'] * train['returns']\n",
    "train['creturns'] = train['returns'].cumsum().apply(np.exp)\n",
    "train['cstrategy'] = train['strategy'].cumsum().apply(np.exp)\n",
    "train['trades'] = train.position.diff().abs()\n",
    "train['strategy_net'] = train.strategy - train.trades * ptc\n",
    "train['cstrategy_net'] = train['strategy_net'].cumsum().apply(np.exp)\n",
    "train[['cstrategy_net', 'cstrategy', 'creturns']].plot()"
   ],
   "id": "35503ebb2054d35",
   "outputs": [
    {
     "name": "stdout",
     "output_type": "stream",
     "text": [
      "\u001B[1m308/308\u001B[0m \u001B[32m━━━━━━━━━━━━━━━━━━━━\u001B[0m\u001B[37m\u001B[0m \u001B[1m0s\u001B[0m 644us/step\n"
     ]
    },
    {
     "data": {
      "text/plain": [
       "<Axes: xlabel='Datetime'>"
      ]
     },
     "execution_count": 14,
     "metadata": {},
     "output_type": "execute_result"
    },
    {
     "data": {
      "text/plain": [
       "<Figure size 640x480 with 1 Axes>"
      ],
      "image/png": "[encoded data removed]"
     },
     "metadata": {},
     "output_type": "display_data"
    }
   ],
   "execution_count": 14
  },
  {
   "metadata": {
    "ExecuteTime": {
     "end_time": "2024-08-25T05:05:51.459949Z",
     "start_time": "2024-08-25T05:05:51.211005Z"
    }
   },
   "cell_type": "code",
   "source": "test[['cstrategy_net', 'cstrategy', 'creturns']].plot()",
   "id": "2e536b11d081a21",
   "outputs": [
    {
     "data": {
      "text/plain": [
       "<Axes: xlabel='Datetime'>"
      ]
     },
     "execution_count": 15,
     "metadata": {},
     "output_type": "execute_result"
    },
    {
     "data": {
      "text/plain": [
       "<Figure size 640x480 with 1 Axes>"
      ],
      "image/png": "[encoded data removed]"
     },
     "metadata": {},
     "output_type": "display_data"
    }
   ],
   "execution_count": 15
  },
  {
   "metadata": {
    "ExecuteTime": {
     "end_time": "2024-08-25T05:05:51.470454Z",
     "start_time": "2024-08-25T05:05:51.465011Z"
    }
   },
   "cell_type": "code",
   "source": [
    "analysis = test.copy()\n",
    "analysis.drop(columns = cols, inplace = True)\n",
    "analysis.dropna(inplace = True)"
   ],
   "id": "c8ff124b6f163697",
   "outputs": [],
   "execution_count": 16
  },
  {
   "metadata": {
    "ExecuteTime": {
     "end_time": "2024-08-25T05:05:51.514590Z",
     "start_time": "2024-08-25T05:05:51.510254Z"
    }
   },
   "cell_type": "code",
   "source": "analysis.cstrategy_net.iloc[-1]",
   "id": "4835fdad07820181",
   "outputs": [
    {
     "data": {
      "text/plain": [
       "1.0347199729198437"
      ]
     },
     "execution_count": 17,
     "metadata": {},
     "output_type": "execute_result"
    }
   ],
   "execution_count": 17
  },
  {
   "metadata": {
    "ExecuteTime": {
     "end_time": "2024-08-25T05:05:51.572634Z",
     "start_time": "2024-08-25T05:05:51.557795Z"
    }
   },
   "cell_type": "code",
   "source": "analysis",
   "id": "eb4a028e141da00a",
   "outputs": [
    {
     "data": {
      "text/plain": [
       "                               Open      High       Low     Close   returns  \\\n",
       "Datetime                                                                      \n",
       "2024-04-10 15:00:00+01:00  1.075384  1.076890  1.075038  1.075616 -0.000108   \n",
       "2024-04-10 16:00:00+01:00  1.075732  1.075732  1.073768  1.073883 -0.001612   \n",
       "2024-04-10 17:00:00+01:00  1.073998  1.073998  1.073192  1.073883  0.000000   \n",
       "2024-04-10 18:00:00+01:00  1.073883  1.075500  1.073192  1.075269  0.001290   \n",
       "2024-04-10 19:00:00+01:00  1.075384  1.075616  1.073883  1.073883 -0.001290   \n",
       "...                             ...       ...       ...       ...       ...   \n",
       "2024-08-21 19:00:00+01:00  1.116321  1.117693  1.116321  1.116445  0.000447   \n",
       "2024-08-21 20:00:00+01:00  1.116321  1.116321  1.115449  1.115573 -0.000781   \n",
       "2024-08-21 21:00:00+01:00  1.115573  1.115822  1.115076  1.115324 -0.000223   \n",
       "2024-08-21 22:00:00+01:00  1.115324  1.115822  1.115200  1.115324  0.000000   \n",
       "2024-08-21 23:00:00+01:00  1.115573  1.115947  1.115573  1.115947  0.000558   \n",
       "\n",
       "                           dir  probability  position  strategy  creturns  \\\n",
       "Datetime                                                                    \n",
       "2024-04-10 15:00:00+01:00    0     0.527297       1.0 -0.000108  0.996558   \n",
       "2024-04-10 16:00:00+01:00    0     0.504584       1.0 -0.001612  0.994953   \n",
       "2024-04-10 17:00:00+01:00    0     0.512319       1.0  0.000000  0.994953   \n",
       "2024-04-10 18:00:00+01:00    1     0.501237       1.0  0.001290  0.996237   \n",
       "2024-04-10 19:00:00+01:00    0     0.509258       1.0 -0.001290  0.994953   \n",
       "...                        ...          ...       ...       ...       ...   \n",
       "2024-08-21 19:00:00+01:00    1     0.475612      -1.0 -0.000447  1.034387   \n",
       "2024-08-21 20:00:00+01:00    0     0.481678      -1.0  0.000781  1.033579   \n",
       "2024-08-21 21:00:00+01:00    0     0.495468      -1.0  0.000223  1.033348   \n",
       "2024-08-21 22:00:00+01:00    0     0.486050      -1.0 -0.000000  1.033348   \n",
       "2024-08-21 23:00:00+01:00    1     0.486294      -1.0 -0.000558  1.033925   \n",
       "\n",
       "                           cstrategy  trades  strategy_net  cstrategy_net  \n",
       "Datetime                                                                   \n",
       "2024-04-10 15:00:00+01:00   0.997418     0.0     -0.000108       0.999892  \n",
       "2024-04-10 16:00:00+01:00   0.995812     0.0     -0.001612       0.998282  \n",
       "2024-04-10 17:00:00+01:00   0.995812     0.0      0.000000       0.998282  \n",
       "2024-04-10 18:00:00+01:00   0.997097     0.0      0.001290       0.999570  \n",
       "2024-04-10 19:00:00+01:00   0.995812     0.0     -0.001290       0.998282  \n",
       "...                              ...     ...           ...            ...  \n",
       "2024-08-21 19:00:00+01:00   1.031821     0.0     -0.000447       1.034258  \n",
       "2024-08-21 20:00:00+01:00   1.032627     0.0      0.000781       1.035066  \n",
       "2024-08-21 21:00:00+01:00   1.032858     0.0      0.000223       1.035297  \n",
       "2024-08-21 22:00:00+01:00   1.032858     0.0     -0.000000       1.035297  \n",
       "2024-08-21 23:00:00+01:00   1.032282     0.0     -0.000558       1.034720  \n",
       "\n",
       "[2270 rows x 14 columns]"
      ],
      "text/html": [
       "<div>\n",
       "<style scoped>\n",
       "    .dataframe tbody tr th:only-of-type {\n",
       "        vertical-align: middle;\n",
       "    }\n",
       "\n",
       "    .dataframe tbody tr th {\n",
       "        vertical-align: top;\n",
       "    }\n",
       "\n",
       "    .dataframe thead th {\n",
       "        text-align: right;\n",
       "    }\n",
       "</style>\n",
       "<table border=\"1\" class=\"dataframe\">\n",
       "  <thead>\n",
       "    <tr style=\"text-align: right;\">\n",
       "      <th></th>\n",
       "      <th>Open</th>\n",
       "      <th>High</th>\n",
       "      <th>Low</th>\n",
       "      <th>Close</th>\n",
       "      <th>returns</th>\n",
       "      <th>dir</th>\n",
       "      <th>probability</th>\n",
       "      <th>position</th>\n",
       "      <th>strategy</th>\n",
       "      <th>creturns</th>\n",
       "      <th>cstrategy</th>\n",
       "      <th>trades</th>\n",
       "      <th>strategy_net</th>\n",
       "      <th>cstrategy_net</th>\n",
       "    </tr>\n",
       "    <tr>\n",
       "      <th>Datetime</th>\n",
       "      <th></th>\n",
       "      <th></th>\n",
       "      <th></th>\n",
       "      <th></th>\n",
       "      <th></th>\n",
       "      <th></th>\n",
       "      <th></th>\n",
       "      <th></th>\n",
       "      <th></th>\n",
       "      <th></th>\n",
       "      <th></th>\n",
       "      <th></th>\n",
       "      <th></th>\n",
       "      <th></th>\n",
       "    </tr>\n",
       "  </thead>\n",
       "  <tbody>\n",
       "    <tr>\n",
       "      <th>2024-04-10 15:00:00+01:00</th>\n",
       "      <td>1.075384</td>\n",
       "      <td>1.076890</td>\n",
       "      <td>1.075038</td>\n",
       "      <td>1.075616</td>\n",
       "      <td>-0.000108</td>\n",
       "      <td>0</td>\n",
       "      <td>0.527297</td>\n",
       "      <td>1.0</td>\n",
       "      <td>-0.000108</td>\n",
       "      <td>0.996558</td>\n",
       "      <td>0.997418</td>\n",
       "      <td>0.0</td>\n",
       "      <td>-0.000108</td>\n",
       "      <td>0.999892</td>\n",
       "    </tr>\n",
       "    <tr>\n",
       "      <th>2024-04-10 16:00:00+01:00</th>\n",
       "      <td>1.075732</td>\n",
       "      <td>1.075732</td>\n",
       "      <td>1.073768</td>\n",
       "      <td>1.073883</td>\n",
       "      <td>-0.001612</td>\n",
       "      <td>0</td>\n",
       "      <td>0.504584</td>\n",
       "      <td>1.0</td>\n",
       "      <td>-0.001612</td>\n",
       "      <td>0.994953</td>\n",
       "      <td>0.995812</td>\n",
       "      <td>0.0</td>\n",
       "      <td>-0.001612</td>\n",
       "      <td>0.998282</td>\n",
       "    </tr>\n",
       "    <tr>\n",
       "      <th>2024-04-10 17:00:00+01:00</th>\n",
       "      <td>1.073998</td>\n",
       "      <td>1.073998</td>\n",
       "      <td>1.073192</td>\n",
       "      <td>1.073883</td>\n",
       "      <td>0.000000</td>\n",
       "      <td>0</td>\n",
       "      <td>0.512319</td>\n",
       "      <td>1.0</td>\n",
       "      <td>0.000000</td>\n",
       "      <td>0.994953</td>\n",
       "      <td>0.995812</td>\n",
       "      <td>0.0</td>\n",
       "      <td>0.000000</td>\n",
       "      <td>0.998282</td>\n",
       "    </tr>\n",
       "    <tr>\n",
       "      <th>2024-04-10 18:00:00+01:00</th>\n",
       "      <td>1.073883</td>\n",
       "      <td>1.075500</td>\n",
       "      <td>1.073192</td>\n",
       "      <td>1.075269</td>\n",
       "      <td>0.001290</td>\n",
       "      <td>1</td>\n",
       "      <td>0.501237</td>\n",
       "      <td>1.0</td>\n",
       "      <td>0.001290</td>\n",
       "      <td>0.996237</td>\n",
       "      <td>0.997097</td>\n",
       "      <td>0.0</td>\n",
       "      <td>0.001290</td>\n",
       "      <td>0.999570</td>\n",
       "    </tr>\n",
       "    <tr>\n",
       "      <th>2024-04-10 19:00:00+01:00</th>\n",
       "      <td>1.075384</td>\n",
       "      <td>1.075616</td>\n",
       "      <td>1.073883</td>\n",
       "      <td>1.073883</td>\n",
       "      <td>-0.001290</td>\n",
       "      <td>0</td>\n",
       "      <td>0.509258</td>\n",
       "      <td>1.0</td>\n",
       "      <td>-0.001290</td>\n",
       "      <td>0.994953</td>\n",
       "      <td>0.995812</td>\n",
       "      <td>0.0</td>\n",
       "      <td>-0.001290</td>\n",
       "      <td>0.998282</td>\n",
       "    </tr>\n",
       "    <tr>\n",
       "      <th>...</th>\n",
       "      <td>...</td>\n",
       "      <td>...</td>\n",
       "      <td>...</td>\n",
       "      <td>...</td>\n",
       "      <td>...</td>\n",
       "      <td>...</td>\n",
       "      <td>...</td>\n",
       "      <td>...</td>\n",
       "      <td>...</td>\n",
       "      <td>...</td>\n",
       "      <td>...</td>\n",
       "      <td>...</td>\n",
       "      <td>...</td>\n",
       "      <td>...</td>\n",
       "    </tr>\n",
       "    <tr>\n",
       "      <th>2024-08-21 19:00:00+01:00</th>\n",
       "      <td>1.116321</td>\n",
       "      <td>1.117693</td>\n",
       "      <td>1.116321</td>\n",
       "      <td>1.116445</td>\n",
       "      <td>0.000447</td>\n",
       "      <td>1</td>\n",
       "      <td>0.475612</td>\n",
       "      <td>-1.0</td>\n",
       "      <td>-0.000447</td>\n",
       "      <td>1.034387</td>\n",
       "      <td>1.031821</td>\n",
       "      <td>0.0</td>\n",
       "      <td>-0.000447</td>\n",
       "      <td>1.034258</td>\n",
       "    </tr>\n",
       "    <tr>\n",
       "      <th>2024-08-21 20:00:00+01:00</th>\n",
       "      <td>1.116321</td>\n",
       "      <td>1.116321</td>\n",
       "      <td>1.115449</td>\n",
       "      <td>1.115573</td>\n",
       "      <td>-0.000781</td>\n",
       "      <td>0</td>\n",
       "      <td>0.481678</td>\n",
       "      <td>-1.0</td>\n",
       "      <td>0.000781</td>\n",
       "      <td>1.033579</td>\n",
       "      <td>1.032627</td>\n",
       "      <td>0.0</td>\n",
       "      <td>0.000781</td>\n",
       "      <td>1.035066</td>\n",
       "    </tr>\n",
       "    <tr>\n",
       "      <th>2024-08-21 21:00:00+01:00</th>\n",
       "      <td>1.115573</td>\n",
       "      <td>1.115822</td>\n",
       "      <td>1.115076</td>\n",
       "      <td>1.115324</td>\n",
       "      <td>-0.000223</td>\n",
       "      <td>0</td>\n",
       "      <td>0.495468</td>\n",
       "      <td>-1.0</td>\n",
       "      <td>0.000223</td>\n",
       "      <td>1.033348</td>\n",
       "      <td>1.032858</td>\n",
       "      <td>0.0</td>\n",
       "      <td>0.000223</td>\n",
       "      <td>1.035297</td>\n",
       "    </tr>\n",
       "    <tr>\n",
       "      <th>2024-08-21 22:00:00+01:00</th>\n",
       "      <td>1.115324</td>\n",
       "      <td>1.115822</td>\n",
       "      <td>1.115200</td>\n",
       "      <td>1.115324</td>\n",
       "      <td>0.000000</td>\n",
       "      <td>0</td>\n",
       "      <td>0.486050</td>\n",
       "      <td>-1.0</td>\n",
       "      <td>-0.000000</td>\n",
       "      <td>1.033348</td>\n",
       "      <td>1.032858</td>\n",
       "      <td>0.0</td>\n",
       "      <td>-0.000000</td>\n",
       "      <td>1.035297</td>\n",
       "    </tr>\n",
       "    <tr>\n",
       "      <th>2024-08-21 23:00:00+01:00</th>\n",
       "      <td>1.115573</td>\n",
       "      <td>1.115947</td>\n",
       "      <td>1.115573</td>\n",
       "      <td>1.115947</td>\n",
       "      <td>0.000558</td>\n",
       "      <td>1</td>\n",
       "      <td>0.486294</td>\n",
       "      <td>-1.0</td>\n",
       "      <td>-0.000558</td>\n",
       "      <td>1.033925</td>\n",
       "      <td>1.032282</td>\n",
       "      <td>0.0</td>\n",
       "      <td>-0.000558</td>\n",
       "      <td>1.034720</td>\n",
       "    </tr>\n",
       "  </tbody>\n",
       "</table>\n",
       "<p>2270 rows × 14 columns</p>\n",
       "</div>"
      ]
     },
     "execution_count": 18,
     "metadata": {},
     "output_type": "execute_result"
    }
   ],
   "execution_count": 18
  },
  {
   "metadata": {
    "ExecuteTime": {
     "end_time": "2024-08-25T05:05:51.645218Z",
     "start_time": "2024-08-25T05:05:51.639869Z"
    }
   },
   "cell_type": "code",
   "source": "analysis['dir_position'] = np.where(analysis['probability'] < 0.47, 0, np.where(analysis['probability'] > 0.53, 1, np.nan))",
   "id": "29af9d26df620cc0",
   "outputs": [],
   "execution_count": 19
  },
  {
   "metadata": {
    "ExecuteTime": {
     "end_time": "2024-08-25T05:05:51.698889Z",
     "start_time": "2024-08-25T05:05:51.685999Z"
    }
   },
   "cell_type": "code",
   "source": "analysis[(analysis.dir_position != analysis.dir) & (pd.notna(analysis.dir_position))]",
   "id": "b0365f8e052d0a3b",
   "outputs": [
    {
     "data": {
      "text/plain": [
       "                               Open      High       Low     Close   returns  \\\n",
       "Datetime                                                                      \n",
       "2024-04-23 13:00:00+01:00  1.067692  1.067806  1.066667  1.067350 -0.000320   \n",
       "2024-05-02 00:00:00+01:00  1.071926  1.072156  1.071582  1.072041  0.000000   \n",
       "2024-06-07 17:00:00+01:00  1.081081  1.081432  1.080614  1.080847 -0.000108   \n",
       "2024-06-12 18:00:00+01:00  1.084599  1.084834  1.084011  1.084128 -0.000542   \n",
       "2024-08-02 18:00:00+01:00  1.091584  1.091703  1.091107  1.091346 -0.000109   \n",
       "2024-08-21 17:00:00+01:00  1.114579  1.115200  1.114579  1.114951  0.000334   \n",
       "\n",
       "                           dir  probability  position  strategy  creturns  \\\n",
       "Datetime                                                                    \n",
       "2024-04-23 13:00:00+01:00    0     0.544381       1.0 -0.000320  0.988900   \n",
       "2024-05-02 00:00:00+01:00    0     0.576389       1.0  0.000000  0.993246   \n",
       "2024-06-07 17:00:00+01:00    0     0.540488       1.0 -0.000108  1.001405   \n",
       "2024-06-12 18:00:00+01:00    0     0.555139       1.0 -0.000542  1.004445   \n",
       "2024-08-02 18:00:00+01:00    0     0.540141       1.0 -0.000109  1.011132   \n",
       "2024-08-21 17:00:00+01:00    1     0.468801      -1.0 -0.000334  1.033003   \n",
       "\n",
       "                           cstrategy  trades  strategy_net  cstrategy_net  \\\n",
       "Datetime                                                                    \n",
       "2024-04-23 13:00:00+01:00   0.989753     0.0     -0.000320       0.992208   \n",
       "2024-05-02 00:00:00+01:00   0.994104     0.0      0.000000       0.996569   \n",
       "2024-06-07 17:00:00+01:00   1.002270     0.0     -0.000108       1.004756   \n",
       "2024-06-12 18:00:00+01:00   1.005312     0.0     -0.000542       1.007806   \n",
       "2024-08-02 18:00:00+01:00   1.012005     0.0     -0.000109       1.014515   \n",
       "2024-08-21 17:00:00+01:00   1.033203     2.0     -0.000452       1.035644   \n",
       "\n",
       "                           dir_position  \n",
       "Datetime                                 \n",
       "2024-04-23 13:00:00+01:00           1.0  \n",
       "2024-05-02 00:00:00+01:00           1.0  \n",
       "2024-06-07 17:00:00+01:00           1.0  \n",
       "2024-06-12 18:00:00+01:00           1.0  \n",
       "2024-08-02 18:00:00+01:00           1.0  \n",
       "2024-08-21 17:00:00+01:00           0.0  "
      ],
      "text/html": [
       "<div>\n",
       "<style scoped>\n",
       "    .dataframe tbody tr th:only-of-type {\n",
       "        vertical-align: middle;\n",
       "    }\n",
       "\n",
       "    .dataframe tbody tr th {\n",
       "        vertical-align: top;\n",
       "    }\n",
       "\n",
       "    .dataframe thead th {\n",
       "        text-align: right;\n",
       "    }\n",
       "</style>\n",
       "<table border=\"1\" class=\"dataframe\">\n",
       "  <thead>\n",
       "    <tr style=\"text-align: right;\">\n",
       "      <th></th>\n",
       "      <th>Open</th>\n",
       "      <th>High</th>\n",
       "      <th>Low</th>\n",
       "      <th>Close</th>\n",
       "      <th>returns</th>\n",
       "      <th>dir</th>\n",
       "      <th>probability</th>\n",
       "      <th>position</th>\n",
       "      <th>strategy</th>\n",
       "      <th>creturns</th>\n",
       "      <th>cstrategy</th>\n",
       "      <th>trades</th>\n",
       "      <th>strategy_net</th>\n",
       "      <th>cstrategy_net</th>\n",
       "      <th>dir_position</th>\n",
       "    </tr>\n",
       "    <tr>\n",
       "      <th>Datetime</th>\n",
       "      <th></th>\n",
       "      <th></th>\n",
       "      <th></th>\n",
       "      <th></th>\n",
       "      <th></th>\n",
       "      <th></th>\n",
       "      <th></th>\n",
       "      <th></th>\n",
       "      <th></th>\n",
       "      <th></th>\n",
       "      <th></th>\n",
       "      <th></th>\n",
       "      <th></th>\n",
       "      <th></th>\n",
       "      <th></th>\n",
       "    </tr>\n",
       "  </thead>\n",
       "  <tbody>\n",
       "    <tr>\n",
       "      <th>2024-04-23 13:00:00+01:00</th>\n",
       "      <td>1.067692</td>\n",
       "      <td>1.067806</td>\n",
       "      <td>1.066667</td>\n",
       "      <td>1.067350</td>\n",
       "      <td>-0.000320</td>\n",
       "      <td>0</td>\n",
       "      <td>0.544381</td>\n",
       "      <td>1.0</td>\n",
       "      <td>-0.000320</td>\n",
       "      <td>0.988900</td>\n",
       "      <td>0.989753</td>\n",
       "      <td>0.0</td>\n",
       "      <td>-0.000320</td>\n",
       "      <td>0.992208</td>\n",
       "      <td>1.0</td>\n",
       "    </tr>\n",
       "    <tr>\n",
       "      <th>2024-05-02 00:00:00+01:00</th>\n",
       "      <td>1.071926</td>\n",
       "      <td>1.072156</td>\n",
       "      <td>1.071582</td>\n",
       "      <td>1.072041</td>\n",
       "      <td>0.000000</td>\n",
       "      <td>0</td>\n",
       "      <td>0.576389</td>\n",
       "      <td>1.0</td>\n",
       "      <td>0.000000</td>\n",
       "      <td>0.993246</td>\n",
       "      <td>0.994104</td>\n",
       "      <td>0.0</td>\n",
       "      <td>0.000000</td>\n",
       "      <td>0.996569</td>\n",
       "      <td>1.0</td>\n",
       "    </tr>\n",
       "    <tr>\n",
       "      <th>2024-06-07 17:00:00+01:00</th>\n",
       "      <td>1.081081</td>\n",
       "      <td>1.081432</td>\n",
       "      <td>1.080614</td>\n",
       "      <td>1.080847</td>\n",
       "      <td>-0.000108</td>\n",
       "      <td>0</td>\n",
       "      <td>0.540488</td>\n",
       "      <td>1.0</td>\n",
       "      <td>-0.000108</td>\n",
       "      <td>1.001405</td>\n",
       "      <td>1.002270</td>\n",
       "      <td>0.0</td>\n",
       "      <td>-0.000108</td>\n",
       "      <td>1.004756</td>\n",
       "      <td>1.0</td>\n",
       "    </tr>\n",
       "    <tr>\n",
       "      <th>2024-06-12 18:00:00+01:00</th>\n",
       "      <td>1.084599</td>\n",
       "      <td>1.084834</td>\n",
       "      <td>1.084011</td>\n",
       "      <td>1.084128</td>\n",
       "      <td>-0.000542</td>\n",
       "      <td>0</td>\n",
       "      <td>0.555139</td>\n",
       "      <td>1.0</td>\n",
       "      <td>-0.000542</td>\n",
       "      <td>1.004445</td>\n",
       "      <td>1.005312</td>\n",
       "      <td>0.0</td>\n",
       "      <td>-0.000542</td>\n",
       "      <td>1.007806</td>\n",
       "      <td>1.0</td>\n",
       "    </tr>\n",
       "    <tr>\n",
       "      <th>2024-08-02 18:00:00+01:00</th>\n",
       "      <td>1.091584</td>\n",
       "      <td>1.091703</td>\n",
       "      <td>1.091107</td>\n",
       "      <td>1.091346</td>\n",
       "      <td>-0.000109</td>\n",
       "      <td>0</td>\n",
       "      <td>0.540141</td>\n",
       "      <td>1.0</td>\n",
       "      <td>-0.000109</td>\n",
       "      <td>1.011132</td>\n",
       "      <td>1.012005</td>\n",
       "      <td>0.0</td>\n",
       "      <td>-0.000109</td>\n",
       "      <td>1.014515</td>\n",
       "      <td>1.0</td>\n",
       "    </tr>\n",
       "    <tr>\n",
       "      <th>2024-08-21 17:00:00+01:00</th>\n",
       "      <td>1.114579</td>\n",
       "      <td>1.115200</td>\n",
       "      <td>1.114579</td>\n",
       "      <td>1.114951</td>\n",
       "      <td>0.000334</td>\n",
       "      <td>1</td>\n",
       "      <td>0.468801</td>\n",
       "      <td>-1.0</td>\n",
       "      <td>-0.000334</td>\n",
       "      <td>1.033003</td>\n",
       "      <td>1.033203</td>\n",
       "      <td>2.0</td>\n",
       "      <td>-0.000452</td>\n",
       "      <td>1.035644</td>\n",
       "      <td>0.0</td>\n",
       "    </tr>\n",
       "  </tbody>\n",
       "</table>\n",
       "</div>"
      ]
     },
     "execution_count": 20,
     "metadata": {},
     "output_type": "execute_result"
    }
   ],
   "execution_count": 20
  },
  {
   "metadata": {
    "ExecuteTime": {
     "end_time": "2024-08-25T05:05:51.749774Z",
     "start_time": "2024-08-25T05:05:51.740595Z"
    }
   },
   "cell_type": "code",
   "source": "analysis[(analysis.dir_position != analysis.dir) & (pd.notna(analysis.dir_position))].probability.describe()",
   "id": "860fd132ce4a40ad",
   "outputs": [
    {
     "data": {
      "text/plain": [
       "count    6.000000\n",
       "mean     0.537556\n",
       "std      0.036349\n",
       "min      0.468801\n",
       "25%      0.540228\n",
       "50%      0.542434\n",
       "75%      0.552450\n",
       "max      0.576389\n",
       "Name: probability, dtype: float64"
      ]
     },
     "execution_count": 21,
     "metadata": {},
     "output_type": "execute_result"
    }
   ],
   "execution_count": 21
  },
  {
   "metadata": {
    "ExecuteTime": {
     "end_time": "2024-08-25T05:05:51.895334Z",
     "start_time": "2024-08-25T05:05:51.879977Z"
    }
   },
   "cell_type": "code",
   "source": "analysis[analysis.dir_position == analysis.dir]",
   "id": "d64ea190fc8a8ea",
   "outputs": [
    {
     "data": {
      "text/plain": [
       "                               Open      High       Low     Close   returns  \\\n",
       "Datetime                                                                      \n",
       "2024-05-03 18:00:00+01:00  1.076774  1.077122  1.076195  1.077006  0.000323   \n",
       "2024-05-15 18:00:00+01:00  1.087548  1.088258  1.087548  1.088258  0.000653   \n",
       "2024-08-05 13:00:00+01:00  1.096491  1.100958  1.096491  1.099384  0.002525   \n",
       "\n",
       "                           dir  probability  position  strategy  creturns  \\\n",
       "Datetime                                                                    \n",
       "2024-05-03 18:00:00+01:00    1     0.542091       1.0  0.000323  0.997846   \n",
       "2024-05-15 18:00:00+01:00    1     0.546979       1.0  0.000653  1.008271   \n",
       "2024-08-05 13:00:00+01:00    1     0.541049       1.0  0.002525  1.018580   \n",
       "\n",
       "                           cstrategy  trades  strategy_net  cstrategy_net  \\\n",
       "Datetime                                                                    \n",
       "2024-05-03 18:00:00+01:00   0.998708     0.0      0.000323       1.001185   \n",
       "2024-05-15 18:00:00+01:00   1.009141     0.0      0.000653       1.011644   \n",
       "2024-08-05 13:00:00+01:00   1.019459     0.0      0.002525       1.021988   \n",
       "\n",
       "                           dir_position  \n",
       "Datetime                                 \n",
       "2024-05-03 18:00:00+01:00           1.0  \n",
       "2024-05-15 18:00:00+01:00           1.0  \n",
       "2024-08-05 13:00:00+01:00           1.0  "
      ],
      "text/html": [
       "<div>\n",
       "<style scoped>\n",
       "    .dataframe tbody tr th:only-of-type {\n",
       "        vertical-align: middle;\n",
       "    }\n",
       "\n",
       "    .dataframe tbody tr th {\n",
       "        vertical-align: top;\n",
       "    }\n",
       "\n",
       "    .dataframe thead th {\n",
       "        text-align: right;\n",
       "    }\n",
       "</style>\n",
       "<table border=\"1\" class=\"dataframe\">\n",
       "  <thead>\n",
       "    <tr style=\"text-align: right;\">\n",
       "      <th></th>\n",
       "      <th>Open</th>\n",
       "      <th>High</th>\n",
       "      <th>Low</th>\n",
       "      <th>Close</th>\n",
       "      <th>returns</th>\n",
       "      <th>dir</th>\n",
       "      <th>probability</th>\n",
       "      <th>position</th>\n",
       "      <th>strategy</th>\n",
       "      <th>creturns</th>\n",
       "      <th>cstrategy</th>\n",
       "      <th>trades</th>\n",
       "      <th>strategy_net</th>\n",
       "      <th>cstrategy_net</th>\n",
       "      <th>dir_position</th>\n",
       "    </tr>\n",
       "    <tr>\n",
       "      <th>Datetime</th>\n",
       "      <th></th>\n",
       "      <th></th>\n",
       "      <th></th>\n",
       "      <th></th>\n",
       "      <th></th>\n",
       "      <th></th>\n",
       "      <th></th>\n",
       "      <th></th>\n",
       "      <th></th>\n",
       "      <th></th>\n",
       "      <th></th>\n",
       "      <th></th>\n",
       "      <th></th>\n",
       "      <th></th>\n",
       "      <th></th>\n",
       "    </tr>\n",
       "  </thead>\n",
       "  <tbody>\n",
       "    <tr>\n",
       "      <th>2024-05-03 18:00:00+01:00</th>\n",
       "      <td>1.076774</td>\n",
       "      <td>1.077122</td>\n",
       "      <td>1.076195</td>\n",
       "      <td>1.077006</td>\n",
       "      <td>0.000323</td>\n",
       "      <td>1</td>\n",
       "      <td>0.542091</td>\n",
       "      <td>1.0</td>\n",
       "      <td>0.000323</td>\n",
       "      <td>0.997846</td>\n",
       "      <td>0.998708</td>\n",
       "      <td>0.0</td>\n",
       "      <td>0.000323</td>\n",
       "      <td>1.001185</td>\n",
       "      <td>1.0</td>\n",
       "    </tr>\n",
       "    <tr>\n",
       "      <th>2024-05-15 18:00:00+01:00</th>\n",
       "      <td>1.087548</td>\n",
       "      <td>1.088258</td>\n",
       "      <td>1.087548</td>\n",
       "      <td>1.088258</td>\n",
       "      <td>0.000653</td>\n",
       "      <td>1</td>\n",
       "      <td>0.546979</td>\n",
       "      <td>1.0</td>\n",
       "      <td>0.000653</td>\n",
       "      <td>1.008271</td>\n",
       "      <td>1.009141</td>\n",
       "      <td>0.0</td>\n",
       "      <td>0.000653</td>\n",
       "      <td>1.011644</td>\n",
       "      <td>1.0</td>\n",
       "    </tr>\n",
       "    <tr>\n",
       "      <th>2024-08-05 13:00:00+01:00</th>\n",
       "      <td>1.096491</td>\n",
       "      <td>1.100958</td>\n",
       "      <td>1.096491</td>\n",
       "      <td>1.099384</td>\n",
       "      <td>0.002525</td>\n",
       "      <td>1</td>\n",
       "      <td>0.541049</td>\n",
       "      <td>1.0</td>\n",
       "      <td>0.002525</td>\n",
       "      <td>1.018580</td>\n",
       "      <td>1.019459</td>\n",
       "      <td>0.0</td>\n",
       "      <td>0.002525</td>\n",
       "      <td>1.021988</td>\n",
       "      <td>1.0</td>\n",
       "    </tr>\n",
       "  </tbody>\n",
       "</table>\n",
       "</div>"
      ]
     },
     "execution_count": 22,
     "metadata": {},
     "output_type": "execute_result"
    }
   ],
   "execution_count": 22
  },
  {
   "metadata": {
    "ExecuteTime": {
     "end_time": "2024-08-25T05:05:51.962832Z",
     "start_time": "2024-08-25T05:05:51.953648Z"
    }
   },
   "cell_type": "code",
   "source": "analysis[analysis.dir_position == analysis.dir].probability.describe()",
   "id": "cc98b2a43ca0462d",
   "outputs": [
    {
     "data": {
      "text/plain": [
       "count    3.000000\n",
       "mean     0.543373\n",
       "std      0.003166\n",
       "min      0.541049\n",
       "25%      0.541570\n",
       "50%      0.542091\n",
       "75%      0.544535\n",
       "max      0.546979\n",
       "Name: probability, dtype: float64"
      ]
     },
     "execution_count": 23,
     "metadata": {},
     "output_type": "execute_result"
    }
   ],
   "execution_count": 23
  }
 ],
 "metadata": {
  "kernelspec": {
   "display_name": "Python 3",
   "language": "python",
   "name": "python3"
  },
  "language_info": {
   "codemirror_mode": {
    "name": "ipython",
    "version": 2
   },
   "file_extension": ".py",
   "mimetype": "text/x-python",
   "name": "python",
   "nbconvert_exporter": "python",
   "pygments_lexer": "ipython2",
   "version": "2.7.6"
  }
 },
 "nbformat": 4,
 "nbformat_minor": 5
}
