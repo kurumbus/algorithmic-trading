{
 "cells": [
  {
   "cell_type": "code",
   "id": "initial_id",
   "metadata": {
    "collapsed": true,
    "ExecuteTime": {
     "end_time": "2024-08-24T01:24:44.347026Z",
     "start_time": "2024-08-24T01:24:44.336265Z"
    }
   },
   "source": [
    "import pandas as pd\n",
    "import numpy as np\n",
    "import matplotlib.pyplot as plt\n",
    "from ib_insync import *\n",
    "import pandas as pd\n",
    "from IPython.display import display, clear_output\n",
    "from datetime import datetime, timedelta\n",
    "util.startLoop()"
   ],
   "outputs": [],
   "execution_count": 14
  },
  {
   "metadata": {
    "ExecuteTime": {
     "end_time": "2024-08-24T01:00:53.384919Z",
     "start_time": "2024-08-24T01:00:52.826659Z"
    }
   },
   "cell_type": "code",
   "source": [
    "ib = IB()\n",
    "connection = ib.connect()"
   ],
   "id": "268f34a3d6704804",
   "outputs": [],
   "execution_count": 2
  },
  {
   "metadata": {
    "ExecuteTime": {
     "end_time": "2024-08-24T01:00:56.507124Z",
     "start_time": "2024-08-24T01:00:54.520230Z"
    }
   },
   "cell_type": "code",
   "source": [
    "import keras\n",
    "model = keras.models.load_model('DNN_model.keras')"
   ],
   "id": "9f2e95c6d5140d57",
   "outputs": [],
   "execution_count": 3
  },
  {
   "metadata": {
    "ExecuteTime": {
     "end_time": "2024-08-24T01:01:05.054503Z",
     "start_time": "2024-08-24T01:01:05.048104Z"
    }
   },
   "cell_type": "code",
   "source": "model",
   "id": "cc84a2ba60b64d0d",
   "outputs": [
    {
     "data": {
      "text/plain": [
       "<Sequential name=sequential_1, built=True>"
      ]
     },
     "execution_count": 4,
     "metadata": {},
     "output_type": "execute_result"
    }
   ],
   "execution_count": 4
  },
  {
   "metadata": {
    "ExecuteTime": {
     "end_time": "2024-08-24T01:01:47.941345Z",
     "start_time": "2024-08-24T01:01:47.936344Z"
    }
   },
   "cell_type": "code",
   "source": [
    "import pickle\n",
    "params = pickle.load(open('params.pkl', 'rb'))\n",
    "mu = params['mu']\n",
    "std = params['std']"
   ],
   "id": "e88228629152cce9",
   "outputs": [],
   "execution_count": 5
  },
  {
   "metadata": {
    "ExecuteTime": {
     "end_time": "2024-08-24T01:03:06.083809Z",
     "start_time": "2024-08-24T01:03:05.181226Z"
    }
   },
   "cell_type": "code",
   "source": [
    "contract = Forex('EURUSD')\n",
    "ib.qualifyContracts(contract)\n",
    "cfd = CFD('EUR', currency='USD')\n",
    "ib.qualifyContracts(cfd)\n",
    "conID=cfd.conId"
   ],
   "id": "57b6b04f68ba5cab",
   "outputs": [],
   "execution_count": 6
  },
  {
   "metadata": {
    "ExecuteTime": {
     "end_time": "2024-08-24T01:03:57.328317Z",
     "start_time": "2024-08-24T01:03:56.305823Z"
    }
   },
   "cell_type": "code",
   "source": [
    "bars = ib.reqHistoricalData(\n",
    "    contract,\n",
    "    endDateTime='',\n",
    "    durationStr='1 D',\n",
    "    barSizeSetting='1 min',\n",
    "    whatToShow='MIDPOINT',\n",
    "    useRTH=True,\n",
    "    formatDate=2,\n",
    "    keepUpToDate=True\n",
    ")\n",
    "last_bar_date = bars[-1].date"
   ],
   "id": "2cf4c36bdc59a9a2",
   "outputs": [],
   "execution_count": 7
  },
  {
   "metadata": {
    "ExecuteTime": {
     "end_time": "2024-08-24T01:21:54.298316Z",
     "start_time": "2024-08-24T01:21:54.290323Z"
    }
   },
   "cell_type": "code",
   "source": [
    "units = 1000\n",
    "window = 50\n",
    "long_sma = 150\n",
    "momentum_window = 3\n",
    "lags = 5\n",
    "threshold = 0.55\n",
    "start_time = pd.to_datetime(datetime.utcnow())"
   ],
   "id": "f5a2f0681b1911",
   "outputs": [],
   "execution_count": 12
  },
  {
   "metadata": {
    "ExecuteTime": {
     "end_time": "2024-08-24T01:27:05.516875Z",
     "start_time": "2024-08-24T01:27:05.496049Z"
    }
   },
   "cell_type": "code",
   "source": [
    "logger = 'something'\n",
    "\n",
    "def onBarUpdate(bars, hasNewBar):\n",
    "    global df, last_bar_date\n",
    "    global logger\n",
    "    \n",
    "    logger += 'run'\n",
    "    \n",
    "    if bars[-1].date > last_bar_date:\n",
    "        logger = 'true, btw units={}'.format(units)\n",
    "        last_bar_date = bars[-1].date\n",
    "        \n",
    "        df = pd.DataFrame(bars)[['date', 'open', 'high', 'low', 'close']]\n",
    "        df.set_index('date', inplace=True)\n",
    "        \n",
    "        ####\n",
    "        df[\"returns\"] = np.log(df.close / df.close.shift())\n",
    "        df[\"dir\"] = np.where(df[\"returns\"] > 0, 1, 0)\n",
    "        df[\"sma\"] = df.close.rolling(window).mean() - df.close.rolling(long_sma).mean()\n",
    "        df[\"boll\"] = (df.close - df.close.rolling(window).mean()) / df.close.rolling(window).std()\n",
    "        df[\"min\"] = df.close.rolling(window).min() / df.close - 1\n",
    "        df[\"max\"] = df.close.rolling(window).max() / df.close - 1\n",
    "        df[\"mom\"] = df.close.rolling(momentum_window).mean()\n",
    "        df[\"vol\"] = df.close.rolling(momentum_window).std()\n",
    "        df['price'] = df['close']\n",
    "        df.dropna(inplace = True)\n",
    "        \n",
    "        # create lags\n",
    "        cols = []\n",
    "        features = [\"dir\", \"sma\", \"boll\", \"min\", \"max\", \"mom\", \"vol\"]\n",
    "\n",
    "        for f in features:\n",
    "            for lag in range(1, lags + 1):\n",
    "                col = \"{}_lag_{}\".format(f, lag)\n",
    "                df[col] = df[f].shift(lag)\n",
    "                cols.append(col)\n",
    "        df.dropna(inplace = True)\n",
    "        ####\n",
    "        # standardization\n",
    "        df_s = (df - mu) / std\n",
    "        # predict\n",
    "        df[\"probability\"] = model.predict(df_s[cols])\n",
    "        \n",
    "        #determine positions\n",
    "        df = df.loc[start_time:].copy() # starting with first live_stream bar (removing historical bars) // but we do it after calculating lag data\n",
    "        df[\"position\"] = np.where(df.probability < 1- threshold, -1, np.nan)\n",
    "        df[\"position\"] = np.where(df.probability > threshold, 1, df.position)\n",
    "        df[\"position\"] = df.position.ffill().fillna(0) # start with neutral position if no strong signal\n",
    "        #***********************************************************************\n",
    "        \n",
    "        \n",
    "        if df['position'][-1] != 0:\n",
    "            target = df['position'][-1] * units\n",
    "            logger += 'gonna execute'\n",
    "            execute_trade(target = target)\n",
    "\n",
    "        clear_output(wait=True)\n",
    "        display(df)\n",
    "    else:\n",
    "        logger +=' false'\n",
    "        pass\n",
    "        \n",
    "def execute_trade(target):\n",
    "    global current_position, logger\n",
    "    \n",
    "    logger += 'im here btw target= {} '.format(target) \n",
    "    try: \n",
    "        logger+= 'trying to execute'\n",
    "        current_position = [pos.position for pos in ib.positions() if pos.contract.conId == conID][0]\n",
    "    except:\n",
    "        logger += 'exception'\n",
    "        current_position = 0\n",
    "    \n",
    "    \n",
    "    trades = target - current_position\n",
    "    \n",
    "    logger += ' | trades = {} | '.format(trades)\n",
    "    \n",
    "    if trades > 0:\n",
    "        logger += 'buy'\n",
    "        \n",
    "        side = \"BUY\"\n",
    "        order = MarketOrder(side, abs(trades))\n",
    "        trade = ib.placeOrder(cfd, order)\n",
    "    elif trades < 0:\n",
    "        logger += 'sell'\n",
    "        side = \"SELL\"\n",
    "        order = MarketOrder(side, abs(trades))\n",
    "        trade = ib.placeOrder(cfd, order)\n",
    "    else:\n",
    "        logger += '_nobuynosell_'\n",
    "        pass\n",
    "        "
   ],
   "id": "955884091c0cfe67",
   "outputs": [],
   "execution_count": 15
  },
  {
   "metadata": {
    "ExecuteTime": {
     "end_time": "2024-08-24T01:27:40.125751Z",
     "start_time": "2024-08-24T01:27:40.115907Z"
    }
   },
   "cell_type": "code",
   "source": "bars.updateEvent += onBarUpdate",
   "id": "f470155daf52ef34",
   "outputs": [],
   "execution_count": 16
  },
  {
   "metadata": {
    "ExecuteTime": {
     "end_time": "2024-08-24T01:33:16.728144Z",
     "start_time": "2024-08-24T01:33:16.723296Z"
    }
   },
   "cell_type": "code",
   "source": "last_bar_date",
   "id": "4b11f75ee03e3514",
   "outputs": [
    {
     "data": {
      "text/plain": [
       "datetime.datetime(2024, 8, 23, 20, 59, tzinfo=datetime.timezone.utc)"
      ]
     },
     "execution_count": 21,
     "metadata": {},
     "output_type": "execute_result"
    }
   ],
   "execution_count": 21
  }
 ],
 "metadata": {
  "kernelspec": {
   "display_name": "Python 3",
   "language": "python",
   "name": "python3"
  },
  "language_info": {
   "codemirror_mode": {
    "name": "ipython",
    "version": 2
   },
   "file_extension": ".py",
   "mimetype": "text/x-python",
   "name": "python",
   "nbconvert_exporter": "python",
   "pygments_lexer": "ipython2",
   "version": "2.7.6"
  }
 },
 "nbformat": 4,
 "nbformat_minor": 5
}
