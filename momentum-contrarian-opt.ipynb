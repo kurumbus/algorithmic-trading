{
 "cells": [
  {
   "cell_type": "code",
   "id": "initial_id",
   "metadata": {
    "collapsed": true,
    "ExecuteTime": {
     "end_time": "2024-08-19T05:44:34.530069Z",
     "start_time": "2024-08-19T05:44:29.445564Z"
    }
   },
   "source": [
    "import pandas as pd\n",
    "import numpy as np\n",
    "import matplotlib.style\n",
    "import matplotlib.pyplot as plt\n",
    "import yfinance as yf\n",
    "pd.options.display.float_format = '{:.4f}'.format\n",
    "plt.style.use(\"seaborn-v0_8\")\n",
    "from itertools import product"
   ],
   "outputs": [],
   "execution_count": 1
  },
  {
   "metadata": {
    "ExecuteTime": {
     "end_time": "2024-08-19T06:42:40.580248Z",
     "start_time": "2024-08-19T06:42:40.569595Z"
    }
   },
   "cell_type": "code",
   "source": [
    "symbol = \"EURUSD=X\"\n",
    "start = \"2023-01-01\"\n",
    "end = \"2024-01-01\"\n",
    "\n",
    "spread = 1.5 * 0.0001\n",
    "halfspread = spread / 2\n",
    "ptc = halfspread / df.price.mean()\n",
    "ptc"
   ],
   "id": "98851064e7521ad0",
   "outputs": [
    {
     "data": {
      "text/plain": [
       "np.float64(6.932306764204024e-05)"
      ]
     },
     "execution_count": 35,
     "metadata": {},
     "output_type": "execute_result"
    }
   ],
   "execution_count": 35
  },
  {
   "metadata": {
    "ExecuteTime": {
     "end_time": "2024-08-19T05:44:47.871311Z",
     "start_time": "2024-08-19T05:44:47.791772Z"
    }
   },
   "cell_type": "code",
   "source": [
    "df = yf.download(symbol, start, end, interval='1h').Close.to_frame()\n",
    "df.rename(columns={\"Close\": \"price\"}, inplace=True)\n",
    "df"
   ],
   "id": "1fd724cf7b920347",
   "outputs": [
    {
     "name": "stderr",
     "output_type": "stream",
     "text": [
      "[*********************100%%**********************]  1 of 1 completed\n"
     ]
    },
    {
     "data": {
      "text/plain": [
       "                           price\n",
       "Datetime                        \n",
       "2023-01-02 00:00:00+00:00 1.0709\n",
       "2023-01-02 01:00:00+00:00 1.0707\n",
       "2023-01-02 02:00:00+00:00 1.0704\n",
       "2023-01-02 03:00:00+00:00 1.0709\n",
       "2023-01-02 04:00:00+00:00 1.0701\n",
       "...                          ...\n",
       "2023-12-29 18:00:00+00:00 1.1055\n",
       "2023-12-29 19:00:00+00:00 1.1044\n",
       "2023-12-29 20:00:00+00:00 1.1044\n",
       "2023-12-29 21:00:00+00:00 1.1040\n",
       "2023-12-29 22:00:00+00:00 1.1040\n",
       "\n",
       "[6175 rows x 1 columns]"
      ],
      "text/html": [
       "<div>\n",
       "<style scoped>\n",
       "    .dataframe tbody tr th:only-of-type {\n",
       "        vertical-align: middle;\n",
       "    }\n",
       "\n",
       "    .dataframe tbody tr th {\n",
       "        vertical-align: top;\n",
       "    }\n",
       "\n",
       "    .dataframe thead th {\n",
       "        text-align: right;\n",
       "    }\n",
       "</style>\n",
       "<table border=\"1\" class=\"dataframe\">\n",
       "  <thead>\n",
       "    <tr style=\"text-align: right;\">\n",
       "      <th></th>\n",
       "      <th>price</th>\n",
       "    </tr>\n",
       "    <tr>\n",
       "      <th>Datetime</th>\n",
       "      <th></th>\n",
       "    </tr>\n",
       "  </thead>\n",
       "  <tbody>\n",
       "    <tr>\n",
       "      <th>2023-01-02 00:00:00+00:00</th>\n",
       "      <td>1.0709</td>\n",
       "    </tr>\n",
       "    <tr>\n",
       "      <th>2023-01-02 01:00:00+00:00</th>\n",
       "      <td>1.0707</td>\n",
       "    </tr>\n",
       "    <tr>\n",
       "      <th>2023-01-02 02:00:00+00:00</th>\n",
       "      <td>1.0704</td>\n",
       "    </tr>\n",
       "    <tr>\n",
       "      <th>2023-01-02 03:00:00+00:00</th>\n",
       "      <td>1.0709</td>\n",
       "    </tr>\n",
       "    <tr>\n",
       "      <th>2023-01-02 04:00:00+00:00</th>\n",
       "      <td>1.0701</td>\n",
       "    </tr>\n",
       "    <tr>\n",
       "      <th>...</th>\n",
       "      <td>...</td>\n",
       "    </tr>\n",
       "    <tr>\n",
       "      <th>2023-12-29 18:00:00+00:00</th>\n",
       "      <td>1.1055</td>\n",
       "    </tr>\n",
       "    <tr>\n",
       "      <th>2023-12-29 19:00:00+00:00</th>\n",
       "      <td>1.1044</td>\n",
       "    </tr>\n",
       "    <tr>\n",
       "      <th>2023-12-29 20:00:00+00:00</th>\n",
       "      <td>1.1044</td>\n",
       "    </tr>\n",
       "    <tr>\n",
       "      <th>2023-12-29 21:00:00+00:00</th>\n",
       "      <td>1.1040</td>\n",
       "    </tr>\n",
       "    <tr>\n",
       "      <th>2023-12-29 22:00:00+00:00</th>\n",
       "      <td>1.1040</td>\n",
       "    </tr>\n",
       "  </tbody>\n",
       "</table>\n",
       "<p>6175 rows × 1 columns</p>\n",
       "</div>"
      ]
     },
     "execution_count": 4,
     "metadata": {},
     "output_type": "execute_result"
    }
   ],
   "execution_count": 4
  },
  {
   "metadata": {
    "ExecuteTime": {
     "end_time": "2024-08-19T05:45:30.748774Z",
     "start_time": "2024-08-19T05:45:30.741347Z"
    }
   },
   "cell_type": "code",
   "source": "df['returns'] = np.log(df['price'].div(df['price'].shift(1)))",
   "id": "7318fba77ab0dc71",
   "outputs": [],
   "execution_count": 5
  },
  {
   "metadata": {
    "ExecuteTime": {
     "end_time": "2024-08-19T06:49:28.773993Z",
     "start_time": "2024-08-19T06:49:28.131619Z"
    }
   },
   "cell_type": "code",
   "source": [
    "resultsDf = pd.DataFrame(columns=['window', 'type', 'result'])\n",
    "\n",
    "for window in range(1,100):\n",
    "    df['position_momentum'] = - np.sign(df['returns'].rolling(window=window).mean())\n",
    "    df['position_contrarian'] = - df['position_momentum']\n",
    "    df['strategy_momentum'] = df.position_momentum.shift(1) * df.returns\n",
    "    df['strategy_contrarian'] = df.position_contrarian.shift(1) * df.returns\n",
    "    df['trades'] = df.position_momentum.diff().fillna(0).abs()\n",
    "    df['strategy_momentum_net'] = df.strategy_momentum - df.trades*ptc\n",
    "    df['cstrategy_momentum_net'] = df.strategy_momentum_net.cumsum().apply(np.exp)\n",
    "    df['strategy_contrarian_net'] = df.strategy_contrarian - df.trades*ptc\n",
    "    df['cstrategy_contrarian_net'] = df.strategy_contrarian_net.cumsum().apply(np.exp)\n",
    "    \n",
    "    result_momentum = df['cstrategy_momentum_net'].iloc[-1]\n",
    "    result_contrarian = df['cstrategy_contrarian_net'].iloc[-1]\n",
    "\n",
    "    resultDictMomentum = {'window': window, 'type': 'momentum', 'result': result_momentum}\n",
    "    resultDictContrarian = {'window': window, 'type': 'contrarian', 'result': result_contrarian}\n",
    "    resultsDf.loc[len(resultsDf)] = resultDictMomentum\n",
    "    resultsDf.loc[len(resultsDf)] = resultDictContrarian\n",
    "    print('Window {} | Momentum: {} | Contrarian {}'.format(window, result_momentum, result_contrarian))\n",
    "    \n",
    "    if window == 74:\n",
    "        df.cstrategy_momentum_net.plot()\n",
    "        plt.show()\n",
    "\n",
    "resultsDf"
   ],
   "id": "a77a173439b6a207",
   "outputs": [
    {
     "name": "stdout",
     "output_type": "stream",
     "text": [
      "Window 1 | Momentum: 0.7311619604300353 | Contrarian 0.5649454387802865\n",
      "Window 2 | Momentum: 0.7891492975407197 | Contrarian 0.7092317266065662\n",
      "Window 3 | Momentum: 0.7841178725906708 | Contrarian 0.7997253129198155\n",
      "Window 4 | Momentum: 0.8220469698335945 | Contrarian 0.8074450859137979\n",
      "Window 5 | Momentum: 0.7787906723271731 | Contrarian 0.8919465577888712\n",
      "Window 6 | Momentum: 0.8570643802547693 | Contrarian 0.8328138254764675\n",
      "Window 7 | Momentum: 0.8582436041474408 | Contrarian 0.8569527150175953\n",
      "Window 8 | Momentum: 0.8455762934694236 | Contrarian 0.8972271450427141\n",
      "Window 9 | Momentum: 0.8427263671891038 | Contrarian 0.9052679621631246\n",
      "Window 10 | Momentum: 0.8470477508665001 | Contrarian 0.9127173613852249\n",
      "Window 11 | Momentum: 0.8445405097807132 | Contrarian 0.9200075602726455\n",
      "Window 12 | Momentum: 0.9014317469114419 | Contrarian 0.8686623034605611\n",
      "Window 13 | Momentum: 0.9669858441050878 | Contrarian 0.8174443737858414\n",
      "Window 14 | Momentum: 0.9141270221237997 | Contrarian 0.8816610065281387\n",
      "Window 15 | Momentum: 0.908707251411159 | Contrarian 0.8913573788767326\n",
      "Window 16 | Momentum: 0.8824608337610212 | Contrarian 0.9337849320965647\n",
      "Window 17 | Momentum: 0.8928076222238794 | Contrarian 0.9296414954971877\n",
      "Window 18 | Momentum: 0.9661992013730667 | Contrarian 0.8618899840741227\n",
      "Window 19 | Momentum: 0.9040713317993648 | Contrarian 0.9370920495815893\n",
      "Window 20 | Momentum: 0.9301384204591691 | Contrarian 0.9138659275716224\n",
      "Window 21 | Momentum: 0.86147280655513 | Contrarian 0.9905455866522042\n",
      "Window 22 | Momentum: 0.8976629779638864 | Contrarian 0.963882402252687\n",
      "Window 23 | Momentum: 0.8375061571522614 | Contrarian 1.0469593723182988\n",
      "Window 24 | Momentum: 0.8424086939203326 | Contrarian 1.0379841748750758\n",
      "Window 25 | Momentum: 0.8331552890636014 | Contrarian 1.0535947258293519\n",
      "Window 26 | Momentum: 0.8659019836886062 | Contrarian 1.0137498641762148\n",
      "Window 27 | Momentum: 0.8712240366258512 | Contrarian 1.010354917946375\n",
      "Window 28 | Momentum: 0.9111870789897881 | Contrarian 0.9703380908264552\n",
      "Window 29 | Momentum: 0.8864235263169623 | Contrarian 0.9991068065448763\n",
      "Window 30 | Momentum: 0.9059328547734089 | Contrarian 0.9808493295494343\n",
      "Window 31 | Momentum: 0.9319887589342335 | Contrarian 0.9471034082336149\n",
      "Window 32 | Momentum: 0.9453918539161543 | Contrarian 0.938868455912997\n",
      "Window 33 | Momentum: 0.9633278587963079 | Contrarian 0.9183270261887889\n",
      "Window 34 | Momentum: 0.979618881363686 | Contrarian 0.9060652127114951\n",
      "Window 35 | Momentum: 0.9500586829851965 | Contrarian 0.9384107976299908\n",
      "Window 36 | Momentum: 0.9622051574235214 | Contrarian 0.9234866663993433\n",
      "Window 37 | Momentum: 0.9734271039622266 | Contrarian 0.9158829899706931\n",
      "Window 38 | Momentum: 0.9963440959944316 | Contrarian 0.8933291736810263\n",
      "Window 39 | Momentum: 0.9809990409344135 | Contrarian 0.907806188421335\n",
      "Window 40 | Momentum: 0.9844240395456848 | Contrarian 0.9026431675026824\n",
      "Window 41 | Momentum: 0.986348043317312 | Contrarian 0.9038851270966864\n",
      "Window 42 | Momentum: 1.0009239615353747 | Contrarian 0.8927004499213456\n",
      "Window 43 | Momentum: 0.9709601860106107 | Contrarian 0.9233163704478625\n",
      "Window 44 | Momentum: 0.9989412454470165 | Contrarian 0.9019442406386059\n",
      "Window 45 | Momentum: 0.9668004926651165 | Contrarian 0.9376314260170161\n",
      "Window 46 | Momentum: 0.9664889418327561 | Contrarian 0.9421042275237398\n",
      "Window 47 | Momentum: 1.017925691464607 | Contrarian 0.8974802171482411\n",
      "Window 48 | Momentum: 1.0794170855298322 | Contrarian 0.8435416950146291\n",
      "Window 49 | Momentum: 1.0818125553263953 | Contrarian 0.8384127100966166\n",
      "Window 50 | Momentum: 1.0360273238072546 | Contrarian 0.876922514485563\n",
      "Window 51 | Momentum: 1.0712251179145877 | Contrarian 0.8462297134857008\n",
      "Window 52 | Momentum: 1.0331771015756177 | Contrarian 0.8798294822605828\n",
      "Window 53 | Momentum: 1.0163411603855326 | Contrarian 0.9008756694617492\n",
      "Window 54 | Momentum: 1.0420929620952515 | Contrarian 0.8713349094843893\n",
      "Window 55 | Momentum: 1.0238384860661522 | Contrarian 0.8898263135310372\n",
      "Window 56 | Momentum: 1.0515796598126805 | Contrarian 0.8610832370117801\n",
      "Window 57 | Momentum: 1.042238808918869 | Contrarian 0.8736321370532117\n",
      "Window 58 | Momentum: 1.0230211408284282 | Contrarian 0.8910312575982406\n",
      "Window 59 | Momentum: 1.0124075582289234 | Contrarian 0.9023719382484648\n",
      "Window 60 | Momentum: 0.9850572760525302 | Contrarian 0.9310338001139532\n",
      "Window 61 | Momentum: 1.0540094984099235 | Contrarian 0.8653142911429517\n",
      "Window 62 | Momentum: 1.0257485686329026 | Contrarian 0.8931086701570612\n",
      "Window 63 | Momentum: 1.0372676927026114 | Contrarian 0.8876097227273352\n",
      "Window 64 | Momentum: 1.0346182228957743 | Contrarian 0.8874185724118685\n",
      "Window 65 | Momentum: 1.0261185508177246 | Contrarian 0.8972539170840257\n",
      "Window 66 | Momentum: 1.0056523620356435 | Contrarian 0.9155140721293856\n",
      "Window 67 | Momentum: 0.9557531531181722 | Contrarian 0.9582505100372459\n",
      "Window 68 | Momentum: 0.9535957553601883 | Contrarian 0.960951219569335\n",
      "Window 69 | Momentum: 0.9680263882092603 | Contrarian 0.945576671909695\n",
      "Window 70 | Momentum: 1.0105301877959394 | Contrarian 0.9093281270789828\n",
      "Window 71 | Momentum: 1.0709343308567398 | Contrarian 0.850694948754345\n",
      "Window 72 | Momentum: 1.0868475577618806 | Contrarian 0.842433712736417\n",
      "Window 73 | Momentum: 1.0849118759992846 | Contrarian 0.8453420405305728\n",
      "Window 74 | Momentum: 1.1200608264018375 | Contrarian 0.8169997258317255\n"
     ]
    },
    {
     "data": {
      "text/plain": [
       "<Figure size 800x550 with 1 Axes>"
      ],
      "image/png": "[encoded data removed]"
     },
     "metadata": {},
     "output_type": "display_data"
    },
    {
     "name": "stdout",
     "output_type": "stream",
     "text": [
      "Window 75 | Momentum: 1.1063146155672297 | Contrarian 0.8257761018080966\n",
      "Window 76 | Momentum: 1.0698362447525775 | Contrarian 0.853222644990995\n",
      "Window 77 | Momentum: 1.0099252587938858 | Contrarian 0.9053427023662863\n",
      "Window 78 | Momentum: 1.0579055669755724 | Contrarian 0.8642817388686073\n",
      "Window 79 | Momentum: 1.0595428361871237 | Contrarian 0.8648626301765476\n",
      "Window 80 | Momentum: 1.0628991447213034 | Contrarian 0.8568882958831503\n",
      "Window 81 | Momentum: 1.0631551558858456 | Contrarian 0.8643174215334566\n",
      "Window 82 | Momentum: 1.0544956626156838 | Contrarian 0.8752899519073011\n",
      "Window 83 | Momentum: 1.0314986958493535 | Contrarian 0.8972889560867013\n",
      "Window 84 | Momentum: 1.0209205017004312 | Contrarian 0.9101124418074681\n",
      "Window 85 | Momentum: 1.0310418353616746 | Contrarian 0.9011782246138939\n",
      "Window 86 | Momentum: 1.0447030933306978 | Contrarian 0.8844750083087716\n",
      "Window 87 | Momentum: 1.0408364843471798 | Contrarian 0.8877607492145289\n",
      "Window 88 | Momentum: 1.0641413064479202 | Contrarian 0.8668752152141784\n",
      "Window 89 | Momentum: 1.0910143159038845 | Contrarian 0.8469309372795365\n",
      "Window 90 | Momentum: 1.0010210376362203 | Contrarian 0.9292348258938745\n",
      "Window 91 | Momentum: 1.0488239120371259 | Contrarian 0.8795353666695235\n",
      "Window 92 | Momentum: 1.0530969609006557 | Contrarian 0.8818155729693458\n",
      "Window 93 | Momentum: 1.012216577389436 | Contrarian 0.9164124318129255\n",
      "Window 94 | Momentum: 1.0559998063689182 | Contrarian 0.8735586109786331\n",
      "Window 95 | Momentum: 1.0179403299458674 | Contrarian 0.9122708597450626\n",
      "Window 96 | Momentum: 1.0074595188225857 | Contrarian 0.9253467205671362\n",
      "Window 97 | Momentum: 1.01561683875859 | Contrarian 0.9179144400423027\n",
      "Window 98 | Momentum: 1.0142194994177045 | Contrarian 0.9146026631704265\n",
      "Window 99 | Momentum: 1.057806979829814 | Contrarian 0.878376176760879\n"
     ]
    },
    {
     "data": {
      "text/plain": [
       "     window        type  result\n",
       "0         1    momentum  0.7312\n",
       "1         1  contrarian  0.5649\n",
       "2         2    momentum  0.7891\n",
       "3         2  contrarian  0.7092\n",
       "4         3    momentum  0.7841\n",
       "..      ...         ...     ...\n",
       "193      97  contrarian  0.9179\n",
       "194      98    momentum  1.0142\n",
       "195      98  contrarian  0.9146\n",
       "196      99    momentum  1.0578\n",
       "197      99  contrarian  0.8784\n",
       "\n",
       "[198 rows x 3 columns]"
      ],
      "text/html": [
       "<div>\n",
       "<style scoped>\n",
       "    .dataframe tbody tr th:only-of-type {\n",
       "        vertical-align: middle;\n",
       "    }\n",
       "\n",
       "    .dataframe tbody tr th {\n",
       "        vertical-align: top;\n",
       "    }\n",
       "\n",
       "    .dataframe thead th {\n",
       "        text-align: right;\n",
       "    }\n",
       "</style>\n",
       "<table border=\"1\" class=\"dataframe\">\n",
       "  <thead>\n",
       "    <tr style=\"text-align: right;\">\n",
       "      <th></th>\n",
       "      <th>window</th>\n",
       "      <th>type</th>\n",
       "      <th>result</th>\n",
       "    </tr>\n",
       "  </thead>\n",
       "  <tbody>\n",
       "    <tr>\n",
       "      <th>0</th>\n",
       "      <td>1</td>\n",
       "      <td>momentum</td>\n",
       "      <td>0.7312</td>\n",
       "    </tr>\n",
       "    <tr>\n",
       "      <th>1</th>\n",
       "      <td>1</td>\n",
       "      <td>contrarian</td>\n",
       "      <td>0.5649</td>\n",
       "    </tr>\n",
       "    <tr>\n",
       "      <th>2</th>\n",
       "      <td>2</td>\n",
       "      <td>momentum</td>\n",
       "      <td>0.7891</td>\n",
       "    </tr>\n",
       "    <tr>\n",
       "      <th>3</th>\n",
       "      <td>2</td>\n",
       "      <td>contrarian</td>\n",
       "      <td>0.7092</td>\n",
       "    </tr>\n",
       "    <tr>\n",
       "      <th>4</th>\n",
       "      <td>3</td>\n",
       "      <td>momentum</td>\n",
       "      <td>0.7841</td>\n",
       "    </tr>\n",
       "    <tr>\n",
       "      <th>...</th>\n",
       "      <td>...</td>\n",
       "      <td>...</td>\n",
       "      <td>...</td>\n",
       "    </tr>\n",
       "    <tr>\n",
       "      <th>193</th>\n",
       "      <td>97</td>\n",
       "      <td>contrarian</td>\n",
       "      <td>0.9179</td>\n",
       "    </tr>\n",
       "    <tr>\n",
       "      <th>194</th>\n",
       "      <td>98</td>\n",
       "      <td>momentum</td>\n",
       "      <td>1.0142</td>\n",
       "    </tr>\n",
       "    <tr>\n",
       "      <th>195</th>\n",
       "      <td>98</td>\n",
       "      <td>contrarian</td>\n",
       "      <td>0.9146</td>\n",
       "    </tr>\n",
       "    <tr>\n",
       "      <th>196</th>\n",
       "      <td>99</td>\n",
       "      <td>momentum</td>\n",
       "      <td>1.0578</td>\n",
       "    </tr>\n",
       "    <tr>\n",
       "      <th>197</th>\n",
       "      <td>99</td>\n",
       "      <td>contrarian</td>\n",
       "      <td>0.8784</td>\n",
       "    </tr>\n",
       "  </tbody>\n",
       "</table>\n",
       "<p>198 rows × 3 columns</p>\n",
       "</div>"
      ]
     },
     "execution_count": 44,
     "metadata": {},
     "output_type": "execute_result"
    }
   ],
   "execution_count": 44
  },
  {
   "metadata": {
    "ExecuteTime": {
     "end_time": "2024-08-19T06:47:29.929058Z",
     "start_time": "2024-08-19T06:47:29.753536Z"
    }
   },
   "cell_type": "code",
   "source": [
    "resultsDf['result'].where(resultsDf['type'] == 'momentum')\n",
    "resultsDf['result'].where(resultsDf['type'] == 'contrarian').hist(bins=100)"
   ],
   "id": "9cc8769373ab46ac",
   "outputs": [
    {
     "data": {
      "text/plain": [
       "<Axes: >"
      ]
     },
     "execution_count": 40,
     "metadata": {},
     "output_type": "execute_result"
    },
    {
     "data": {
      "text/plain": [
       "<Figure size 800x550 with 1 Axes>"
      ],
      "image/png": "[encoded data removed]"
     },
     "metadata": {},
     "output_type": "display_data"
    }
   ],
   "execution_count": 40
  },
  {
   "metadata": {
    "ExecuteTime": {
     "end_time": "2024-08-19T06:47:46.850646Z",
     "start_time": "2024-08-19T06:47:46.839276Z"
    }
   },
   "cell_type": "code",
   "source": "resultsDf['result'].where(resultsDf['type'] == 'momentum').describe()",
   "id": "99449f197f7e7863",
   "outputs": [
    {
     "data": {
      "text/plain": [
       "count   99.0000\n",
       "mean     0.9756\n",
       "std      0.0857\n",
       "min      0.7312\n",
       "25%      0.9099\n",
       "50%      1.0009\n",
       "75%      1.0415\n",
       "max      1.1201\n",
       "Name: result, dtype: float64"
      ]
     },
     "execution_count": 41,
     "metadata": {},
     "output_type": "execute_result"
    }
   ],
   "execution_count": 41
  },
  {
   "metadata": {
    "ExecuteTime": {
     "end_time": "2024-08-19T06:47:50.714003Z",
     "start_time": "2024-08-19T06:47:50.532611Z"
    }
   },
   "cell_type": "code",
   "source": "resultsDf['result'].where(resultsDf['type'] == 'contrarian').hist(bins=100)",
   "id": "8834e2b88f74b065",
   "outputs": [
    {
     "data": {
      "text/plain": [
       "<Axes: >"
      ]
     },
     "execution_count": 42,
     "metadata": {},
     "output_type": "execute_result"
    },
    {
     "data": {
      "text/plain": [
       "<Figure size 800x550 with 1 Axes>"
      ],
      "image/png": "[encoded data removed]"
     },
     "metadata": {},
     "output_type": "display_data"
    }
   ],
   "execution_count": 42
  },
  {
   "metadata": {
    "ExecuteTime": {
     "end_time": "2024-08-19T06:48:00.485679Z",
     "start_time": "2024-08-19T06:48:00.473723Z"
    }
   },
   "cell_type": "code",
   "source": "resultsDf['result'].where(resultsDf['type'] == 'contrarian').describe()",
   "id": "57ba20f19c1151b0",
   "outputs": [
    {
     "data": {
      "text/plain": [
       "count   99.0000\n",
       "mean     0.8970\n",
       "std      0.0626\n",
       "min      0.5649\n",
       "25%      0.8678\n",
       "50%      0.8973\n",
       "75%      0.9234\n",
       "max      1.0536\n",
       "Name: result, dtype: float64"
      ]
     },
     "execution_count": 43,
     "metadata": {},
     "output_type": "execute_result"
    }
   ],
   "execution_count": 43
  },
  {
   "metadata": {},
   "cell_type": "code",
   "outputs": [],
   "execution_count": null,
   "source": "",
   "id": "b546bd5676cec288"
  }
 ],
 "metadata": {
  "kernelspec": {
   "display_name": "Python 3",
   "language": "python",
   "name": "python3"
  },
  "language_info": {
   "codemirror_mode": {
    "name": "ipython",
    "version": 2
   },
   "file_extension": ".py",
   "mimetype": "text/x-python",
   "name": "python",
   "nbconvert_exporter": "python",
   "pygments_lexer": "ipython2",
   "version": "2.7.6"
  }
 },
 "nbformat": 4,
 "nbformat_minor": 5
}
