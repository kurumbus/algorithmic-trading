{
 "cells": [
  {
   "metadata": {
    "ExecuteTime": {
     "end_time": "2024-08-22T08:51:12.478166Z",
     "start_time": "2024-08-22T08:51:12.468409Z"
    }
   },
   "cell_type": "code",
   "source": [
    "from ib_insync import *\n",
    "import pandas as pd\n",
    "import asyncio\n",
    "from IPython.display import display, clear_output\n",
    "import matplotlib.style\n",
    "import matplotlib.pyplot as plt\n",
    "pd.options.display.float_format = '{:.6f}'.format\n",
    "plt.style.use(\"seaborn-v0_8\")\n",
    "import ib_insync.util as util2\n",
    "util2.startLoop()\n",
    "ib = IB()"
   ],
   "id": "a0268f25063e2f26",
   "outputs": [],
   "execution_count": 46
  },
  {
   "metadata": {
    "ExecuteTime": {
     "end_time": "2024-08-22T08:51:14.637662Z",
     "start_time": "2024-08-22T08:51:14.066264Z"
    }
   },
   "cell_type": "code",
   "source": "connection = ib.connect()",
   "id": "3c14ef73db8755fd",
   "outputs": [],
   "execution_count": 47
  },
  {
   "metadata": {
    "ExecuteTime": {
     "end_time": "2024-08-22T08:51:16.151354Z",
     "start_time": "2024-08-22T08:51:16.143836Z"
    }
   },
   "cell_type": "code",
   "source": [
    "contract = Forex('EURUSD')\n",
    "contract"
   ],
   "id": "21e01d4293e26487",
   "outputs": [
    {
     "data": {
      "text/plain": [
       "Forex('EURUSD', exchange='IDEALPRO')"
      ]
     },
     "execution_count": 48,
     "metadata": {},
     "output_type": "execute_result"
    }
   ],
   "execution_count": 48
  },
  {
   "metadata": {
    "ExecuteTime": {
     "end_time": "2024-08-22T08:51:22.888719Z",
     "start_time": "2024-08-22T08:51:21.464875Z"
    }
   },
   "cell_type": "code",
   "source": [
    "bars = ib.reqHistoricalData(\n",
    "    contract,\n",
    "    endDateTime='',\n",
    "    durationStr='300 S',\n",
    "    barSizeSetting='1 min',\n",
    "    whatToShow='MIDPOINT',\n",
    "    useRTH=True,\n",
    "    formatDate=2,\n",
    "    keepUpToDate=True\n",
    ")\n",
    "last_bar_date = bars[-1].date"
   ],
   "id": "5363dec8b2952c67",
   "outputs": [],
   "execution_count": 49
  },
  {
   "metadata": {
    "ExecuteTime": {
     "end_time": "2024-08-22T08:51:24.549352Z",
     "start_time": "2024-08-22T08:51:24.539854Z"
    }
   },
   "cell_type": "code",
   "source": [
    "def onBarUpdate(bars, hasNewBar):\n",
    "    global df, last_bar_date\n",
    "    if bars[-1].date > last_bar_date:\n",
    "        last_bar_date = bars[-1].date\n",
    "        \n",
    "        df = pd.DataFrame(bars)[['date', 'open', 'high', 'low', 'close']]\n",
    "        df.set_index('date', inplace=True)\n",
    "        clear_output(wait=True)\n",
    "        display(df)"
   ],
   "id": "71418fb14125def5",
   "outputs": [],
   "execution_count": 50
  },
  {
   "metadata": {
    "ExecuteTime": {
     "end_time": "2024-08-22T08:51:32.169779Z",
     "start_time": "2024-08-22T08:51:32.164666Z"
    }
   },
   "cell_type": "code",
   "source": "bars.updateEvent += onBarUpdate",
   "id": "3e4552745d0978ce",
   "outputs": [],
   "execution_count": 52
  },
  {
   "metadata": {
    "ExecuteTime": {
     "end_time": "2024-08-22T08:51:33.665912Z",
     "start_time": "2024-08-22T08:51:33.656861Z"
    }
   },
   "cell_type": "code",
   "source": "bars.updateEvent",
   "id": "74a879d9476c5366",
   "outputs": [
    {
     "data": {
      "text/plain": [
       "Event<updateEvent, [[None, None, <function onBarUpdate at 0x000001BB77166700>]]>"
      ]
     },
     "execution_count": 53,
     "metadata": {},
     "output_type": "execute_result"
    }
   ],
   "execution_count": 53
  },
  {
   "metadata": {
    "ExecuteTime": {
     "end_time": "2024-08-22T08:51:37.714284Z",
     "start_time": "2024-08-22T08:51:37.706057Z"
    }
   },
   "cell_type": "code",
   "source": "last_bar_date",
   "id": "10d21f75bdd22d81",
   "outputs": [
    {
     "data": {
      "text/plain": [
       "datetime.datetime(2024, 8, 22, 8, 51, tzinfo=datetime.timezone.utc)"
      ]
     },
     "execution_count": 54,
     "metadata": {},
     "output_type": "execute_result"
    }
   ],
   "execution_count": 54
  },
  {
   "metadata": {
    "ExecuteTime": {
     "end_time": "2024-08-22T08:54:39.008919Z",
     "start_time": "2024-08-22T08:54:39.001403Z"
    }
   },
   "cell_type": "code",
   "source": "ib.disconnect()",
   "id": "6c7fc1428fcc5050",
   "outputs": [],
   "execution_count": 55
  }
 ],
 "metadata": {
  "kernelspec": {
   "display_name": "Python 3",
   "language": "python",
   "name": "python3"
  },
  "language_info": {
   "codemirror_mode": {
    "name": "ipython",
    "version": 2
   },
   "file_extension": ".py",
   "mimetype": "text/x-python",
   "name": "python",
   "nbconvert_exporter": "python",
   "pygments_lexer": "ipython2",
   "version": "2.7.6"
  }
 },
 "nbformat": 4,
 "nbformat_minor": 5
}
