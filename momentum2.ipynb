{
 "cells": [
  {
   "cell_type": "code",
   "id": "initial_id",
   "metadata": {
    "collapsed": true,
    "ExecuteTime": {
     "end_time": "2024-08-21T09:02:46.360414Z",
     "start_time": "2024-08-21T09:02:46.349085Z"
    }
   },
   "source": [
    "import pandas as pd\n",
    "import numpy as np\n",
    "import matplotlib.style\n",
    "import matplotlib.pyplot as plt\n",
    "import yfinance as yf\n",
    "pd.options.display.float_format = '{:.4f}'.format\n",
    "plt.style.use(\"seaborn-v0_8\")\n",
    "from itertools import product"
   ],
   "outputs": [],
   "execution_count": 17
  },
  {
   "metadata": {
    "ExecuteTime": {
     "end_time": "2024-08-21T09:02:46.383850Z",
     "start_time": "2024-08-21T09:02:46.376957Z"
    }
   },
   "cell_type": "code",
   "source": [
    "symbol = \"EURUSD=X\"\n",
    "start = \"2005-01-01\"\n",
    "end = \"2024-01-01\"\n",
    "window = 3"
   ],
   "id": "320d56958ec35c91",
   "outputs": [],
   "execution_count": 18
  },
  {
   "metadata": {
    "ExecuteTime": {
     "end_time": "2024-08-21T09:02:46.471404Z",
     "start_time": "2024-08-21T09:02:46.408647Z"
    }
   },
   "cell_type": "code",
   "source": [
    "df = yf.download(symbol, start, end, interval='1d').Close.to_frame()\n",
    "df.rename(columns={\"Close\": \"price\"}, inplace=True)\n",
    "df"
   ],
   "id": "b59ebbc71409dfb5",
   "outputs": [
    {
     "name": "stderr",
     "output_type": "stream",
     "text": [
      "[*********************100%%**********************]  1 of 1 completed\n"
     ]
    },
    {
     "data": {
      "text/plain": [
       "            price\n",
       "Date             \n",
       "2005-01-03 1.3470\n",
       "2005-01-04 1.3282\n",
       "2005-01-05 1.3280\n",
       "2005-01-06 1.3183\n",
       "2005-01-07 1.3061\n",
       "...           ...\n",
       "2023-12-25 1.1027\n",
       "2023-12-26 1.1020\n",
       "2023-12-27 1.1043\n",
       "2023-12-28 1.1109\n",
       "2023-12-29 1.1068\n",
       "\n",
       "[4927 rows x 1 columns]"
      ],
      "text/html": [
       "<div>\n",
       "<style scoped>\n",
       "    .dataframe tbody tr th:only-of-type {\n",
       "        vertical-align: middle;\n",
       "    }\n",
       "\n",
       "    .dataframe tbody tr th {\n",
       "        vertical-align: top;\n",
       "    }\n",
       "\n",
       "    .dataframe thead th {\n",
       "        text-align: right;\n",
       "    }\n",
       "</style>\n",
       "<table border=\"1\" class=\"dataframe\">\n",
       "  <thead>\n",
       "    <tr style=\"text-align: right;\">\n",
       "      <th></th>\n",
       "      <th>price</th>\n",
       "    </tr>\n",
       "    <tr>\n",
       "      <th>Date</th>\n",
       "      <th></th>\n",
       "    </tr>\n",
       "  </thead>\n",
       "  <tbody>\n",
       "    <tr>\n",
       "      <th>2005-01-03</th>\n",
       "      <td>1.3470</td>\n",
       "    </tr>\n",
       "    <tr>\n",
       "      <th>2005-01-04</th>\n",
       "      <td>1.3282</td>\n",
       "    </tr>\n",
       "    <tr>\n",
       "      <th>2005-01-05</th>\n",
       "      <td>1.3280</td>\n",
       "    </tr>\n",
       "    <tr>\n",
       "      <th>2005-01-06</th>\n",
       "      <td>1.3183</td>\n",
       "    </tr>\n",
       "    <tr>\n",
       "      <th>2005-01-07</th>\n",
       "      <td>1.3061</td>\n",
       "    </tr>\n",
       "    <tr>\n",
       "      <th>...</th>\n",
       "      <td>...</td>\n",
       "    </tr>\n",
       "    <tr>\n",
       "      <th>2023-12-25</th>\n",
       "      <td>1.1027</td>\n",
       "    </tr>\n",
       "    <tr>\n",
       "      <th>2023-12-26</th>\n",
       "      <td>1.1020</td>\n",
       "    </tr>\n",
       "    <tr>\n",
       "      <th>2023-12-27</th>\n",
       "      <td>1.1043</td>\n",
       "    </tr>\n",
       "    <tr>\n",
       "      <th>2023-12-28</th>\n",
       "      <td>1.1109</td>\n",
       "    </tr>\n",
       "    <tr>\n",
       "      <th>2023-12-29</th>\n",
       "      <td>1.1068</td>\n",
       "    </tr>\n",
       "  </tbody>\n",
       "</table>\n",
       "<p>4927 rows × 1 columns</p>\n",
       "</div>"
      ]
     },
     "execution_count": 19,
     "metadata": {},
     "output_type": "execute_result"
    }
   ],
   "execution_count": 19
  },
  {
   "metadata": {
    "ExecuteTime": {
     "end_time": "2024-08-21T09:02:46.634926Z",
     "start_time": "2024-08-21T09:02:46.618764Z"
    }
   },
   "cell_type": "code",
   "source": [
    "spread = 1.5 * 0.0001\n",
    "halfspread = spread / 2\n",
    "ptc = halfspread / df.price.mean()\n",
    "ptc"
   ],
   "id": "a29dca83c4191ac7",
   "outputs": [
    {
     "data": {
      "text/plain": [
       "np.float64(6.06616684551594e-05)"
      ]
     },
     "execution_count": 20,
     "metadata": {},
     "output_type": "execute_result"
    }
   ],
   "execution_count": 20
  },
  {
   "metadata": {
    "ExecuteTime": {
     "end_time": "2024-08-21T09:02:46.799882Z",
     "start_time": "2024-08-21T09:02:46.772785Z"
    }
   },
   "cell_type": "code",
   "source": [
    "df['returns'] = np.log(df['price'].div(df['price'].shift(1)))\n",
    "df['returns_rolling'] = df['returns'].rolling(window=window).mean()\n",
    "df['position'] = np.sign(df['returns_rolling'].rolling(window=window).mean())\n",
    "df['strategy'] = df.position.shift(1) * df.returns\n",
    "df['creturns'] = df['returns'].cumsum().apply(np.exp)\n",
    "df['cstrategy'] = df['strategy'].cumsum().apply(np.exp)\n",
    "df['trades'] = df.position.diff().fillna(0).abs()\n",
    "df['strategy_net'] = df.strategy - df.trades*ptc\n",
    "df['cstrategy_net'] = df.strategy_net.cumsum().apply(np.exp)"
   ],
   "id": "3e35e1320ac70d2a",
   "outputs": [],
   "execution_count": 21
  },
  {
   "metadata": {
    "ExecuteTime": {
     "end_time": "2024-08-21T09:02:47.399941Z",
     "start_time": "2024-08-21T09:02:46.897693Z"
    }
   },
   "cell_type": "code",
   "source": [
    "df.cstrategy_net.plot()\n",
    "plt.show()"
   ],
   "id": "b45538884bc49de2",
   "outputs": [
    {
     "data": {
      "text/plain": [
       "<Figure size 800x550 with 1 Axes>"
      ],
      "image/png": "[encoded data removed]"
     },
     "metadata": {},
     "output_type": "display_data"
    }
   ],
   "execution_count": 22
  }
 ],
 "metadata": {
  "kernelspec": {
   "display_name": "Python 3",
   "language": "python",
   "name": "python3"
  },
  "language_info": {
   "codemirror_mode": {
    "name": "ipython",
    "version": 2
   },
   "file_extension": ".py",
   "mimetype": "text/x-python",
   "name": "python",
   "nbconvert_exporter": "python",
   "pygments_lexer": "ipython2",
   "version": "2.7.6"
  }
 },
 "nbformat": 4,
 "nbformat_minor": 5
}
