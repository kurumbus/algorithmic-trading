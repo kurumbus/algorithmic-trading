{
 "cells": [
  {
   "cell_type": "code",
   "id": "initial_id",
   "metadata": {
    "collapsed": true,
    "ExecuteTime": {
     "end_time": "2024-08-21T12:42:23.103154Z",
     "start_time": "2024-08-21T12:42:22.668470Z"
    }
   },
   "source": [
    "from ib_insync import *\n",
    "util.startLoop() # required in Jupyter (interactive environments), not in scripts "
   ],
   "outputs": [],
   "execution_count": 2
  },
  {
   "metadata": {
    "ExecuteTime": {
     "end_time": "2024-08-21T12:42:23.114004Z",
     "start_time": "2024-08-21T12:42:23.108163Z"
    }
   },
   "cell_type": "code",
   "source": "ib = IB()",
   "id": "c184e4d88dd268c2",
   "outputs": [],
   "execution_count": 3
  },
  {
   "metadata": {
    "ExecuteTime": {
     "end_time": "2024-08-21T12:42:27.402056Z",
     "start_time": "2024-08-21T12:42:23.146295Z"
    }
   },
   "cell_type": "code",
   "source": "ib.connect()",
   "id": "a208a046e1378d59",
   "outputs": [
    {
     "name": "stderr",
     "output_type": "stream",
     "text": [
      "Peer closed connection. clientId 1 already in use?\n",
      "API connection failed: TimeoutError()\n"
     ]
    },
    {
     "ename": "TimeoutError",
     "evalue": "",
     "output_type": "error",
     "traceback": [
      "\u001B[1;31m---------------------------------------------------------------------------\u001B[0m",
      "\u001B[1;31mCancelledError\u001B[0m                            Traceback (most recent call last)",
      "File \u001B[1;32m~\\anaconda3\\Lib\\asyncio\\tasks.py:520\u001B[0m, in \u001B[0;36mwait_for\u001B[1;34m(fut, timeout)\u001B[0m\n\u001B[0;32m    519\u001B[0m \u001B[38;5;28;01masync\u001B[39;00m \u001B[38;5;28;01mwith\u001B[39;00m timeouts\u001B[38;5;241m.\u001B[39mtimeout(timeout):\n\u001B[1;32m--> 520\u001B[0m     \u001B[38;5;28;01mreturn\u001B[39;00m \u001B[38;5;28;01mawait\u001B[39;00m fut\n",
      "File \u001B[1;32m~\\anaconda3\\Lib\\asyncio\\futures.py:287\u001B[0m, in \u001B[0;36mFuture.__await__\u001B[1;34m(self)\u001B[0m\n\u001B[0;32m    286\u001B[0m     \u001B[38;5;28mself\u001B[39m\u001B[38;5;241m.\u001B[39m_asyncio_future_blocking \u001B[38;5;241m=\u001B[39m \u001B[38;5;28;01mTrue\u001B[39;00m\n\u001B[1;32m--> 287\u001B[0m     \u001B[38;5;28;01myield\u001B[39;00m \u001B[38;5;28mself\u001B[39m  \u001B[38;5;66;03m# This tells Task to wait for completion.\u001B[39;00m\n\u001B[0;32m    288\u001B[0m \u001B[38;5;28;01mif\u001B[39;00m \u001B[38;5;129;01mnot\u001B[39;00m \u001B[38;5;28mself\u001B[39m\u001B[38;5;241m.\u001B[39mdone():\n",
      "File \u001B[1;32m~\\anaconda3\\Lib\\asyncio\\tasks.py:385\u001B[0m, in \u001B[0;36mTask.__wakeup\u001B[1;34m(self, future)\u001B[0m\n\u001B[0;32m    384\u001B[0m \u001B[38;5;28;01mtry\u001B[39;00m:\n\u001B[1;32m--> 385\u001B[0m     \u001B[43mfuture\u001B[49m\u001B[38;5;241;43m.\u001B[39;49m\u001B[43mresult\u001B[49m\u001B[43m(\u001B[49m\u001B[43m)\u001B[49m\n\u001B[0;32m    386\u001B[0m \u001B[38;5;28;01mexcept\u001B[39;00m \u001B[38;5;167;01mBaseException\u001B[39;00m \u001B[38;5;28;01mas\u001B[39;00m exc:\n\u001B[0;32m    387\u001B[0m     \u001B[38;5;66;03m# This may also be a cancellation.\u001B[39;00m\n",
      "File \u001B[1;32m~\\anaconda3\\Lib\\asyncio\\futures.py:198\u001B[0m, in \u001B[0;36mFuture.result\u001B[1;34m(self)\u001B[0m\n\u001B[0;32m    197\u001B[0m     exc \u001B[38;5;241m=\u001B[39m \u001B[38;5;28mself\u001B[39m\u001B[38;5;241m.\u001B[39m_make_cancelled_error()\n\u001B[1;32m--> 198\u001B[0m     \u001B[38;5;28;01mraise\u001B[39;00m exc\n\u001B[0;32m    199\u001B[0m \u001B[38;5;28;01mif\u001B[39;00m \u001B[38;5;28mself\u001B[39m\u001B[38;5;241m.\u001B[39m_state \u001B[38;5;241m!=\u001B[39m _FINISHED:\n",
      "\u001B[1;31mCancelledError\u001B[0m: ",
      "\nThe above exception was the direct cause of the following exception:\n",
      "\u001B[1;31mTimeoutError\u001B[0m                              Traceback (most recent call last)",
      "Cell \u001B[1;32mIn[4], line 1\u001B[0m\n\u001B[1;32m----> 1\u001B[0m \u001B[43mib\u001B[49m\u001B[38;5;241;43m.\u001B[39;49m\u001B[43mconnect\u001B[49m\u001B[43m(\u001B[49m\u001B[43m)\u001B[49m\n",
      "File \u001B[1;32mC:\\code\\trading\\v1\\pythonProject\\.venv\\Lib\\site-packages\\ib_insync\\ib.py:279\u001B[0m, in \u001B[0;36mIB.connect\u001B[1;34m(self, host, port, clientId, timeout, readonly, account)\u001B[0m\n\u001B[0;32m    257\u001B[0m \u001B[38;5;28;01mdef\u001B[39;00m \u001B[38;5;21mconnect\u001B[39m(\n\u001B[0;32m    258\u001B[0m         \u001B[38;5;28mself\u001B[39m, host: \u001B[38;5;28mstr\u001B[39m \u001B[38;5;241m=\u001B[39m \u001B[38;5;124m'\u001B[39m\u001B[38;5;124m127.0.0.1\u001B[39m\u001B[38;5;124m'\u001B[39m, port: \u001B[38;5;28mint\u001B[39m \u001B[38;5;241m=\u001B[39m \u001B[38;5;241m7497\u001B[39m, clientId: \u001B[38;5;28mint\u001B[39m \u001B[38;5;241m=\u001B[39m \u001B[38;5;241m1\u001B[39m,\n\u001B[0;32m    259\u001B[0m         timeout: \u001B[38;5;28mfloat\u001B[39m \u001B[38;5;241m=\u001B[39m \u001B[38;5;241m4\u001B[39m, readonly: \u001B[38;5;28mbool\u001B[39m \u001B[38;5;241m=\u001B[39m \u001B[38;5;28;01mFalse\u001B[39;00m, account: \u001B[38;5;28mstr\u001B[39m \u001B[38;5;241m=\u001B[39m \u001B[38;5;124m'\u001B[39m\u001B[38;5;124m'\u001B[39m):\n\u001B[0;32m    260\u001B[0m \u001B[38;5;250m    \u001B[39m\u001B[38;5;124;03m\"\"\"\u001B[39;00m\n\u001B[0;32m    261\u001B[0m \u001B[38;5;124;03m    Connect to a running TWS or IB gateway application.\u001B[39;00m\n\u001B[0;32m    262\u001B[0m \u001B[38;5;124;03m    After the connection is made the client is fully synchronized\u001B[39;00m\n\u001B[1;32m   (...)\u001B[0m\n\u001B[0;32m    277\u001B[0m \u001B[38;5;124;03m        account: Main account to receive updates for.\u001B[39;00m\n\u001B[0;32m    278\u001B[0m \u001B[38;5;124;03m    \"\"\"\u001B[39;00m\n\u001B[1;32m--> 279\u001B[0m     \u001B[38;5;28;01mreturn\u001B[39;00m \u001B[38;5;28;43mself\u001B[39;49m\u001B[38;5;241;43m.\u001B[39;49m\u001B[43m_run\u001B[49m\u001B[43m(\u001B[49m\u001B[38;5;28;43mself\u001B[39;49m\u001B[38;5;241;43m.\u001B[39;49m\u001B[43mconnectAsync\u001B[49m\u001B[43m(\u001B[49m\n\u001B[0;32m    280\u001B[0m \u001B[43m        \u001B[49m\u001B[43mhost\u001B[49m\u001B[43m,\u001B[49m\u001B[43m \u001B[49m\u001B[43mport\u001B[49m\u001B[43m,\u001B[49m\u001B[43m \u001B[49m\u001B[43mclientId\u001B[49m\u001B[43m,\u001B[49m\u001B[43m \u001B[49m\u001B[43mtimeout\u001B[49m\u001B[43m,\u001B[49m\u001B[43m \u001B[49m\u001B[43mreadonly\u001B[49m\u001B[43m,\u001B[49m\u001B[43m \u001B[49m\u001B[43maccount\u001B[49m\u001B[43m)\u001B[49m\u001B[43m)\u001B[49m\n",
      "File \u001B[1;32mC:\\code\\trading\\v1\\pythonProject\\.venv\\Lib\\site-packages\\ib_insync\\ib.py:318\u001B[0m, in \u001B[0;36mIB._run\u001B[1;34m(self, *awaitables)\u001B[0m\n\u001B[0;32m    317\u001B[0m \u001B[38;5;28;01mdef\u001B[39;00m \u001B[38;5;21m_run\u001B[39m(\u001B[38;5;28mself\u001B[39m, \u001B[38;5;241m*\u001B[39mawaitables: Awaitable):\n\u001B[1;32m--> 318\u001B[0m     \u001B[38;5;28;01mreturn\u001B[39;00m \u001B[43mutil\u001B[49m\u001B[38;5;241;43m.\u001B[39;49m\u001B[43mrun\u001B[49m\u001B[43m(\u001B[49m\u001B[38;5;241;43m*\u001B[39;49m\u001B[43mawaitables\u001B[49m\u001B[43m,\u001B[49m\u001B[43m \u001B[49m\u001B[43mtimeout\u001B[49m\u001B[38;5;241;43m=\u001B[39;49m\u001B[38;5;28;43mself\u001B[39;49m\u001B[38;5;241;43m.\u001B[39;49m\u001B[43mRequestTimeout\u001B[49m\u001B[43m)\u001B[49m\n",
      "File \u001B[1;32mC:\\code\\trading\\v1\\pythonProject\\.venv\\Lib\\site-packages\\ib_insync\\util.py:341\u001B[0m, in \u001B[0;36mrun\u001B[1;34m(timeout, *awaitables)\u001B[0m\n\u001B[0;32m    339\u001B[0m globalErrorEvent\u001B[38;5;241m.\u001B[39mconnect(onError)\n\u001B[0;32m    340\u001B[0m \u001B[38;5;28;01mtry\u001B[39;00m:\n\u001B[1;32m--> 341\u001B[0m     result \u001B[38;5;241m=\u001B[39m \u001B[43mloop\u001B[49m\u001B[38;5;241;43m.\u001B[39;49m\u001B[43mrun_until_complete\u001B[49m\u001B[43m(\u001B[49m\u001B[43mtask\u001B[49m\u001B[43m)\u001B[49m\n\u001B[0;32m    342\u001B[0m \u001B[38;5;28;01mexcept\u001B[39;00m asyncio\u001B[38;5;241m.\u001B[39mCancelledError \u001B[38;5;28;01mas\u001B[39;00m e:\n\u001B[0;32m    343\u001B[0m     \u001B[38;5;28;01mraise\u001B[39;00m globalErrorEvent\u001B[38;5;241m.\u001B[39mvalue() \u001B[38;5;129;01mor\u001B[39;00m e\n",
      "File \u001B[1;32mC:\\code\\trading\\v1\\pythonProject\\.venv\\Lib\\site-packages\\nest_asyncio.py:98\u001B[0m, in \u001B[0;36m_patch_loop.<locals>.run_until_complete\u001B[1;34m(self, future)\u001B[0m\n\u001B[0;32m     95\u001B[0m \u001B[38;5;28;01mif\u001B[39;00m \u001B[38;5;129;01mnot\u001B[39;00m f\u001B[38;5;241m.\u001B[39mdone():\n\u001B[0;32m     96\u001B[0m     \u001B[38;5;28;01mraise\u001B[39;00m \u001B[38;5;167;01mRuntimeError\u001B[39;00m(\n\u001B[0;32m     97\u001B[0m         \u001B[38;5;124m'\u001B[39m\u001B[38;5;124mEvent loop stopped before Future completed.\u001B[39m\u001B[38;5;124m'\u001B[39m)\n\u001B[1;32m---> 98\u001B[0m \u001B[38;5;28;01mreturn\u001B[39;00m \u001B[43mf\u001B[49m\u001B[38;5;241;43m.\u001B[39;49m\u001B[43mresult\u001B[49m\u001B[43m(\u001B[49m\u001B[43m)\u001B[49m\n",
      "File \u001B[1;32m~\\anaconda3\\Lib\\asyncio\\futures.py:203\u001B[0m, in \u001B[0;36mFuture.result\u001B[1;34m(self)\u001B[0m\n\u001B[0;32m    201\u001B[0m \u001B[38;5;28mself\u001B[39m\u001B[38;5;241m.\u001B[39m__log_traceback \u001B[38;5;241m=\u001B[39m \u001B[38;5;28;01mFalse\u001B[39;00m\n\u001B[0;32m    202\u001B[0m \u001B[38;5;28;01mif\u001B[39;00m \u001B[38;5;28mself\u001B[39m\u001B[38;5;241m.\u001B[39m_exception \u001B[38;5;129;01mis\u001B[39;00m \u001B[38;5;129;01mnot\u001B[39;00m \u001B[38;5;28;01mNone\u001B[39;00m:\n\u001B[1;32m--> 203\u001B[0m     \u001B[38;5;28;01mraise\u001B[39;00m \u001B[38;5;28mself\u001B[39m\u001B[38;5;241m.\u001B[39m_exception\u001B[38;5;241m.\u001B[39mwith_traceback(\u001B[38;5;28mself\u001B[39m\u001B[38;5;241m.\u001B[39m_exception_tb)\n\u001B[0;32m    204\u001B[0m \u001B[38;5;28;01mreturn\u001B[39;00m \u001B[38;5;28mself\u001B[39m\u001B[38;5;241m.\u001B[39m_result\n",
      "File \u001B[1;32m~\\anaconda3\\Lib\\asyncio\\tasks.py:316\u001B[0m, in \u001B[0;36mTask.__step_run_and_handle_result\u001B[1;34m(***failed resolving arguments***)\u001B[0m\n\u001B[0;32m    314\u001B[0m         result \u001B[38;5;241m=\u001B[39m coro\u001B[38;5;241m.\u001B[39msend(\u001B[38;5;28;01mNone\u001B[39;00m)\n\u001B[0;32m    315\u001B[0m     \u001B[38;5;28;01melse\u001B[39;00m:\n\u001B[1;32m--> 316\u001B[0m         result \u001B[38;5;241m=\u001B[39m \u001B[43mcoro\u001B[49m\u001B[38;5;241;43m.\u001B[39;49m\u001B[43mthrow\u001B[49m\u001B[43m(\u001B[49m\u001B[43mexc\u001B[49m\u001B[43m)\u001B[49m\n\u001B[0;32m    317\u001B[0m \u001B[38;5;28;01mexcept\u001B[39;00m \u001B[38;5;167;01mStopIteration\u001B[39;00m \u001B[38;5;28;01mas\u001B[39;00m exc:\n\u001B[0;32m    318\u001B[0m     \u001B[38;5;28;01mif\u001B[39;00m \u001B[38;5;28mself\u001B[39m\u001B[38;5;241m.\u001B[39m_must_cancel:\n\u001B[0;32m    319\u001B[0m         \u001B[38;5;66;03m# Task is cancelled right before coro stops.\u001B[39;00m\n",
      "File \u001B[1;32mC:\\code\\trading\\v1\\pythonProject\\.venv\\Lib\\site-packages\\ib_insync\\ib.py:1748\u001B[0m, in \u001B[0;36mIB.connectAsync\u001B[1;34m(self, host, port, clientId, timeout, readonly, account)\u001B[0m\n\u001B[0;32m   1745\u001B[0m timeout \u001B[38;5;241m=\u001B[39m timeout \u001B[38;5;129;01mor\u001B[39;00m \u001B[38;5;28;01mNone\u001B[39;00m\n\u001B[0;32m   1746\u001B[0m \u001B[38;5;28;01mtry\u001B[39;00m:\n\u001B[0;32m   1747\u001B[0m     \u001B[38;5;66;03m# establish API connection\u001B[39;00m\n\u001B[1;32m-> 1748\u001B[0m     \u001B[38;5;28;01mawait\u001B[39;00m \u001B[38;5;28mself\u001B[39m\u001B[38;5;241m.\u001B[39mclient\u001B[38;5;241m.\u001B[39mconnectAsync(host, port, clientId, timeout)\n\u001B[0;32m   1750\u001B[0m     \u001B[38;5;66;03m# autobind manual orders\u001B[39;00m\n\u001B[0;32m   1751\u001B[0m     \u001B[38;5;28;01mif\u001B[39;00m clientId \u001B[38;5;241m==\u001B[39m \u001B[38;5;241m0\u001B[39m:\n",
      "File \u001B[1;32mC:\\code\\trading\\v1\\pythonProject\\.venv\\Lib\\site-packages\\ib_insync\\client.py:217\u001B[0m, in \u001B[0;36mClient.connectAsync\u001B[1;34m(self, host, port, clientId, timeout)\u001B[0m\n\u001B[0;32m    213\u001B[0m     msg \u001B[38;5;241m=\u001B[39m \u001B[38;5;124mb\u001B[39m\u001B[38;5;124m'\u001B[39m\u001B[38;5;124mAPI\u001B[39m\u001B[38;5;130;01m\\0\u001B[39;00m\u001B[38;5;124m'\u001B[39m \u001B[38;5;241m+\u001B[39m \u001B[38;5;28mself\u001B[39m\u001B[38;5;241m.\u001B[39m_prefix(\u001B[38;5;124mb\u001B[39m\u001B[38;5;124m'\u001B[39m\u001B[38;5;124mv\u001B[39m\u001B[38;5;132;01m%d\u001B[39;00m\u001B[38;5;124m..\u001B[39m\u001B[38;5;132;01m%d\u001B[39;00m\u001B[38;5;132;01m%s\u001B[39;00m\u001B[38;5;124m'\u001B[39m \u001B[38;5;241m%\u001B[39m (\n\u001B[0;32m    214\u001B[0m         \u001B[38;5;28mself\u001B[39m\u001B[38;5;241m.\u001B[39mMinClientVersion, \u001B[38;5;28mself\u001B[39m\u001B[38;5;241m.\u001B[39mMaxClientVersion,\n\u001B[0;32m    215\u001B[0m         \u001B[38;5;124mb\u001B[39m\u001B[38;5;124m'\u001B[39m\u001B[38;5;124m \u001B[39m\u001B[38;5;124m'\u001B[39m \u001B[38;5;241m+\u001B[39m \u001B[38;5;28mself\u001B[39m\u001B[38;5;241m.\u001B[39mconnectOptions \u001B[38;5;28;01mif\u001B[39;00m \u001B[38;5;28mself\u001B[39m\u001B[38;5;241m.\u001B[39mconnectOptions \u001B[38;5;28;01melse\u001B[39;00m \u001B[38;5;124mb\u001B[39m\u001B[38;5;124m'\u001B[39m\u001B[38;5;124m'\u001B[39m))\n\u001B[0;32m    216\u001B[0m     \u001B[38;5;28mself\u001B[39m\u001B[38;5;241m.\u001B[39mconn\u001B[38;5;241m.\u001B[39msendMsg(msg)\n\u001B[1;32m--> 217\u001B[0m     \u001B[38;5;28;01mawait\u001B[39;00m asyncio\u001B[38;5;241m.\u001B[39mwait_for(\u001B[38;5;28mself\u001B[39m\u001B[38;5;241m.\u001B[39mapiStart, timeout)\n\u001B[0;32m    218\u001B[0m     \u001B[38;5;28mself\u001B[39m\u001B[38;5;241m.\u001B[39m_logger\u001B[38;5;241m.\u001B[39minfo(\u001B[38;5;124m'\u001B[39m\u001B[38;5;124mAPI connection ready\u001B[39m\u001B[38;5;124m'\u001B[39m)\n\u001B[0;32m    219\u001B[0m \u001B[38;5;28;01mexcept\u001B[39;00m \u001B[38;5;167;01mBaseException\u001B[39;00m \u001B[38;5;28;01mas\u001B[39;00m e:\n",
      "File \u001B[1;32m~\\anaconda3\\Lib\\asyncio\\tasks.py:519\u001B[0m, in \u001B[0;36mwait_for\u001B[1;34m(fut, timeout)\u001B[0m\n\u001B[0;32m    516\u001B[0m     \u001B[38;5;28;01mexcept\u001B[39;00m exceptions\u001B[38;5;241m.\u001B[39mCancelledError \u001B[38;5;28;01mas\u001B[39;00m exc:\n\u001B[0;32m    517\u001B[0m         \u001B[38;5;28;01mraise\u001B[39;00m \u001B[38;5;167;01mTimeoutError\u001B[39;00m \u001B[38;5;28;01mfrom\u001B[39;00m \u001B[38;5;21;01mexc\u001B[39;00m\n\u001B[1;32m--> 519\u001B[0m \u001B[38;5;28;01masync\u001B[39;00m \u001B[38;5;28;01mwith\u001B[39;00m timeouts\u001B[38;5;241m.\u001B[39mtimeout(timeout):\n\u001B[0;32m    520\u001B[0m     \u001B[38;5;28;01mreturn\u001B[39;00m \u001B[38;5;28;01mawait\u001B[39;00m fut\n",
      "File \u001B[1;32m~\\anaconda3\\Lib\\asyncio\\timeouts.py:115\u001B[0m, in \u001B[0;36mTimeout.__aexit__\u001B[1;34m(self, exc_type, exc_val, exc_tb)\u001B[0m\n\u001B[0;32m    110\u001B[0m     \u001B[38;5;28mself\u001B[39m\u001B[38;5;241m.\u001B[39m_state \u001B[38;5;241m=\u001B[39m _State\u001B[38;5;241m.\u001B[39mEXPIRED\n\u001B[0;32m    112\u001B[0m     \u001B[38;5;28;01mif\u001B[39;00m \u001B[38;5;28mself\u001B[39m\u001B[38;5;241m.\u001B[39m_task\u001B[38;5;241m.\u001B[39muncancel() \u001B[38;5;241m<\u001B[39m\u001B[38;5;241m=\u001B[39m \u001B[38;5;28mself\u001B[39m\u001B[38;5;241m.\u001B[39m_cancelling \u001B[38;5;129;01mand\u001B[39;00m exc_type \u001B[38;5;129;01mis\u001B[39;00m exceptions\u001B[38;5;241m.\u001B[39mCancelledError:\n\u001B[0;32m    113\u001B[0m         \u001B[38;5;66;03m# Since there are no new cancel requests, we're\u001B[39;00m\n\u001B[0;32m    114\u001B[0m         \u001B[38;5;66;03m# handling this.\u001B[39;00m\n\u001B[1;32m--> 115\u001B[0m         \u001B[38;5;28;01mraise\u001B[39;00m \u001B[38;5;167;01mTimeoutError\u001B[39;00m \u001B[38;5;28;01mfrom\u001B[39;00m \u001B[38;5;21;01mexc_val\u001B[39;00m\n\u001B[0;32m    116\u001B[0m \u001B[38;5;28;01melif\u001B[39;00m \u001B[38;5;28mself\u001B[39m\u001B[38;5;241m.\u001B[39m_state \u001B[38;5;129;01mis\u001B[39;00m _State\u001B[38;5;241m.\u001B[39mENTERED:\n\u001B[0;32m    117\u001B[0m     \u001B[38;5;28mself\u001B[39m\u001B[38;5;241m.\u001B[39m_state \u001B[38;5;241m=\u001B[39m _State\u001B[38;5;241m.\u001B[39mEXITED\n",
      "\u001B[1;31mTimeoutError\u001B[0m: "
     ]
    }
   ],
   "execution_count": 4
  },
  {
   "metadata": {
    "ExecuteTime": {
     "end_time": "2024-08-21T12:42:27.490258800Z",
     "start_time": "2024-08-21T10:15:19.951422Z"
    }
   },
   "cell_type": "code",
   "source": "ib.positions()",
   "id": "de5c16f11619b3e9",
   "outputs": [
    {
     "data": {
      "text/plain": [
       "[]"
      ]
     },
     "execution_count": 64,
     "metadata": {},
     "output_type": "execute_result"
    }
   ],
   "execution_count": 64
  },
  {
   "metadata": {
    "ExecuteTime": {
     "end_time": "2024-08-21T12:42:27.491215200Z",
     "start_time": "2024-08-21T10:15:20.185612Z"
    }
   },
   "cell_type": "code",
   "source": [
    "contract = Forex('EURUSD')\n",
    "contract"
   ],
   "id": "e3a25233f6317dc0",
   "outputs": [
    {
     "data": {
      "text/plain": [
       "Forex('EURUSD', exchange='IDEALPRO')"
      ]
     },
     "execution_count": 65,
     "metadata": {},
     "output_type": "execute_result"
    }
   ],
   "execution_count": 65
  },
  {
   "metadata": {
    "ExecuteTime": {
     "end_time": "2024-08-21T12:42:27.491215200Z",
     "start_time": "2024-08-21T10:15:21.596886Z"
    }
   },
   "cell_type": "code",
   "source": "ib.qualifyContracts(contract)",
   "id": "eba939d163783d92",
   "outputs": [
    {
     "data": {
      "text/plain": [
       "[Forex('EURUSD', conId=12087792, exchange='IDEALPRO', localSymbol='EUR.USD', tradingClass='EUR.USD')]"
      ]
     },
     "execution_count": 66,
     "metadata": {},
     "output_type": "execute_result"
    }
   ],
   "execution_count": 66
  },
  {
   "metadata": {
    "ExecuteTime": {
     "end_time": "2024-08-21T12:42:27.492206300Z",
     "start_time": "2024-08-21T10:15:21.966453Z"
    }
   },
   "cell_type": "code",
   "source": [
    "data = ib.reqMktData(contract)\n",
    "data"
   ],
   "id": "83d8cd661882db1f",
   "outputs": [
    {
     "data": {
      "text/plain": [
       "Ticker(contract=Forex('EURUSD', conId=12087792, exchange='IDEALPRO', localSymbol='EUR.USD', tradingClass='EUR.USD'))"
      ]
     },
     "execution_count": 67,
     "metadata": {},
     "output_type": "execute_result"
    }
   ],
   "execution_count": 67
  },
  {
   "metadata": {
    "ExecuteTime": {
     "end_time": "2024-08-21T12:42:27.493162Z",
     "start_time": "2024-08-21T10:15:22.073164Z"
    }
   },
   "cell_type": "code",
   "source": "data.bid",
   "id": "cc9276ef7373bddf",
   "outputs": [
    {
     "data": {
      "text/plain": [
       "1.11184"
      ]
     },
     "execution_count": 68,
     "metadata": {},
     "output_type": "execute_result"
    }
   ],
   "execution_count": 68
  },
  {
   "metadata": {
    "ExecuteTime": {
     "end_time": "2024-08-21T12:42:27.493162Z",
     "start_time": "2024-08-21T10:15:22.178499Z"
    }
   },
   "cell_type": "code",
   "source": "ib.cancelMktData(contract)",
   "id": "879e12aad00158e8",
   "outputs": [],
   "execution_count": 69
  },
  {
   "metadata": {
    "ExecuteTime": {
     "end_time": "2024-08-21T12:42:27.494158700Z",
     "start_time": "2024-08-21T10:15:22.210022Z"
    }
   },
   "cell_type": "code",
   "source": [
    "data = ib.reqMktData(contract)\n",
    "data"
   ],
   "id": "db0b473bf3086b54",
   "outputs": [
    {
     "data": {
      "text/plain": [
       "Ticker(contract=Forex('EURUSD', conId=12087792, exchange='IDEALPRO', localSymbol='EUR.USD', tradingClass='EUR.USD'), time=datetime.datetime(2024, 8, 21, 10, 15, 22, 123577, tzinfo=datetime.timezone.utc), minTick=1e-05, bid=1.11184, bidSize=5000000.0, ask=1.11186, askSize=8000000.0, prevAsk=1.11185, prevAskSize=1000000.0, high=1.1133, low=1.11105, close=1.113, halted=0.0, ticks=[TickData(time=datetime.datetime(2024, 8, 21, 10, 15, 22, 123577, tzinfo=datetime.timezone.utc), tickType=2, price=1.11186, size=8000000.0), TickData(time=datetime.datetime(2024, 8, 21, 10, 15, 22, 123577, tzinfo=datetime.timezone.utc), tickType=49, price=0.0, size=0)])"
      ]
     },
     "execution_count": 70,
     "metadata": {},
     "output_type": "execute_result"
    }
   ],
   "execution_count": 70
  },
  {
   "metadata": {
    "ExecuteTime": {
     "end_time": "2024-08-21T12:42:27.509298600Z",
     "start_time": "2024-08-21T10:15:22.261589Z"
    }
   },
   "cell_type": "code",
   "source": "data.bid",
   "id": "8c630fa2ecb520b6",
   "outputs": [
    {
     "data": {
      "text/plain": [
       "1.11184"
      ]
     },
     "execution_count": 71,
     "metadata": {},
     "output_type": "execute_result"
    }
   ],
   "execution_count": 71
  },
  {
   "metadata": {
    "ExecuteTime": {
     "end_time": "2024-08-21T12:42:27.510298700Z",
     "start_time": "2024-08-21T10:15:22.324358Z"
    }
   },
   "cell_type": "code",
   "source": "ib.cancelMktData(contract)",
   "id": "1b85d8c6b8e81a0e",
   "outputs": [],
   "execution_count": 72
  },
  {
   "metadata": {
    "ExecuteTime": {
     "end_time": "2024-08-21T12:42:27.510298700Z",
     "start_time": "2024-08-21T10:15:22.344988Z"
    }
   },
   "cell_type": "code",
   "source": [
    "ticker = ib.ticker(contract)\n",
    "ticker"
   ],
   "id": "95e9eb2621ac5ffb",
   "outputs": [
    {
     "data": {
      "text/plain": [
       "Ticker(contract=Forex('EURUSD', conId=12087792, exchange='IDEALPRO', localSymbol='EUR.USD', tradingClass='EUR.USD'), time=datetime.datetime(2024, 8, 21, 10, 15, 22, 219525, tzinfo=datetime.timezone.utc), minTick=1e-05, bid=1.11184, bidSize=5000000.0, ask=1.11186, askSize=8000000.0, prevAsk=1.11185, prevAskSize=1000000.0, high=1.1133, low=1.11105, close=1.113, halted=0.0, ticks=[TickData(time=datetime.datetime(2024, 8, 21, 10, 15, 22, 219525, tzinfo=datetime.timezone.utc), tickType=6, price=1.1133, size=0.0), TickData(time=datetime.datetime(2024, 8, 21, 10, 15, 22, 219525, tzinfo=datetime.timezone.utc), tickType=7, price=1.11105, size=0.0), TickData(time=datetime.datetime(2024, 8, 21, 10, 15, 22, 219525, tzinfo=datetime.timezone.utc), tickType=9, price=1.113, size=0.0), TickData(time=datetime.datetime(2024, 8, 21, 10, 15, 22, 219525, tzinfo=datetime.timezone.utc), tickType=49, price=0.0, size=0)])"
      ]
     },
     "execution_count": 73,
     "metadata": {},
     "output_type": "execute_result"
    }
   ],
   "execution_count": 73
  },
  {
   "metadata": {
    "ExecuteTime": {
     "end_time": "2024-08-21T12:42:27.511297800Z",
     "start_time": "2024-08-21T10:15:22.388262Z"
    }
   },
   "cell_type": "code",
   "source": "ticker.bid",
   "id": "7fb66ae18ba5171",
   "outputs": [
    {
     "data": {
      "text/plain": [
       "1.11184"
      ]
     },
     "execution_count": 74,
     "metadata": {},
     "output_type": "execute_result"
    }
   ],
   "execution_count": 74
  },
  {
   "metadata": {
    "ExecuteTime": {
     "end_time": "2024-08-21T12:42:27.511297800Z",
     "start_time": "2024-08-21T12:42:18.903979Z"
    }
   },
   "cell_type": "code",
   "source": "ib.disconnect()",
   "id": "2a41c7475ccd1cbd",
   "outputs": [
    {
     "ename": "NameError",
     "evalue": "name 'ib' is not defined",
     "output_type": "error",
     "traceback": [
      "\u001B[1;31m---------------------------------------------------------------------------\u001B[0m",
      "\u001B[1;31mNameError\u001B[0m                                 Traceback (most recent call last)",
      "Cell \u001B[1;32mIn[1], line 1\u001B[0m\n\u001B[1;32m----> 1\u001B[0m \u001B[43mib\u001B[49m\u001B[38;5;241m.\u001B[39mdisconnect()\n",
      "\u001B[1;31mNameError\u001B[0m: name 'ib' is not defined"
     ]
    }
   ],
   "execution_count": 1
  }
 ],
 "metadata": {
  "kernelspec": {
   "display_name": "Python 3",
   "language": "python",
   "name": "python3"
  },
  "language_info": {
   "codemirror_mode": {
    "name": "ipython",
    "version": 2
   },
   "file_extension": ".py",
   "mimetype": "text/x-python",
   "name": "python",
   "nbconvert_exporter": "python",
   "pygments_lexer": "ipython2",
   "version": "2.7.6"
  }
 },
 "nbformat": 4,
 "nbformat_minor": 5
}
