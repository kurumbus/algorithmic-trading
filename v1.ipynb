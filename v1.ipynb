{
 "cells": [
  {
   "cell_type": "code",
   "id": "initial_id",
   "metadata": {
    "collapsed": true,
    "ExecuteTime": {
     "end_time": "2024-08-18T01:37:07.717013Z",
     "start_time": "2024-08-18T01:37:07.708826Z"
    }
   },
   "source": [
    "import pandas as pd\n",
    "import numpy as np\n",
    "import matplotlib.style\n",
    "import matplotlib.pyplot as plt\n",
    "import yfinance as yf\n",
    "pd.options.display.float_format = '{:.4f}'.format\n",
    "plt.style.use(\"seaborn-v0_8\")"
   ],
   "outputs": [],
   "execution_count": 25
  },
  {
   "metadata": {
    "ExecuteTime": {
     "end_time": "2024-08-18T01:37:08.845986Z",
     "start_time": "2024-08-18T01:37:08.837519Z"
    }
   },
   "cell_type": "code",
   "source": [
    "symbol = \"EURUSD=X\"\n",
    "start = \"2004-01-01\"\n",
    "end = \"2020-01-01\""
   ],
   "id": "18a18d2117ce379a",
   "outputs": [],
   "execution_count": 26
  },
  {
   "metadata": {
    "ExecuteTime": {
     "end_time": "2024-08-18T01:40:50.348523Z",
     "start_time": "2024-08-18T01:40:50.337080Z"
    }
   },
   "cell_type": "code",
   "source": [
    "class StrategyTester():\n",
    "    def __init__(self, symbol, sma_short, sma_long, start, end):\n",
    "        self.end = end\n",
    "        self.start = start\n",
    "        self.sma_long = sma_long\n",
    "        self.sma_short = sma_short\n",
    "        self.symbol = symbol\n",
    "        self.results = None\n",
    "        self.data = self.get_data()\n",
    "\n",
    "    def get_data(self):\n",
    "        df = yf.download(self.symbol, self.start, self.end).Close.to_frame()\n",
    "        df.rename(columns={\"Close\": \"price\"}, inplace=True)\n",
    "        df['returns'] = np.log(df['price'] / df['price'].shift(1))\n",
    "        df['sma_short'] = df['price'].rolling(self.sma_short).mean()\n",
    "        df['sma_long'] = df['price'].rolling(self.sma_long).mean()\n",
    "        return df\n"
   ],
   "id": "5c4a1b7489524cc3",
   "outputs": [],
   "execution_count": 38
  },
  {
   "metadata": {
    "ExecuteTime": {
     "end_time": "2024-08-18T01:40:52.920398Z",
     "start_time": "2024-08-18T01:40:52.863240Z"
    }
   },
   "cell_type": "code",
   "source": "tester = StrategyTester(symbol, 50, 200, start, end)",
   "id": "69b17dc6520f9676",
   "outputs": [
    {
     "name": "stderr",
     "output_type": "stream",
     "text": [
      "[*********************100%%**********************]  1 of 1 completed\n"
     ]
    }
   ],
   "execution_count": 39
  },
  {
   "metadata": {
    "ExecuteTime": {
     "end_time": "2024-08-18T01:40:54.927296Z",
     "start_time": "2024-08-18T01:40:54.912625Z"
    }
   },
   "cell_type": "code",
   "source": "tester.data",
   "id": "a5f24aa8d8880fcf",
   "outputs": [
    {
     "data": {
      "text/plain": [
       "            price  returns  sma_short  sma_long\n",
       "Date                                           \n",
       "2004-01-01 1.2582      NaN        NaN       NaN\n",
       "2004-01-02 1.2582   0.0000        NaN       NaN\n",
       "2004-01-05 1.2687   0.0083        NaN       NaN\n",
       "2004-01-06 1.2721   0.0027        NaN       NaN\n",
       "2004-01-07 1.2641  -0.0063        NaN       NaN\n",
       "...           ...      ...        ...       ...\n",
       "2019-12-25 1.1090  -0.0003     1.1086    1.1151\n",
       "2019-12-26 1.1095   0.0005     1.1087    1.1149\n",
       "2019-12-27 1.1101   0.0005     1.1086    1.1148\n",
       "2019-12-30 1.1182   0.0073     1.1087    1.1147\n",
       "2019-12-31 1.1202   0.0018     1.1088    1.1146\n",
       "\n",
       "[4145 rows x 4 columns]"
      ],
      "text/html": [
       "<div>\n",
       "<style scoped>\n",
       "    .dataframe tbody tr th:only-of-type {\n",
       "        vertical-align: middle;\n",
       "    }\n",
       "\n",
       "    .dataframe tbody tr th {\n",
       "        vertical-align: top;\n",
       "    }\n",
       "\n",
       "    .dataframe thead th {\n",
       "        text-align: right;\n",
       "    }\n",
       "</style>\n",
       "<table border=\"1\" class=\"dataframe\">\n",
       "  <thead>\n",
       "    <tr style=\"text-align: right;\">\n",
       "      <th></th>\n",
       "      <th>price</th>\n",
       "      <th>returns</th>\n",
       "      <th>sma_short</th>\n",
       "      <th>sma_long</th>\n",
       "    </tr>\n",
       "    <tr>\n",
       "      <th>Date</th>\n",
       "      <th></th>\n",
       "      <th></th>\n",
       "      <th></th>\n",
       "      <th></th>\n",
       "    </tr>\n",
       "  </thead>\n",
       "  <tbody>\n",
       "    <tr>\n",
       "      <th>2004-01-01</th>\n",
       "      <td>1.2582</td>\n",
       "      <td>NaN</td>\n",
       "      <td>NaN</td>\n",
       "      <td>NaN</td>\n",
       "    </tr>\n",
       "    <tr>\n",
       "      <th>2004-01-02</th>\n",
       "      <td>1.2582</td>\n",
       "      <td>0.0000</td>\n",
       "      <td>NaN</td>\n",
       "      <td>NaN</td>\n",
       "    </tr>\n",
       "    <tr>\n",
       "      <th>2004-01-05</th>\n",
       "      <td>1.2687</td>\n",
       "      <td>0.0083</td>\n",
       "      <td>NaN</td>\n",
       "      <td>NaN</td>\n",
       "    </tr>\n",
       "    <tr>\n",
       "      <th>2004-01-06</th>\n",
       "      <td>1.2721</td>\n",
       "      <td>0.0027</td>\n",
       "      <td>NaN</td>\n",
       "      <td>NaN</td>\n",
       "    </tr>\n",
       "    <tr>\n",
       "      <th>2004-01-07</th>\n",
       "      <td>1.2641</td>\n",
       "      <td>-0.0063</td>\n",
       "      <td>NaN</td>\n",
       "      <td>NaN</td>\n",
       "    </tr>\n",
       "    <tr>\n",
       "      <th>...</th>\n",
       "      <td>...</td>\n",
       "      <td>...</td>\n",
       "      <td>...</td>\n",
       "      <td>...</td>\n",
       "    </tr>\n",
       "    <tr>\n",
       "      <th>2019-12-25</th>\n",
       "      <td>1.1090</td>\n",
       "      <td>-0.0003</td>\n",
       "      <td>1.1086</td>\n",
       "      <td>1.1151</td>\n",
       "    </tr>\n",
       "    <tr>\n",
       "      <th>2019-12-26</th>\n",
       "      <td>1.1095</td>\n",
       "      <td>0.0005</td>\n",
       "      <td>1.1087</td>\n",
       "      <td>1.1149</td>\n",
       "    </tr>\n",
       "    <tr>\n",
       "      <th>2019-12-27</th>\n",
       "      <td>1.1101</td>\n",
       "      <td>0.0005</td>\n",
       "      <td>1.1086</td>\n",
       "      <td>1.1148</td>\n",
       "    </tr>\n",
       "    <tr>\n",
       "      <th>2019-12-30</th>\n",
       "      <td>1.1182</td>\n",
       "      <td>0.0073</td>\n",
       "      <td>1.1087</td>\n",
       "      <td>1.1147</td>\n",
       "    </tr>\n",
       "    <tr>\n",
       "      <th>2019-12-31</th>\n",
       "      <td>1.1202</td>\n",
       "      <td>0.0018</td>\n",
       "      <td>1.1088</td>\n",
       "      <td>1.1146</td>\n",
       "    </tr>\n",
       "  </tbody>\n",
       "</table>\n",
       "<p>4145 rows × 4 columns</p>\n",
       "</div>"
      ]
     },
     "execution_count": 40,
     "metadata": {},
     "output_type": "execute_result"
    }
   ],
   "execution_count": 40
  }
 ],
 "metadata": {
  "kernelspec": {
   "display_name": "Python 3",
   "language": "python",
   "name": "python3"
  },
  "language_info": {
   "codemirror_mode": {
    "name": "ipython",
    "version": 2
   },
   "file_extension": ".py",
   "mimetype": "text/x-python",
   "name": "python",
   "nbconvert_exporter": "python",
   "pygments_lexer": "ipython2",
   "version": "2.7.6"
  }
 },
 "nbformat": 4,
 "nbformat_minor": 5
}
