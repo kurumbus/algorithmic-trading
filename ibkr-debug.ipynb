{
 "cells": [
  {
   "metadata": {
    "ExecuteTime": {
     "end_time": "2024-08-23T03:36:51.320872Z",
     "start_time": "2024-08-23T03:36:50.277395Z"
    }
   },
   "cell_type": "code",
   "source": [
    "import datetime\n",
    "from ib_insync import *\n",
    "import pandas as pd\n",
    "import numpy as np\n",
    "import datetime as dt\n",
    "import ib_insync.util as util2\n",
    "util2.startLoop()\n",
    "\n",
    "ib = IB()\n",
    "ib.connect()\n",
    "\n",
    "sma_s = 2\n",
    "sma_l = 5\n",
    "freq = '1 min'\n",
    "units = 1000\n",
    "end_time = dt.time(3,40, 0)\n",
    "contract = Forex(\"EURUSD\")\n",
    "ib.qualifyContracts(contract)\n",
    "cfd = CFD('EUR', currency='USD')\n",
    "ib.qualifyContracts(cfd)\n",
    "conID = cfd.conId\n"
   ],
   "id": "75521619d2353b31",
   "outputs": [],
   "execution_count": 4
  },
  {
   "metadata": {
    "ExecuteTime": {
     "end_time": "2024-08-23T03:37:02.805633Z",
     "start_time": "2024-08-23T03:37:02.800572Z"
    }
   },
   "cell_type": "code",
   "source": [
    "def on_bar_update(bars, hasNewBar):\n",
    "    global df, last_bar_date, df_strategy\n",
    "\n",
    "    if True:\n",
    "        last_bar_date = bars[-1].date\n",
    "\n",
    "        #data processing\n",
    "        df = pd.DataFrame(bars)[['date', 'open', 'high', 'low', 'close']].iloc[:-1]\n",
    "        df.set_index('date', inplace=True)\n",
    "\n",
    "        ##### TRADING STRATEGY\n",
    "        df_strategy = df[['close']].copy()\n",
    "        df_strategy['sma_s'] = df_strategy.close.rolling(sma_s).mean()\n",
    "        df_strategy['sma_l'] = df_strategy.close.rolling(sma_l).mean()\n",
    "        df_strategy.dropna(inplace=True)\n",
    "        df_strategy['position'] = np.where(df_strategy['sma_s'] > df_strategy['sma_l'], 1, -1)\n",
    "        ######################\n",
    "\n",
    "        #target = df_strategy['position'][-1] * units\n",
    "\n",
    "        target = df_strategy['position'].iloc[-1] * units\n",
    "\n",
    "        print('iloc:')\n",
    "        print(df_strategy['position'].iloc[-1])\n",
    "\n",
    "    #    print(df)\n",
    "    else:\n",
    "        pass"
   ],
   "id": "328721e0556a503f",
   "outputs": [],
   "execution_count": 7
  },
  {
   "metadata": {
    "ExecuteTime": {
     "end_time": "2024-08-23T03:37:09.238785Z",
     "start_time": "2024-08-23T03:37:08.339720Z"
    }
   },
   "cell_type": "code",
   "source": [
    "bars = ib.reqHistoricalData(\n",
    "        contract,\n",
    "        endDateTime='',\n",
    "        durationStr='1 D',\n",
    "        barSizeSetting=freq,\n",
    "        whatToShow='MIDPOINT',\n",
    "        useRTH=True,\n",
    "        formatDate=2,\n",
    "        keepUpToDate=True\n",
    "    )\n",
    "\n",
    "bars.updateEvent += on_bar_update"
   ],
   "id": "1690f4212ce56245",
   "outputs": [],
   "execution_count": 8
  },
  {
   "metadata": {
    "ExecuteTime": {
     "end_time": "2024-08-23T03:37:40.390613Z",
     "start_time": "2024-08-23T03:37:40.383769Z"
    }
   },
   "cell_type": "code",
   "source": "df_strategy['position']",
   "id": "2a1c0ffab8b7b7de",
   "outputs": [
    {
     "data": {
      "text/plain": [
       "date\n",
       "2024-08-22 21:19:00+00:00   -1\n",
       "2024-08-22 21:20:00+00:00   -1\n",
       "2024-08-22 21:21:00+00:00   -1\n",
       "2024-08-22 21:22:00+00:00   -1\n",
       "2024-08-22 21:23:00+00:00   -1\n",
       "                            ..\n",
       "2024-08-23 03:32:00+00:00   -1\n",
       "2024-08-23 03:33:00+00:00   -1\n",
       "2024-08-23 03:34:00+00:00   -1\n",
       "2024-08-23 03:35:00+00:00   -1\n",
       "2024-08-23 03:36:00+00:00   -1\n",
       "Name: position, Length: 378, dtype: int64"
      ]
     },
     "execution_count": 11,
     "metadata": {},
     "output_type": "execute_result"
    }
   ],
   "execution_count": 11
  },
  {
   "metadata": {
    "ExecuteTime": {
     "end_time": "2024-08-23T03:38:24.554732Z",
     "start_time": "2024-08-23T03:38:24.549274Z"
    }
   },
   "cell_type": "code",
   "source": "df_strategy['position'].iloc[-1] * 1000",
   "id": "150e1b9bd681ef90",
   "outputs": [
    {
     "data": {
      "text/plain": [
       "np.int64(-1000)"
      ]
     },
     "execution_count": 12,
     "metadata": {},
     "output_type": "execute_result"
    }
   ],
   "execution_count": 12
  },
  {
   "metadata": {
    "ExecuteTime": {
     "end_time": "2024-08-23T03:39:40.651158Z",
     "start_time": "2024-08-23T03:39:40.647711Z"
    }
   },
   "cell_type": "code",
   "source": "ib.disconnect()",
   "id": "d22dfa717f6ca9f4",
   "outputs": [],
   "execution_count": 13
  }
 ],
 "metadata": {
  "kernelspec": {
   "display_name": "Python 3",
   "language": "python",
   "name": "python3"
  },
  "language_info": {
   "codemirror_mode": {
    "name": "ipython",
    "version": 2
   },
   "file_extension": ".py",
   "mimetype": "text/x-python",
   "name": "python",
   "nbconvert_exporter": "python",
   "pygments_lexer": "ipython2",
   "version": "2.7.6"
  }
 },
 "nbformat": 4,
 "nbformat_minor": 5
}
