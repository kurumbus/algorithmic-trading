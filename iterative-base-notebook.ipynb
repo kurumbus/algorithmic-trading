{
 "cells": [
  {
   "metadata": {
    "ExecuteTime": {
     "end_time": "2024-08-21T01:14:31.978683Z",
     "start_time": "2024-08-21T01:14:31.973996Z"
    }
   },
   "cell_type": "code",
   "source": [
    "import numpy as np\n",
    "import pandas as pd\n",
    "import matplotlib.style\n",
    "import matplotlib.pyplot as plt\n",
    "pd.options.display.float_format = '{:.6f}'.format\n",
    "plt.style.use(\"seaborn-v0_8\")"
   ],
   "id": "5e6050bf4a857d7c",
   "outputs": [],
   "execution_count": 80
  },
  {
   "cell_type": "code",
   "id": "initial_id",
   "metadata": {
    "collapsed": true,
    "ExecuteTime": {
     "end_time": "2024-08-21T01:14:32.005932Z",
     "start_time": "2024-08-21T01:14:31.996483Z"
    }
   },
   "source": [
    "class IterativeBase():\n",
    "    \n",
    "    def __init__(self, symbol, start, end, amount):\n",
    "        self.symbol = symbol\n",
    "        self.start = start\n",
    "        self.initial_balance = amount\n",
    "        self.current_balance = amount\n",
    "        self.units = 0\n",
    "        self.trades = 0\n",
    "        self.data = self.get_data()\n",
    "\n",
    "    def get_data(self):\n",
    "        df = pd.read_csv('eurusd_minute.csv', usecols=['Date', 'Time', 'BC', 'AC'])\n",
    "        df['Datetime'] = df['Date'] + ' ' + df['Time']\n",
    "        df['Datetime'] = pd.to_datetime(df['Datetime'])\n",
    "        df = df.drop(['Date', 'Time'], axis=1)\n",
    "        df = df.set_index('Datetime')\n",
    "        df.rename(columns={\"BC\": \"bid\", \"AC\": \"ask\"}, inplace=True)\n",
    "        df['price'] = (df['bid']+df['ask'])/2\n",
    "        df['spread'] = df['ask']-df['bid'] \n",
    "        df['returns'] = np.log(df['price'].div(df['price'].shift(1)))\n",
    "        return df\n",
    "    \n",
    "    def buy(self, bar, units = None, amount = None):\n",
    "        date, price, spread = self.get_values(bar)\n",
    "        if amount is not None:\n",
    "            units = int(amount/price)\n",
    "        self.current_balance -= units * price\n",
    "        self.units += units\n",
    "        self.trades +=1\n",
    "        print(\"{} | Buying {} for {}\".format(date, units, round(price,2)))\n",
    "    \n",
    "    def plot_data(self, cols = None):\n",
    "        if cols == None:\n",
    "            cols = 'price'\n",
    "        self.data[cols].plot(figsize=(12,8), title=self.symbol)\n",
    "        \n",
    "    def get_values(self,bar):\n",
    "        date = str(self.data.index[bar].date())\n",
    "        price = round(self.data.price.iloc[bar], 6)\n",
    "        spread = round(self.data.spread.iloc[bar], 6)\n",
    "        return date, price, spread\n",
    "    \n",
    "    def print_current_balance(self,bar):\n",
    "        date, price, spread = self.get_values(bar) \n",
    "        print(\"{} | Current Balance: {}\".format(date, round(self.current_balance, 2)))\n",
    "        \n",
    "    def print_current_position(self, bar):\n",
    "        date, price, spread = self.get_values(bar)\n",
    "        cpv = self.units * price\n",
    "        print(\"{} | Current Position Value: {}\".format(date, round(cpv, 2)))\n",
    "        \n",
    "    def print_current_nav(self, bar):\n",
    "        date, price, spread = self.get_values(bar)\n",
    "        nav = self.current_balance + self.units*price\n",
    "        print(\"{} | Current Nav: {}\".format(date, round(nav, 2)))\n",
    "        "
   ],
   "outputs": [],
   "execution_count": 81
  },
  {
   "metadata": {
    "ExecuteTime": {
     "end_time": "2024-08-21T01:14:38.116127Z",
     "start_time": "2024-08-21T01:14:32.013807Z"
    }
   },
   "cell_type": "code",
   "source": "bc = IterativeBase(\"EURUSD\", '2006-12-31', '2020-06-30', 1e5)",
   "id": "740172d1a07d77fb",
   "outputs": [],
   "execution_count": 82
  },
  {
   "metadata": {
    "ExecuteTime": {
     "end_time": "2024-08-21T01:14:38.137810Z",
     "start_time": "2024-08-21T01:14:38.127209Z"
    }
   },
   "cell_type": "code",
   "source": "bc.data",
   "id": "2de4791677b1a538",
   "outputs": [
    {
     "data": {
      "text/plain": [
       "                         bid      ask    price   spread   returns\n",
       "Datetime                                                         \n",
       "2005-01-02 18:29:00 1.355500 1.356500 1.356000 0.001000       NaN\n",
       "2005-01-02 18:38:00 1.355500 1.356500 1.356000 0.001000  0.000000\n",
       "2005-01-02 18:51:00 1.356200 1.357200 1.356700 0.001000  0.000516\n",
       "2005-01-02 18:52:00 1.356000 1.357000 1.356500 0.001000 -0.000147\n",
       "2005-01-02 18:55:00 1.356300 1.357300 1.356800 0.001000  0.000221\n",
       "...                      ...      ...      ...      ...       ...\n",
       "2020-04-29 23:55:00 1.087640 1.087780 1.087710 0.000140 -0.000064\n",
       "2020-04-29 23:56:00 1.087570 1.087720 1.087645 0.000150 -0.000060\n",
       "2020-04-29 23:57:00 1.087590 1.087730 1.087660 0.000140  0.000014\n",
       "2020-04-29 23:58:00 1.087600 1.087750 1.087675 0.000150  0.000014\n",
       "2020-04-29 23:59:00 1.087670 1.087810 1.087740 0.000140  0.000060\n",
       "\n",
       "[5618819 rows x 5 columns]"
      ],
      "text/html": [
       "<div>\n",
       "<style scoped>\n",
       "    .dataframe tbody tr th:only-of-type {\n",
       "        vertical-align: middle;\n",
       "    }\n",
       "\n",
       "    .dataframe tbody tr th {\n",
       "        vertical-align: top;\n",
       "    }\n",
       "\n",
       "    .dataframe thead th {\n",
       "        text-align: right;\n",
       "    }\n",
       "</style>\n",
       "<table border=\"1\" class=\"dataframe\">\n",
       "  <thead>\n",
       "    <tr style=\"text-align: right;\">\n",
       "      <th></th>\n",
       "      <th>bid</th>\n",
       "      <th>ask</th>\n",
       "      <th>price</th>\n",
       "      <th>spread</th>\n",
       "      <th>returns</th>\n",
       "    </tr>\n",
       "    <tr>\n",
       "      <th>Datetime</th>\n",
       "      <th></th>\n",
       "      <th></th>\n",
       "      <th></th>\n",
       "      <th></th>\n",
       "      <th></th>\n",
       "    </tr>\n",
       "  </thead>\n",
       "  <tbody>\n",
       "    <tr>\n",
       "      <th>2005-01-02 18:29:00</th>\n",
       "      <td>1.355500</td>\n",
       "      <td>1.356500</td>\n",
       "      <td>1.356000</td>\n",
       "      <td>0.001000</td>\n",
       "      <td>NaN</td>\n",
       "    </tr>\n",
       "    <tr>\n",
       "      <th>2005-01-02 18:38:00</th>\n",
       "      <td>1.355500</td>\n",
       "      <td>1.356500</td>\n",
       "      <td>1.356000</td>\n",
       "      <td>0.001000</td>\n",
       "      <td>0.000000</td>\n",
       "    </tr>\n",
       "    <tr>\n",
       "      <th>2005-01-02 18:51:00</th>\n",
       "      <td>1.356200</td>\n",
       "      <td>1.357200</td>\n",
       "      <td>1.356700</td>\n",
       "      <td>0.001000</td>\n",
       "      <td>0.000516</td>\n",
       "    </tr>\n",
       "    <tr>\n",
       "      <th>2005-01-02 18:52:00</th>\n",
       "      <td>1.356000</td>\n",
       "      <td>1.357000</td>\n",
       "      <td>1.356500</td>\n",
       "      <td>0.001000</td>\n",
       "      <td>-0.000147</td>\n",
       "    </tr>\n",
       "    <tr>\n",
       "      <th>2005-01-02 18:55:00</th>\n",
       "      <td>1.356300</td>\n",
       "      <td>1.357300</td>\n",
       "      <td>1.356800</td>\n",
       "      <td>0.001000</td>\n",
       "      <td>0.000221</td>\n",
       "    </tr>\n",
       "    <tr>\n",
       "      <th>...</th>\n",
       "      <td>...</td>\n",
       "      <td>...</td>\n",
       "      <td>...</td>\n",
       "      <td>...</td>\n",
       "      <td>...</td>\n",
       "    </tr>\n",
       "    <tr>\n",
       "      <th>2020-04-29 23:55:00</th>\n",
       "      <td>1.087640</td>\n",
       "      <td>1.087780</td>\n",
       "      <td>1.087710</td>\n",
       "      <td>0.000140</td>\n",
       "      <td>-0.000064</td>\n",
       "    </tr>\n",
       "    <tr>\n",
       "      <th>2020-04-29 23:56:00</th>\n",
       "      <td>1.087570</td>\n",
       "      <td>1.087720</td>\n",
       "      <td>1.087645</td>\n",
       "      <td>0.000150</td>\n",
       "      <td>-0.000060</td>\n",
       "    </tr>\n",
       "    <tr>\n",
       "      <th>2020-04-29 23:57:00</th>\n",
       "      <td>1.087590</td>\n",
       "      <td>1.087730</td>\n",
       "      <td>1.087660</td>\n",
       "      <td>0.000140</td>\n",
       "      <td>0.000014</td>\n",
       "    </tr>\n",
       "    <tr>\n",
       "      <th>2020-04-29 23:58:00</th>\n",
       "      <td>1.087600</td>\n",
       "      <td>1.087750</td>\n",
       "      <td>1.087675</td>\n",
       "      <td>0.000150</td>\n",
       "      <td>0.000014</td>\n",
       "    </tr>\n",
       "    <tr>\n",
       "      <th>2020-04-29 23:59:00</th>\n",
       "      <td>1.087670</td>\n",
       "      <td>1.087810</td>\n",
       "      <td>1.087740</td>\n",
       "      <td>0.000140</td>\n",
       "      <td>0.000060</td>\n",
       "    </tr>\n",
       "  </tbody>\n",
       "</table>\n",
       "<p>5618819 rows × 5 columns</p>\n",
       "</div>"
      ]
     },
     "execution_count": 83,
     "metadata": {},
     "output_type": "execute_result"
    }
   ],
   "execution_count": 83
  },
  {
   "metadata": {
    "ExecuteTime": {
     "end_time": "2024-08-21T01:14:42.505517Z",
     "start_time": "2024-08-21T01:14:38.182200Z"
    }
   },
   "cell_type": "code",
   "source": "bc.plot_data()",
   "id": "2cd0562dd2f3170e",
   "outputs": [
    {
     "data": {
      "text/plain": [
       "<Figure size 1200x800 with 1 Axes>"
      ],
      "image/png": "[encoded data removed]"
     },
     "metadata": {},
     "output_type": "display_data"
    }
   ],
   "execution_count": 84
  },
  {
   "metadata": {
    "ExecuteTime": {
     "end_time": "2024-08-21T01:14:42.961676Z",
     "start_time": "2024-08-21T01:14:42.957435Z"
    }
   },
   "cell_type": "code",
   "source": "bc.get_values(100)",
   "id": "25ef9d87dbeab5c7",
   "outputs": [
    {
     "data": {
      "text/plain": [
       "('2005-01-02', np.float64(1.35505), np.float64(0.001))"
      ]
     },
     "execution_count": 85,
     "metadata": {},
     "output_type": "execute_result"
    }
   ],
   "execution_count": 85
  },
  {
   "metadata": {
    "ExecuteTime": {
     "end_time": "2024-08-21T01:14:43.077907Z",
     "start_time": "2024-08-21T01:14:43.074439Z"
    }
   },
   "cell_type": "code",
   "source": "bc.print_current_balance(100)",
   "id": "4e7d5d7b9956b896",
   "outputs": [
    {
     "name": "stdout",
     "output_type": "stream",
     "text": [
      "2005-01-02 | Current Balance: 100000.0\n"
     ]
    }
   ],
   "execution_count": 86
  },
  {
   "metadata": {
    "ExecuteTime": {
     "end_time": "2024-08-21T01:14:43.133480Z",
     "start_time": "2024-08-21T01:14:43.128767Z"
    }
   },
   "cell_type": "code",
   "source": "bc.buy(0, 1000)",
   "id": "3383e379c436361c",
   "outputs": [
    {
     "name": "stdout",
     "output_type": "stream",
     "text": [
      "2005-01-02 | Buying 1000 for 1.36\n"
     ]
    }
   ],
   "execution_count": 87
  },
  {
   "metadata": {
    "ExecuteTime": {
     "end_time": "2024-08-21T01:14:43.164535Z",
     "start_time": "2024-08-21T01:14:43.160916Z"
    }
   },
   "cell_type": "code",
   "source": "bc.print_current_balance(0)",
   "id": "67ef45be9ac79a9a",
   "outputs": [
    {
     "name": "stdout",
     "output_type": "stream",
     "text": [
      "2005-01-02 | Current Balance: 98644.0\n"
     ]
    }
   ],
   "execution_count": 88
  },
  {
   "metadata": {
    "ExecuteTime": {
     "end_time": "2024-08-21T01:14:43.199620Z",
     "start_time": "2024-08-21T01:14:43.195448Z"
    }
   },
   "cell_type": "code",
   "source": "bc.print_current_position(0)",
   "id": "c42cf587bfebf072",
   "outputs": [
    {
     "name": "stdout",
     "output_type": "stream",
     "text": [
      "2005-01-02 | Current Position Value: 1356.0\n"
     ]
    }
   ],
   "execution_count": 89
  },
  {
   "metadata": {
    "ExecuteTime": {
     "end_time": "2024-08-21T01:16:29.959518Z",
     "start_time": "2024-08-21T01:16:29.954141Z"
    }
   },
   "cell_type": "code",
   "source": "bc.print_current_nav(0)",
   "id": "5d8f1b881eb3ac08",
   "outputs": [
    {
     "name": "stdout",
     "output_type": "stream",
     "text": [
      "2005-01-02 | Current Nav: 100000.0\n"
     ]
    }
   ],
   "execution_count": 90
  },
  {
   "metadata": {
    "ExecuteTime": {
     "end_time": "2024-08-21T01:17:11.548155Z",
     "start_time": "2024-08-21T01:17:11.543263Z"
    }
   },
   "cell_type": "code",
   "source": "bc.print_current_nav()",
   "id": "eeb4473e784ab941",
   "outputs": [
    {
     "name": "stdout",
     "output_type": "stream",
     "text": [
      "2020-04-29 | Current Nav: 99731.74\n"
     ]
    }
   ],
   "execution_count": 97
  }
 ],
 "metadata": {
  "kernelspec": {
   "display_name": "Python 3",
   "language": "python",
   "name": "python3"
  },
  "language_info": {
   "codemirror_mode": {
    "name": "ipython",
    "version": 2
   },
   "file_extension": ".py",
   "mimetype": "text/x-python",
   "name": "python",
   "nbconvert_exporter": "python",
   "pygments_lexer": "ipython2",
   "version": "2.7.6"
  }
 },
 "nbformat": 4,
 "nbformat_minor": 5
}
