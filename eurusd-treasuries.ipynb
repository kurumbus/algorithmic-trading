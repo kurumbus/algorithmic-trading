{
 "cells": [
  {
   "cell_type": "code",
   "id": "initial_id",
   "metadata": {
    "collapsed": true,
    "ExecuteTime": {
     "end_time": "2024-08-25T05:06:47.462828Z",
     "start_time": "2024-08-25T05:06:47.457274Z"
    }
   },
   "source": [
    "from unittest.mock import inplace\n",
    "\n",
    "import pandas as pd\n",
    "import numpy as np\n",
    "import matplotlib.pyplot as plt\n",
    "import yfinance as yf\n",
    "from keras.src.callbacks import EarlyStopping\n",
    "import random\n",
    "import numpy as np\n",
    "import tensorflow as tf\n",
    "from keras.api.layers import Dense, Dropout\n",
    "from keras.api.models import Sequential\n",
    "from keras.api.regularizers import l1, l2\n",
    "from keras.api.optimizers import Adam"
   ],
   "outputs": [],
   "execution_count": 41
  },
  {
   "metadata": {
    "ExecuteTime": {
     "end_time": "2024-08-25T05:06:47.474514Z",
     "start_time": "2024-08-25T05:06:47.469007Z"
    }
   },
   "cell_type": "code",
   "source": [
    "def set_seeds(seed = 100):\n",
    "    random.seed(seed)\n",
    "    np.random.seed(seed)\n",
    "    tf.random.set_seed(seed)\n",
    "    \n",
    "def cw(df):\n",
    "    c0, c1 = np.bincount(df[\"dir\"])\n",
    "    w0 = (1/c0) * (len(df)) / 2\n",
    "    w1 = (1/c1) * (len(df)) / 2\n",
    "    return {0:w0, 1:w1}"
   ],
   "id": "d375ee904fa73aa5",
   "outputs": [],
   "execution_count": 42
  },
  {
   "metadata": {
    "ExecuteTime": {
     "end_time": "2024-08-25T05:06:47.493014Z",
     "start_time": "2024-08-25T05:06:47.489797Z"
    }
   },
   "cell_type": "code",
   "source": [
    "symbol = \"EURUSD=X\"\n",
    "start = \"2004-01-01\"\n",
    "end = \"2024-08-22\"\n",
    "interval = '1d'\n",
    "ptc = 0.000059\n",
    "lags = 7"
   ],
   "id": "516f07f1b675fd42",
   "outputs": [],
   "execution_count": 43
  },
  {
   "metadata": {
    "ExecuteTime": {
     "end_time": "2024-08-25T05:06:47.555887Z",
     "start_time": "2024-08-25T05:06:47.508420Z"
    }
   },
   "cell_type": "code",
   "source": [
    "df = yf.download(symbol, start, end, interval=interval)\n",
    "#df.rename(columns={\"Close\": \"price\"}, inplace=True)\n",
    "df.drop(columns=['Adj Close', 'Volume'], inplace=True)\n",
    "#df.index = df.index.tz_convert('utc')\n",
    "df['returns'] = np.log(df['Close'].div(df['Close'].shift(1)))\n",
    "df['day_of_week'] = df.index.dayofweek\n",
    "df['dir'] = np.where(df['returns'] > 0, 1,0)\n",
    "df.dropna(inplace=True)\n",
    "features = [\"dir\", 'Open', 'High', 'Low', 'Close', 'returns']\n",
    "df"
   ],
   "id": "a2fe77d5f329d660",
   "outputs": [
    {
     "name": "stderr",
     "output_type": "stream",
     "text": [
      "[*********************100%%**********************]  1 of 1 completed\n"
     ]
    },
    {
     "data": {
      "text/plain": [
       "                Open      High       Low     Close   returns  day_of_week  dir\n",
       "Date                                                                          \n",
       "2004-01-02  1.258194  1.262802  1.252693  1.258194  0.000000            4    0\n",
       "2004-01-05  1.263903  1.269406  1.263695  1.268698  0.008313            0    1\n",
       "2004-01-06  1.268907  1.280803  1.267202  1.272103  0.002681            1    1\n",
       "2004-01-07  1.272394  1.273999  1.262499  1.264095 -0.006315            2    0\n",
       "2004-01-08  1.264095  1.278707  1.256502  1.277498  0.010547            3    1\n",
       "...              ...       ...       ...       ...       ...          ...  ...\n",
       "2024-08-15  1.101322  1.101686  1.095050  1.101322  0.001475            3    1\n",
       "2024-08-16  1.097273  1.100437  1.097370  1.097273 -0.003683            4    0\n",
       "2024-08-19  1.102499  1.107260  1.102390  1.102499  0.004752            0    1\n",
       "2024-08-20  1.108647  1.111729  1.107248  1.108647  0.005561            1    1\n",
       "2024-08-21  1.112793  1.114827  1.110556  1.112793  0.003732            2    1\n",
       "\n",
       "[5354 rows x 7 columns]"
      ],
      "text/html": [
       "<div>\n",
       "<style scoped>\n",
       "    .dataframe tbody tr th:only-of-type {\n",
       "        vertical-align: middle;\n",
       "    }\n",
       "\n",
       "    .dataframe tbody tr th {\n",
       "        vertical-align: top;\n",
       "    }\n",
       "\n",
       "    .dataframe thead th {\n",
       "        text-align: right;\n",
       "    }\n",
       "</style>\n",
       "<table border=\"1\" class=\"dataframe\">\n",
       "  <thead>\n",
       "    <tr style=\"text-align: right;\">\n",
       "      <th></th>\n",
       "      <th>Open</th>\n",
       "      <th>High</th>\n",
       "      <th>Low</th>\n",
       "      <th>Close</th>\n",
       "      <th>returns</th>\n",
       "      <th>day_of_week</th>\n",
       "      <th>dir</th>\n",
       "    </tr>\n",
       "    <tr>\n",
       "      <th>Date</th>\n",
       "      <th></th>\n",
       "      <th></th>\n",
       "      <th></th>\n",
       "      <th></th>\n",
       "      <th></th>\n",
       "      <th></th>\n",
       "      <th></th>\n",
       "    </tr>\n",
       "  </thead>\n",
       "  <tbody>\n",
       "    <tr>\n",
       "      <th>2004-01-02</th>\n",
       "      <td>1.258194</td>\n",
       "      <td>1.262802</td>\n",
       "      <td>1.252693</td>\n",
       "      <td>1.258194</td>\n",
       "      <td>0.000000</td>\n",
       "      <td>4</td>\n",
       "      <td>0</td>\n",
       "    </tr>\n",
       "    <tr>\n",
       "      <th>2004-01-05</th>\n",
       "      <td>1.263903</td>\n",
       "      <td>1.269406</td>\n",
       "      <td>1.263695</td>\n",
       "      <td>1.268698</td>\n",
       "      <td>0.008313</td>\n",
       "      <td>0</td>\n",
       "      <td>1</td>\n",
       "    </tr>\n",
       "    <tr>\n",
       "      <th>2004-01-06</th>\n",
       "      <td>1.268907</td>\n",
       "      <td>1.280803</td>\n",
       "      <td>1.267202</td>\n",
       "      <td>1.272103</td>\n",
       "      <td>0.002681</td>\n",
       "      <td>1</td>\n",
       "      <td>1</td>\n",
       "    </tr>\n",
       "    <tr>\n",
       "      <th>2004-01-07</th>\n",
       "      <td>1.272394</td>\n",
       "      <td>1.273999</td>\n",
       "      <td>1.262499</td>\n",
       "      <td>1.264095</td>\n",
       "      <td>-0.006315</td>\n",
       "      <td>2</td>\n",
       "      <td>0</td>\n",
       "    </tr>\n",
       "    <tr>\n",
       "      <th>2004-01-08</th>\n",
       "      <td>1.264095</td>\n",
       "      <td>1.278707</td>\n",
       "      <td>1.256502</td>\n",
       "      <td>1.277498</td>\n",
       "      <td>0.010547</td>\n",
       "      <td>3</td>\n",
       "      <td>1</td>\n",
       "    </tr>\n",
       "    <tr>\n",
       "      <th>...</th>\n",
       "      <td>...</td>\n",
       "      <td>...</td>\n",
       "      <td>...</td>\n",
       "      <td>...</td>\n",
       "      <td>...</td>\n",
       "      <td>...</td>\n",
       "      <td>...</td>\n",
       "    </tr>\n",
       "    <tr>\n",
       "      <th>2024-08-15</th>\n",
       "      <td>1.101322</td>\n",
       "      <td>1.101686</td>\n",
       "      <td>1.095050</td>\n",
       "      <td>1.101322</td>\n",
       "      <td>0.001475</td>\n",
       "      <td>3</td>\n",
       "      <td>1</td>\n",
       "    </tr>\n",
       "    <tr>\n",
       "      <th>2024-08-16</th>\n",
       "      <td>1.097273</td>\n",
       "      <td>1.100437</td>\n",
       "      <td>1.097370</td>\n",
       "      <td>1.097273</td>\n",
       "      <td>-0.003683</td>\n",
       "      <td>4</td>\n",
       "      <td>0</td>\n",
       "    </tr>\n",
       "    <tr>\n",
       "      <th>2024-08-19</th>\n",
       "      <td>1.102499</td>\n",
       "      <td>1.107260</td>\n",
       "      <td>1.102390</td>\n",
       "      <td>1.102499</td>\n",
       "      <td>0.004752</td>\n",
       "      <td>0</td>\n",
       "      <td>1</td>\n",
       "    </tr>\n",
       "    <tr>\n",
       "      <th>2024-08-20</th>\n",
       "      <td>1.108647</td>\n",
       "      <td>1.111729</td>\n",
       "      <td>1.107248</td>\n",
       "      <td>1.108647</td>\n",
       "      <td>0.005561</td>\n",
       "      <td>1</td>\n",
       "      <td>1</td>\n",
       "    </tr>\n",
       "    <tr>\n",
       "      <th>2024-08-21</th>\n",
       "      <td>1.112793</td>\n",
       "      <td>1.114827</td>\n",
       "      <td>1.110556</td>\n",
       "      <td>1.112793</td>\n",
       "      <td>0.003732</td>\n",
       "      <td>2</td>\n",
       "      <td>1</td>\n",
       "    </tr>\n",
       "  </tbody>\n",
       "</table>\n",
       "<p>5354 rows × 7 columns</p>\n",
       "</div>"
      ]
     },
     "execution_count": 44,
     "metadata": {},
     "output_type": "execute_result"
    }
   ],
   "execution_count": 44
  },
  {
   "metadata": {
    "ExecuteTime": {
     "end_time": "2024-08-25T05:06:47.643808Z",
     "start_time": "2024-08-25T05:06:47.599427Z"
    }
   },
   "cell_type": "code",
   "source": [
    "tnx_symbol = \"^TNX\"\n",
    "\n",
    "tnx = yf.download(tnx_symbol, start, end, interval=interval)\n",
    "#df.rename(columns={\"Close\": \"price\"}, inplace=True)\n",
    "tnx.drop(columns=['Adj Close', 'Volume', 'Open', 'High', 'Low'], inplace=True)\n",
    "#df.index = df.index.tz_convert('utc')\n",
    "tnx.rename(columns={'Close': 'tnx_close'}, inplace=True)\n",
    "tnx['tnx_returns'] = np.log(tnx['tnx_close'].div(tnx['tnx_close'].shift(1)))\n",
    "tnx.dropna(inplace=True)\n",
    "tnx"
   ],
   "id": "28d8b517ef136bc6",
   "outputs": [
    {
     "name": "stderr",
     "output_type": "stream",
     "text": [
      "[*********************100%%**********************]  1 of 1 completed\n"
     ]
    },
    {
     "data": {
      "text/plain": [
       "            tnx_close  tnx_returns\n",
       "Date                              \n",
       "2004-01-05      4.387     0.003196\n",
       "2004-01-06      4.277    -0.025394\n",
       "2004-01-07      4.246    -0.007274\n",
       "2004-01-08      4.249     0.000706\n",
       "2004-01-09      4.086    -0.039117\n",
       "...               ...          ...\n",
       "2024-08-15      3.926     0.027371\n",
       "2024-08-16      3.892    -0.008698\n",
       "2024-08-19      3.867    -0.006444\n",
       "2024-08-20      3.818    -0.012752\n",
       "2024-08-21      3.778    -0.010532\n",
       "\n",
       "[5188 rows x 2 columns]"
      ],
      "text/html": [
       "<div>\n",
       "<style scoped>\n",
       "    .dataframe tbody tr th:only-of-type {\n",
       "        vertical-align: middle;\n",
       "    }\n",
       "\n",
       "    .dataframe tbody tr th {\n",
       "        vertical-align: top;\n",
       "    }\n",
       "\n",
       "    .dataframe thead th {\n",
       "        text-align: right;\n",
       "    }\n",
       "</style>\n",
       "<table border=\"1\" class=\"dataframe\">\n",
       "  <thead>\n",
       "    <tr style=\"text-align: right;\">\n",
       "      <th></th>\n",
       "      <th>tnx_close</th>\n",
       "      <th>tnx_returns</th>\n",
       "    </tr>\n",
       "    <tr>\n",
       "      <th>Date</th>\n",
       "      <th></th>\n",
       "      <th></th>\n",
       "    </tr>\n",
       "  </thead>\n",
       "  <tbody>\n",
       "    <tr>\n",
       "      <th>2004-01-05</th>\n",
       "      <td>4.387</td>\n",
       "      <td>0.003196</td>\n",
       "    </tr>\n",
       "    <tr>\n",
       "      <th>2004-01-06</th>\n",
       "      <td>4.277</td>\n",
       "      <td>-0.025394</td>\n",
       "    </tr>\n",
       "    <tr>\n",
       "      <th>2004-01-07</th>\n",
       "      <td>4.246</td>\n",
       "      <td>-0.007274</td>\n",
       "    </tr>\n",
       "    <tr>\n",
       "      <th>2004-01-08</th>\n",
       "      <td>4.249</td>\n",
       "      <td>0.000706</td>\n",
       "    </tr>\n",
       "    <tr>\n",
       "      <th>2004-01-09</th>\n",
       "      <td>4.086</td>\n",
       "      <td>-0.039117</td>\n",
       "    </tr>\n",
       "    <tr>\n",
       "      <th>...</th>\n",
       "      <td>...</td>\n",
       "      <td>...</td>\n",
       "    </tr>\n",
       "    <tr>\n",
       "      <th>2024-08-15</th>\n",
       "      <td>3.926</td>\n",
       "      <td>0.027371</td>\n",
       "    </tr>\n",
       "    <tr>\n",
       "      <th>2024-08-16</th>\n",
       "      <td>3.892</td>\n",
       "      <td>-0.008698</td>\n",
       "    </tr>\n",
       "    <tr>\n",
       "      <th>2024-08-19</th>\n",
       "      <td>3.867</td>\n",
       "      <td>-0.006444</td>\n",
       "    </tr>\n",
       "    <tr>\n",
       "      <th>2024-08-20</th>\n",
       "      <td>3.818</td>\n",
       "      <td>-0.012752</td>\n",
       "    </tr>\n",
       "    <tr>\n",
       "      <th>2024-08-21</th>\n",
       "      <td>3.778</td>\n",
       "      <td>-0.010532</td>\n",
       "    </tr>\n",
       "  </tbody>\n",
       "</table>\n",
       "<p>5188 rows × 2 columns</p>\n",
       "</div>"
      ]
     },
     "execution_count": 45,
     "metadata": {},
     "output_type": "execute_result"
    }
   ],
   "execution_count": 45
  },
  {
   "metadata": {
    "ExecuteTime": {
     "end_time": "2024-08-25T05:06:47.715973Z",
     "start_time": "2024-08-25T05:06:47.702190Z"
    }
   },
   "cell_type": "code",
   "source": [
    "forex_combined = tnx.join(df, how='outer')\n",
    "forex_combined"
   ],
   "id": "30af44d4c49bab46",
   "outputs": [
    {
     "data": {
      "text/plain": [
       "            tnx_close  tnx_returns      Open      High       Low     Close  \\\n",
       "Date                                                                         \n",
       "2004-01-02        NaN          NaN  1.258194  1.262802  1.252693  1.258194   \n",
       "2004-01-05      4.387     0.003196  1.263903  1.269406  1.263695  1.268698   \n",
       "2004-01-06      4.277    -0.025394  1.268907  1.280803  1.267202  1.272103   \n",
       "2004-01-07      4.246    -0.007274  1.272394  1.273999  1.262499  1.264095   \n",
       "2004-01-08      4.249     0.000706  1.264095  1.278707  1.256502  1.277498   \n",
       "...               ...          ...       ...       ...       ...       ...   \n",
       "2024-08-15      3.926     0.027371  1.101322  1.101686  1.095050  1.101322   \n",
       "2024-08-16      3.892    -0.008698  1.097273  1.100437  1.097370  1.097273   \n",
       "2024-08-19      3.867    -0.006444  1.102499  1.107260  1.102390  1.102499   \n",
       "2024-08-20      3.818    -0.012752  1.108647  1.111729  1.107248  1.108647   \n",
       "2024-08-21      3.778    -0.010532  1.112793  1.114827  1.110556  1.112793   \n",
       "\n",
       "             returns  day_of_week  dir  \n",
       "Date                                    \n",
       "2004-01-02  0.000000          4.0  0.0  \n",
       "2004-01-05  0.008313          0.0  1.0  \n",
       "2004-01-06  0.002681          1.0  1.0  \n",
       "2004-01-07 -0.006315          2.0  0.0  \n",
       "2004-01-08  0.010547          3.0  1.0  \n",
       "...              ...          ...  ...  \n",
       "2024-08-15  0.001475          3.0  1.0  \n",
       "2024-08-16 -0.003683          4.0  0.0  \n",
       "2024-08-19  0.004752          0.0  1.0  \n",
       "2024-08-20  0.005561          1.0  1.0  \n",
       "2024-08-21  0.003732          2.0  1.0  \n",
       "\n",
       "[5384 rows x 9 columns]"
      ],
      "text/html": [
       "<div>\n",
       "<style scoped>\n",
       "    .dataframe tbody tr th:only-of-type {\n",
       "        vertical-align: middle;\n",
       "    }\n",
       "\n",
       "    .dataframe tbody tr th {\n",
       "        vertical-align: top;\n",
       "    }\n",
       "\n",
       "    .dataframe thead th {\n",
       "        text-align: right;\n",
       "    }\n",
       "</style>\n",
       "<table border=\"1\" class=\"dataframe\">\n",
       "  <thead>\n",
       "    <tr style=\"text-align: right;\">\n",
       "      <th></th>\n",
       "      <th>tnx_close</th>\n",
       "      <th>tnx_returns</th>\n",
       "      <th>Open</th>\n",
       "      <th>High</th>\n",
       "      <th>Low</th>\n",
       "      <th>Close</th>\n",
       "      <th>returns</th>\n",
       "      <th>day_of_week</th>\n",
       "      <th>dir</th>\n",
       "    </tr>\n",
       "    <tr>\n",
       "      <th>Date</th>\n",
       "      <th></th>\n",
       "      <th></th>\n",
       "      <th></th>\n",
       "      <th></th>\n",
       "      <th></th>\n",
       "      <th></th>\n",
       "      <th></th>\n",
       "      <th></th>\n",
       "      <th></th>\n",
       "    </tr>\n",
       "  </thead>\n",
       "  <tbody>\n",
       "    <tr>\n",
       "      <th>2004-01-02</th>\n",
       "      <td>NaN</td>\n",
       "      <td>NaN</td>\n",
       "      <td>1.258194</td>\n",
       "      <td>1.262802</td>\n",
       "      <td>1.252693</td>\n",
       "      <td>1.258194</td>\n",
       "      <td>0.000000</td>\n",
       "      <td>4.0</td>\n",
       "      <td>0.0</td>\n",
       "    </tr>\n",
       "    <tr>\n",
       "      <th>2004-01-05</th>\n",
       "      <td>4.387</td>\n",
       "      <td>0.003196</td>\n",
       "      <td>1.263903</td>\n",
       "      <td>1.269406</td>\n",
       "      <td>1.263695</td>\n",
       "      <td>1.268698</td>\n",
       "      <td>0.008313</td>\n",
       "      <td>0.0</td>\n",
       "      <td>1.0</td>\n",
       "    </tr>\n",
       "    <tr>\n",
       "      <th>2004-01-06</th>\n",
       "      <td>4.277</td>\n",
       "      <td>-0.025394</td>\n",
       "      <td>1.268907</td>\n",
       "      <td>1.280803</td>\n",
       "      <td>1.267202</td>\n",
       "      <td>1.272103</td>\n",
       "      <td>0.002681</td>\n",
       "      <td>1.0</td>\n",
       "      <td>1.0</td>\n",
       "    </tr>\n",
       "    <tr>\n",
       "      <th>2004-01-07</th>\n",
       "      <td>4.246</td>\n",
       "      <td>-0.007274</td>\n",
       "      <td>1.272394</td>\n",
       "      <td>1.273999</td>\n",
       "      <td>1.262499</td>\n",
       "      <td>1.264095</td>\n",
       "      <td>-0.006315</td>\n",
       "      <td>2.0</td>\n",
       "      <td>0.0</td>\n",
       "    </tr>\n",
       "    <tr>\n",
       "      <th>2004-01-08</th>\n",
       "      <td>4.249</td>\n",
       "      <td>0.000706</td>\n",
       "      <td>1.264095</td>\n",
       "      <td>1.278707</td>\n",
       "      <td>1.256502</td>\n",
       "      <td>1.277498</td>\n",
       "      <td>0.010547</td>\n",
       "      <td>3.0</td>\n",
       "      <td>1.0</td>\n",
       "    </tr>\n",
       "    <tr>\n",
       "      <th>...</th>\n",
       "      <td>...</td>\n",
       "      <td>...</td>\n",
       "      <td>...</td>\n",
       "      <td>...</td>\n",
       "      <td>...</td>\n",
       "      <td>...</td>\n",
       "      <td>...</td>\n",
       "      <td>...</td>\n",
       "      <td>...</td>\n",
       "    </tr>\n",
       "    <tr>\n",
       "      <th>2024-08-15</th>\n",
       "      <td>3.926</td>\n",
       "      <td>0.027371</td>\n",
       "      <td>1.101322</td>\n",
       "      <td>1.101686</td>\n",
       "      <td>1.095050</td>\n",
       "      <td>1.101322</td>\n",
       "      <td>0.001475</td>\n",
       "      <td>3.0</td>\n",
       "      <td>1.0</td>\n",
       "    </tr>\n",
       "    <tr>\n",
       "      <th>2024-08-16</th>\n",
       "      <td>3.892</td>\n",
       "      <td>-0.008698</td>\n",
       "      <td>1.097273</td>\n",
       "      <td>1.100437</td>\n",
       "      <td>1.097370</td>\n",
       "      <td>1.097273</td>\n",
       "      <td>-0.003683</td>\n",
       "      <td>4.0</td>\n",
       "      <td>0.0</td>\n",
       "    </tr>\n",
       "    <tr>\n",
       "      <th>2024-08-19</th>\n",
       "      <td>3.867</td>\n",
       "      <td>-0.006444</td>\n",
       "      <td>1.102499</td>\n",
       "      <td>1.107260</td>\n",
       "      <td>1.102390</td>\n",
       "      <td>1.102499</td>\n",
       "      <td>0.004752</td>\n",
       "      <td>0.0</td>\n",
       "      <td>1.0</td>\n",
       "    </tr>\n",
       "    <tr>\n",
       "      <th>2024-08-20</th>\n",
       "      <td>3.818</td>\n",
       "      <td>-0.012752</td>\n",
       "      <td>1.108647</td>\n",
       "      <td>1.111729</td>\n",
       "      <td>1.107248</td>\n",
       "      <td>1.108647</td>\n",
       "      <td>0.005561</td>\n",
       "      <td>1.0</td>\n",
       "      <td>1.0</td>\n",
       "    </tr>\n",
       "    <tr>\n",
       "      <th>2024-08-21</th>\n",
       "      <td>3.778</td>\n",
       "      <td>-0.010532</td>\n",
       "      <td>1.112793</td>\n",
       "      <td>1.114827</td>\n",
       "      <td>1.110556</td>\n",
       "      <td>1.112793</td>\n",
       "      <td>0.003732</td>\n",
       "      <td>2.0</td>\n",
       "      <td>1.0</td>\n",
       "    </tr>\n",
       "  </tbody>\n",
       "</table>\n",
       "<p>5384 rows × 9 columns</p>\n",
       "</div>"
      ]
     },
     "execution_count": 46,
     "metadata": {},
     "output_type": "execute_result"
    }
   ],
   "execution_count": 46
  },
  {
   "metadata": {
    "ExecuteTime": {
     "end_time": "2024-08-25T05:06:47.856712Z",
     "start_time": "2024-08-25T05:06:47.820284Z"
    }
   },
   "cell_type": "code",
   "source": [
    "snp_symbol = \"^SPX\"\n",
    "\n",
    "snp = yf.download(snp_symbol, start, end, interval=interval)\n",
    "#df.rename(columns={\"Close\": \"price\"}, inplace=True)\n",
    "snp.drop(columns=['Adj Close', 'Volume', 'Open', 'High', 'Low'], inplace=True)\n",
    "#df.index = df.index.tz_convert('utc')\n",
    "snp.rename(columns={'Close': 'snp_close'}, inplace=True)\n",
    "snp['snp_returns'] = np.log(snp['snp_close'].div(snp['snp_close'].shift(1)))\n",
    "snp.dropna(inplace=True)\n",
    "snp"
   ],
   "id": "9ac4d35bb3fc6800",
   "outputs": [
    {
     "name": "stderr",
     "output_type": "stream",
     "text": [
      "[*********************100%%**********************]  1 of 1 completed\n"
     ]
    },
    {
     "data": {
      "text/plain": [
       "              snp_close  snp_returns\n",
       "Date                                \n",
       "2004-01-05  1122.219971     0.012319\n",
       "2004-01-06  1123.670044     0.001291\n",
       "2004-01-07  1126.329956     0.002364\n",
       "2004-01-08  1131.920044     0.004951\n",
       "2004-01-09  1121.859985    -0.008927\n",
       "...                 ...          ...\n",
       "2024-08-15  5543.220215     0.016004\n",
       "2024-08-16  5554.250000     0.001988\n",
       "2024-08-19  5608.250000     0.009675\n",
       "2024-08-20  5597.120117    -0.001987\n",
       "2024-08-21  5620.850098     0.004231\n",
       "\n",
       "[5193 rows x 2 columns]"
      ],
      "text/html": [
       "<div>\n",
       "<style scoped>\n",
       "    .dataframe tbody tr th:only-of-type {\n",
       "        vertical-align: middle;\n",
       "    }\n",
       "\n",
       "    .dataframe tbody tr th {\n",
       "        vertical-align: top;\n",
       "    }\n",
       "\n",
       "    .dataframe thead th {\n",
       "        text-align: right;\n",
       "    }\n",
       "</style>\n",
       "<table border=\"1\" class=\"dataframe\">\n",
       "  <thead>\n",
       "    <tr style=\"text-align: right;\">\n",
       "      <th></th>\n",
       "      <th>snp_close</th>\n",
       "      <th>snp_returns</th>\n",
       "    </tr>\n",
       "    <tr>\n",
       "      <th>Date</th>\n",
       "      <th></th>\n",
       "      <th></th>\n",
       "    </tr>\n",
       "  </thead>\n",
       "  <tbody>\n",
       "    <tr>\n",
       "      <th>2004-01-05</th>\n",
       "      <td>1122.219971</td>\n",
       "      <td>0.012319</td>\n",
       "    </tr>\n",
       "    <tr>\n",
       "      <th>2004-01-06</th>\n",
       "      <td>1123.670044</td>\n",
       "      <td>0.001291</td>\n",
       "    </tr>\n",
       "    <tr>\n",
       "      <th>2004-01-07</th>\n",
       "      <td>1126.329956</td>\n",
       "      <td>0.002364</td>\n",
       "    </tr>\n",
       "    <tr>\n",
       "      <th>2004-01-08</th>\n",
       "      <td>1131.920044</td>\n",
       "      <td>0.004951</td>\n",
       "    </tr>\n",
       "    <tr>\n",
       "      <th>2004-01-09</th>\n",
       "      <td>1121.859985</td>\n",
       "      <td>-0.008927</td>\n",
       "    </tr>\n",
       "    <tr>\n",
       "      <th>...</th>\n",
       "      <td>...</td>\n",
       "      <td>...</td>\n",
       "    </tr>\n",
       "    <tr>\n",
       "      <th>2024-08-15</th>\n",
       "      <td>5543.220215</td>\n",
       "      <td>0.016004</td>\n",
       "    </tr>\n",
       "    <tr>\n",
       "      <th>2024-08-16</th>\n",
       "      <td>5554.250000</td>\n",
       "      <td>0.001988</td>\n",
       "    </tr>\n",
       "    <tr>\n",
       "      <th>2024-08-19</th>\n",
       "      <td>5608.250000</td>\n",
       "      <td>0.009675</td>\n",
       "    </tr>\n",
       "    <tr>\n",
       "      <th>2024-08-20</th>\n",
       "      <td>5597.120117</td>\n",
       "      <td>-0.001987</td>\n",
       "    </tr>\n",
       "    <tr>\n",
       "      <th>2024-08-21</th>\n",
       "      <td>5620.850098</td>\n",
       "      <td>0.004231</td>\n",
       "    </tr>\n",
       "  </tbody>\n",
       "</table>\n",
       "<p>5193 rows × 2 columns</p>\n",
       "</div>"
      ]
     },
     "execution_count": 47,
     "metadata": {},
     "output_type": "execute_result"
    }
   ],
   "execution_count": 47
  },
  {
   "metadata": {
    "ExecuteTime": {
     "end_time": "2024-08-25T05:06:48.058347Z",
     "start_time": "2024-08-25T05:06:48.045095Z"
    }
   },
   "cell_type": "code",
   "source": [
    "forex_combined = snp.join(forex_combined, how='outer')\n",
    "forex_combined"
   ],
   "id": "9347367cdb3ee143",
   "outputs": [
    {
     "data": {
      "text/plain": [
       "              snp_close  snp_returns  tnx_close  tnx_returns      Open  \\\n",
       "Date                                                                     \n",
       "2004-01-02          NaN          NaN        NaN          NaN  1.258194   \n",
       "2004-01-05  1122.219971     0.012319      4.387     0.003196  1.263903   \n",
       "2004-01-06  1123.670044     0.001291      4.277    -0.025394  1.268907   \n",
       "2004-01-07  1126.329956     0.002364      4.246    -0.007274  1.272394   \n",
       "2004-01-08  1131.920044     0.004951      4.249     0.000706  1.264095   \n",
       "...                 ...          ...        ...          ...       ...   \n",
       "2024-08-15  5543.220215     0.016004      3.926     0.027371  1.101322   \n",
       "2024-08-16  5554.250000     0.001988      3.892    -0.008698  1.097273   \n",
       "2024-08-19  5608.250000     0.009675      3.867    -0.006444  1.102499   \n",
       "2024-08-20  5597.120117    -0.001987      3.818    -0.012752  1.108647   \n",
       "2024-08-21  5620.850098     0.004231      3.778    -0.010532  1.112793   \n",
       "\n",
       "                High       Low     Close   returns  day_of_week  dir  \n",
       "Date                                                                  \n",
       "2004-01-02  1.262802  1.252693  1.258194  0.000000          4.0  0.0  \n",
       "2004-01-05  1.269406  1.263695  1.268698  0.008313          0.0  1.0  \n",
       "2004-01-06  1.280803  1.267202  1.272103  0.002681          1.0  1.0  \n",
       "2004-01-07  1.273999  1.262499  1.264095 -0.006315          2.0  0.0  \n",
       "2004-01-08  1.278707  1.256502  1.277498  0.010547          3.0  1.0  \n",
       "...              ...       ...       ...       ...          ...  ...  \n",
       "2024-08-15  1.101686  1.095050  1.101322  0.001475          3.0  1.0  \n",
       "2024-08-16  1.100437  1.097370  1.097273 -0.003683          4.0  0.0  \n",
       "2024-08-19  1.107260  1.102390  1.102499  0.004752          0.0  1.0  \n",
       "2024-08-20  1.111729  1.107248  1.108647  0.005561          1.0  1.0  \n",
       "2024-08-21  1.114827  1.110556  1.112793  0.003732          2.0  1.0  \n",
       "\n",
       "[5384 rows x 11 columns]"
      ],
      "text/html": [
       "<div>\n",
       "<style scoped>\n",
       "    .dataframe tbody tr th:only-of-type {\n",
       "        vertical-align: middle;\n",
       "    }\n",
       "\n",
       "    .dataframe tbody tr th {\n",
       "        vertical-align: top;\n",
       "    }\n",
       "\n",
       "    .dataframe thead th {\n",
       "        text-align: right;\n",
       "    }\n",
       "</style>\n",
       "<table border=\"1\" class=\"dataframe\">\n",
       "  <thead>\n",
       "    <tr style=\"text-align: right;\">\n",
       "      <th></th>\n",
       "      <th>snp_close</th>\n",
       "      <th>snp_returns</th>\n",
       "      <th>tnx_close</th>\n",
       "      <th>tnx_returns</th>\n",
       "      <th>Open</th>\n",
       "      <th>High</th>\n",
       "      <th>Low</th>\n",
       "      <th>Close</th>\n",
       "      <th>returns</th>\n",
       "      <th>day_of_week</th>\n",
       "      <th>dir</th>\n",
       "    </tr>\n",
       "    <tr>\n",
       "      <th>Date</th>\n",
       "      <th></th>\n",
       "      <th></th>\n",
       "      <th></th>\n",
       "      <th></th>\n",
       "      <th></th>\n",
       "      <th></th>\n",
       "      <th></th>\n",
       "      <th></th>\n",
       "      <th></th>\n",
       "      <th></th>\n",
       "      <th></th>\n",
       "    </tr>\n",
       "  </thead>\n",
       "  <tbody>\n",
       "    <tr>\n",
       "      <th>2004-01-02</th>\n",
       "      <td>NaN</td>\n",
       "      <td>NaN</td>\n",
       "      <td>NaN</td>\n",
       "      <td>NaN</td>\n",
       "      <td>1.258194</td>\n",
       "      <td>1.262802</td>\n",
       "      <td>1.252693</td>\n",
       "      <td>1.258194</td>\n",
       "      <td>0.000000</td>\n",
       "      <td>4.0</td>\n",
       "      <td>0.0</td>\n",
       "    </tr>\n",
       "    <tr>\n",
       "      <th>2004-01-05</th>\n",
       "      <td>1122.219971</td>\n",
       "      <td>0.012319</td>\n",
       "      <td>4.387</td>\n",
       "      <td>0.003196</td>\n",
       "      <td>1.263903</td>\n",
       "      <td>1.269406</td>\n",
       "      <td>1.263695</td>\n",
       "      <td>1.268698</td>\n",
       "      <td>0.008313</td>\n",
       "      <td>0.0</td>\n",
       "      <td>1.0</td>\n",
       "    </tr>\n",
       "    <tr>\n",
       "      <th>2004-01-06</th>\n",
       "      <td>1123.670044</td>\n",
       "      <td>0.001291</td>\n",
       "      <td>4.277</td>\n",
       "      <td>-0.025394</td>\n",
       "      <td>1.268907</td>\n",
       "      <td>1.280803</td>\n",
       "      <td>1.267202</td>\n",
       "      <td>1.272103</td>\n",
       "      <td>0.002681</td>\n",
       "      <td>1.0</td>\n",
       "      <td>1.0</td>\n",
       "    </tr>\n",
       "    <tr>\n",
       "      <th>2004-01-07</th>\n",
       "      <td>1126.329956</td>\n",
       "      <td>0.002364</td>\n",
       "      <td>4.246</td>\n",
       "      <td>-0.007274</td>\n",
       "      <td>1.272394</td>\n",
       "      <td>1.273999</td>\n",
       "      <td>1.262499</td>\n",
       "      <td>1.264095</td>\n",
       "      <td>-0.006315</td>\n",
       "      <td>2.0</td>\n",
       "      <td>0.0</td>\n",
       "    </tr>\n",
       "    <tr>\n",
       "      <th>2004-01-08</th>\n",
       "      <td>1131.920044</td>\n",
       "      <td>0.004951</td>\n",
       "      <td>4.249</td>\n",
       "      <td>0.000706</td>\n",
       "      <td>1.264095</td>\n",
       "      <td>1.278707</td>\n",
       "      <td>1.256502</td>\n",
       "      <td>1.277498</td>\n",
       "      <td>0.010547</td>\n",
       "      <td>3.0</td>\n",
       "      <td>1.0</td>\n",
       "    </tr>\n",
       "    <tr>\n",
       "      <th>...</th>\n",
       "      <td>...</td>\n",
       "      <td>...</td>\n",
       "      <td>...</td>\n",
       "      <td>...</td>\n",
       "      <td>...</td>\n",
       "      <td>...</td>\n",
       "      <td>...</td>\n",
       "      <td>...</td>\n",
       "      <td>...</td>\n",
       "      <td>...</td>\n",
       "      <td>...</td>\n",
       "    </tr>\n",
       "    <tr>\n",
       "      <th>2024-08-15</th>\n",
       "      <td>5543.220215</td>\n",
       "      <td>0.016004</td>\n",
       "      <td>3.926</td>\n",
       "      <td>0.027371</td>\n",
       "      <td>1.101322</td>\n",
       "      <td>1.101686</td>\n",
       "      <td>1.095050</td>\n",
       "      <td>1.101322</td>\n",
       "      <td>0.001475</td>\n",
       "      <td>3.0</td>\n",
       "      <td>1.0</td>\n",
       "    </tr>\n",
       "    <tr>\n",
       "      <th>2024-08-16</th>\n",
       "      <td>5554.250000</td>\n",
       "      <td>0.001988</td>\n",
       "      <td>3.892</td>\n",
       "      <td>-0.008698</td>\n",
       "      <td>1.097273</td>\n",
       "      <td>1.100437</td>\n",
       "      <td>1.097370</td>\n",
       "      <td>1.097273</td>\n",
       "      <td>-0.003683</td>\n",
       "      <td>4.0</td>\n",
       "      <td>0.0</td>\n",
       "    </tr>\n",
       "    <tr>\n",
       "      <th>2024-08-19</th>\n",
       "      <td>5608.250000</td>\n",
       "      <td>0.009675</td>\n",
       "      <td>3.867</td>\n",
       "      <td>-0.006444</td>\n",
       "      <td>1.102499</td>\n",
       "      <td>1.107260</td>\n",
       "      <td>1.102390</td>\n",
       "      <td>1.102499</td>\n",
       "      <td>0.004752</td>\n",
       "      <td>0.0</td>\n",
       "      <td>1.0</td>\n",
       "    </tr>\n",
       "    <tr>\n",
       "      <th>2024-08-20</th>\n",
       "      <td>5597.120117</td>\n",
       "      <td>-0.001987</td>\n",
       "      <td>3.818</td>\n",
       "      <td>-0.012752</td>\n",
       "      <td>1.108647</td>\n",
       "      <td>1.111729</td>\n",
       "      <td>1.107248</td>\n",
       "      <td>1.108647</td>\n",
       "      <td>0.005561</td>\n",
       "      <td>1.0</td>\n",
       "      <td>1.0</td>\n",
       "    </tr>\n",
       "    <tr>\n",
       "      <th>2024-08-21</th>\n",
       "      <td>5620.850098</td>\n",
       "      <td>0.004231</td>\n",
       "      <td>3.778</td>\n",
       "      <td>-0.010532</td>\n",
       "      <td>1.112793</td>\n",
       "      <td>1.114827</td>\n",
       "      <td>1.110556</td>\n",
       "      <td>1.112793</td>\n",
       "      <td>0.003732</td>\n",
       "      <td>2.0</td>\n",
       "      <td>1.0</td>\n",
       "    </tr>\n",
       "  </tbody>\n",
       "</table>\n",
       "<p>5384 rows × 11 columns</p>\n",
       "</div>"
      ]
     },
     "execution_count": 48,
     "metadata": {},
     "output_type": "execute_result"
    }
   ],
   "execution_count": 48
  },
  {
   "metadata": {
    "ExecuteTime": {
     "end_time": "2024-08-25T05:06:48.217165Z",
     "start_time": "2024-08-25T05:06:48.212280Z"
    }
   },
   "cell_type": "code",
   "source": "features = ['Open', 'High', 'Low', 'Close', 'returns', 'day_of_week', 'snp_close', 'snp_returns', 'tnx_close', 'tnx_returns']",
   "id": "cddfadd8d335a17a",
   "outputs": [],
   "execution_count": 49
  },
  {
   "metadata": {
    "ExecuteTime": {
     "end_time": "2024-08-25T05:07:49.702515Z",
     "start_time": "2024-08-25T05:07:49.676070Z"
    }
   },
   "cell_type": "code",
   "source": [
    "copy = forex_combined.copy()\n",
    "cols = []\n",
    "for f in features:\n",
    "    for lag in range(1, lags + 1):\n",
    "        col = \"{}_lag_{}\".format(f, lag)\n",
    "        copy[col] = copy[f].shift(lag)\n",
    "        cols.append(col)\n",
    "copy.dropna(inplace=True)\n",
    "\n",
    "split = int(len(copy)* 0.8)\n",
    "train = copy.iloc[:split].copy()\n",
    "test = copy.iloc[split:].copy()\n",
    "mu, std = train.mean(), train.std()\n",
    "train_standardized = (train-mu) / std"
   ],
   "id": "bb865971725bc771",
   "outputs": [],
   "execution_count": 51
  },
  {
   "metadata": {
    "ExecuteTime": {
     "end_time": "2024-08-25T05:08:14.835438Z",
     "start_time": "2024-08-25T05:08:14.832011Z"
    }
   },
   "cell_type": "code",
   "source": [
    "### Parameters\n",
    "dropout = 0.3"
   ],
   "id": "4b5c56d9a997aaca",
   "outputs": [],
   "execution_count": 52
  },
  {
   "metadata": {
    "ExecuteTime": {
     "end_time": "2024-08-25T05:08:26.587102Z",
     "start_time": "2024-08-25T05:08:22.232495Z"
    }
   },
   "cell_type": "code",
   "source": [
    "optimizer = Adam(learning_rate = 0.0001)\n",
    "early_stopping = EarlyStopping(monitor='val_loss', patience=10, restore_best_weights=True)\n",
    "\n",
    "set_seeds(100)\n",
    "model = Sequential()\n",
    "model.add(Dense(32, input_dim = len(cols), activity_regularizer = None ,activation = \"relu\", kernel_regularizer=l2(0.001), )) \n",
    "model.add(Dropout(dropout, seed = 100))\n",
    "model.add(Dense(32, activation = \"relu\", activity_regularizer = None, kernel_regularizer=l2(0.001),))\n",
    "model.add(Dense(32, activation = \"relu\", activity_regularizer = None, kernel_regularizer=l2(0.001),))    \n",
    "model.add(Dropout(dropout, seed = 100))        \n",
    "model.add(Dense(1, activation = \"sigmoid\")) \n",
    "model.compile(loss = \"binary_crossentropy\", optimizer = optimizer, metrics = [\"accuracy\"])\n",
    "\n",
    "model.fit(x=train_standardized[cols], y=train['dir'], epochs=30, verbose=False,\n",
    "          validation_split=0.2, shuffle=False, class_weight=cw(train), callbacks=[early_stopping] )\n"
   ],
   "id": "b40d6c39dd275f8a",
   "outputs": [
    {
     "name": "stderr",
     "output_type": "stream",
     "text": [
      "C:\\code\\trading\\v1\\pythonProject\\.venv\\Lib\\site-packages\\keras\\src\\layers\\core\\dense.py:87: UserWarning: Do not pass an `input_shape`/`input_dim` argument to a layer. When using Sequential models, prefer using an `Input(shape)` object as the first layer in the model instead.\n",
      "  super().__init__(activity_regularizer=activity_regularizer, **kwargs)\n",
      "C:\\code\\trading\\v1\\pythonProject\\.venv\\Lib\\site-packages\\keras\\src\\trainers\\data_adapters\\data_adapter_utils.py:126: FutureWarning: Series.__getitem__ treating keys as positions is deprecated. In a future version, integer keys will always be treated as labels (consistent with DataFrame behavior). To access a value by position, use `ser.iloc[pos]`\n",
      "  sample_weight[i] = class_weight.get(int(y[i]), 1.0)\n"
     ]
    },
    {
     "data": {
      "text/plain": [
       "<keras.src.callbacks.history.History at 0x21d142df8d0>"
      ]
     },
     "execution_count": 53,
     "metadata": {},
     "output_type": "execute_result"
    }
   ],
   "execution_count": 53
  },
  {
   "metadata": {
    "ExecuteTime": {
     "end_time": "2024-08-25T05:08:36.648793Z",
     "start_time": "2024-08-25T05:08:36.197761Z"
    }
   },
   "cell_type": "code",
   "source": [
    "loss_train, accuracy_train =  model.evaluate(train_standardized[cols], train['dir'])\n",
    "predict = model.predict(train_standardized[cols])\n",
    "\n",
    "test_standardized = (test-mu) / std\n",
    "loss_test, accuracy_test =  model.evaluate(test_standardized[cols], test['dir'])\n",
    "test['probability'] = model.predict(test_standardized[cols])\n",
    "threshold = 0.53\n",
    "test['position'] = np.where(test.probability < (1-threshold), -1, np.nan)\n",
    "test['position'] = np.where(test.probability > threshold, 1, test.position)\n",
    "test['position'] = test.position.ffill()\n",
    "test['strategy'] = test['position'] * test['returns']\n",
    "test['creturns'] = test['returns'].cumsum().apply(np.exp)\n",
    "test['cstrategy'] = test['strategy'].cumsum().apply(np.exp)\n",
    "test['trades'] = test.position.diff().abs()\n",
    "test['strategy_net'] = test.strategy - test.trades * ptc\n",
    "test['cstrategy_net'] = test['strategy_net'].cumsum().apply(np.exp)"
   ],
   "id": "bb07a81c3c0432fc",
   "outputs": [
    {
     "name": "stdout",
     "output_type": "stream",
     "text": [
      "\u001B[1m95/95\u001B[0m \u001B[32m━━━━━━━━━━━━━━━━━━━━\u001B[0m\u001B[37m\u001B[0m \u001B[1m0s\u001B[0m 554us/step - accuracy: 0.5652 - loss: 0.7707\n",
      "\u001B[1m95/95\u001B[0m \u001B[32m━━━━━━━━━━━━━━━━━━━━\u001B[0m\u001B[37m\u001B[0m \u001B[1m0s\u001B[0m 987us/step\n",
      "\u001B[1m24/24\u001B[0m \u001B[32m━━━━━━━━━━━━━━━━━━━━\u001B[0m\u001B[37m\u001B[0m \u001B[1m0s\u001B[0m 871us/step - accuracy: 0.5102 - loss: 0.7805\n",
      "\u001B[1m24/24\u001B[0m \u001B[32m━━━━━━━━━━━━━━━━━━━━\u001B[0m\u001B[37m\u001B[0m \u001B[1m0s\u001B[0m 828us/step\n"
     ]
    }
   ],
   "execution_count": 54
  },
  {
   "metadata": {
    "ExecuteTime": {
     "end_time": "2024-08-25T05:08:44.590869Z",
     "start_time": "2024-08-25T05:08:44.586808Z"
    }
   },
   "cell_type": "code",
   "source": [
    "print(f\"Loss: {loss_train}\")\n",
    "print(f\"Accuracy: {accuracy_train}\")"
   ],
   "id": "f49a5dca8937f531",
   "outputs": [
    {
     "name": "stdout",
     "output_type": "stream",
     "text": [
      "Loss: 0.7705130577087402\n",
      "Accuracy: 0.5649157762527466\n"
     ]
    }
   ],
   "execution_count": 55
  },
  {
   "metadata": {
    "ExecuteTime": {
     "end_time": "2024-08-25T05:08:49.931528Z",
     "start_time": "2024-08-25T05:08:49.927448Z"
    }
   },
   "cell_type": "code",
   "source": [
    "print(f\"Loss: {loss_test}\")\n",
    "print(f\"Accuracy: {accuracy_test}\")"
   ],
   "id": "eb0640294c8bde87",
   "outputs": [
    {
     "name": "stdout",
     "output_type": "stream",
     "text": [
      "Loss: 0.7779780626296997\n",
      "Accuracy: 0.5125495195388794\n"
     ]
    }
   ],
   "execution_count": 56
  },
  {
   "metadata": {
    "ExecuteTime": {
     "end_time": "2024-08-25T05:08:56.224036Z",
     "start_time": "2024-08-25T05:08:56.119965Z"
    }
   },
   "cell_type": "code",
   "source": "test.probability.hist()",
   "id": "f6b793b4e1df862e",
   "outputs": [
    {
     "data": {
      "text/plain": [
       "<Axes: >"
      ]
     },
     "execution_count": 57,
     "metadata": {},
     "output_type": "execute_result"
    },
    {
     "data": {
      "text/plain": [
       "<Figure size 640x480 with 1 Axes>"
      ],
      "image/png": "[encoded data removed]"
     },
     "metadata": {},
     "output_type": "display_data"
    }
   ],
   "execution_count": 57
  },
  {
   "metadata": {
    "ExecuteTime": {
     "end_time": "2024-08-25T05:09:09.123874Z",
     "start_time": "2024-08-25T05:09:08.771848Z"
    }
   },
   "cell_type": "code",
   "source": [
    "train['probability'] = model.predict(train_standardized[cols])\n",
    "threshold = 0.53\n",
    "train['position'] = np.where(train.probability < (1-threshold), -1, np.nan)\n",
    "train['position'] = np.where(train.probability > threshold, 1, train.position)\n",
    "train['position'] = train.position.ffill()\n",
    "train['strategy'] = train['position'] * train['returns']\n",
    "train['creturns'] = train['returns'].cumsum().apply(np.exp)\n",
    "train['cstrategy'] = train['strategy'].cumsum().apply(np.exp)\n",
    "train['trades'] = train.position.diff().abs()\n",
    "train['strategy_net'] = train.strategy - train.trades * ptc\n",
    "train['cstrategy_net'] = train['strategy_net'].cumsum().apply(np.exp)\n",
    "train[['cstrategy_net', 'cstrategy', 'creturns']].plot()"
   ],
   "id": "559d72bbfbe6681a",
   "outputs": [
    {
     "name": "stdout",
     "output_type": "stream",
     "text": [
      "\u001B[1m95/95\u001B[0m \u001B[32m━━━━━━━━━━━━━━━━━━━━\u001B[0m\u001B[37m\u001B[0m \u001B[1m0s\u001B[0m 495us/step\n"
     ]
    },
    {
     "data": {
      "text/plain": [
       "<Axes: xlabel='Date'>"
      ]
     },
     "execution_count": 58,
     "metadata": {},
     "output_type": "execute_result"
    },
    {
     "data": {
      "text/plain": [
       "<Figure size 640x480 with 1 Axes>"
      ],
      "image/png": "[encoded data removed]"
     },
     "metadata": {},
     "output_type": "display_data"
    }
   ],
   "execution_count": 58
  },
  {
   "metadata": {
    "ExecuteTime": {
     "end_time": "2024-08-25T05:09:20.652807Z",
     "start_time": "2024-08-25T05:09:20.409905Z"
    }
   },
   "cell_type": "code",
   "source": "test[['cstrategy_net', 'cstrategy', 'creturns']].plot()",
   "id": "e5bd8329a06fa297",
   "outputs": [
    {
     "data": {
      "text/plain": [
       "<Axes: xlabel='Date'>"
      ]
     },
     "execution_count": 59,
     "metadata": {},
     "output_type": "execute_result"
    },
    {
     "data": {
      "text/plain": [
       "<Figure size 640x480 with 1 Axes>"
      ],
      "image/png": "[encoded data removed]"
     },
     "metadata": {},
     "output_type": "display_data"
    }
   ],
   "execution_count": 59
  },
  {
   "metadata": {
    "ExecuteTime": {
     "end_time": "2024-08-25T09:23:19.204831Z",
     "start_time": "2024-08-25T09:23:19.028986Z"
    }
   },
   "cell_type": "code",
   "source": [
    "import seaborn as sns\n",
    "%matplotlib inline\n",
    "\n",
    "forex_clean = forex_combined.copy()\n",
    "forex_clean.drop(columns=['Open', 'High', 'Low', 'day_of_week', 'dir'], inplace=True)\n",
    "\n",
    "dataplot = sns.heatmap(forex_clean.corr(), cmap=\"YlGnBu\", annot=True) "
   ],
   "id": "55a8df4c01d5b3cf",
   "outputs": [
    {
     "data": {
      "text/plain": [
       "<Figure size 640x480 with 2 Axes>"
      ],
      "image/png": "[encoded data removed]"
     },
     "metadata": {},
     "output_type": "display_data"
    }
   ],
   "execution_count": 69
  }
 ],
 "metadata": {
  "kernelspec": {
   "display_name": "Python 3",
   "language": "python",
   "name": "python3"
  },
  "language_info": {
   "codemirror_mode": {
    "name": "ipython",
    "version": 2
   },
   "file_extension": ".py",
   "mimetype": "text/x-python",
   "name": "python",
   "nbconvert_exporter": "python",
   "pygments_lexer": "ipython2",
   "version": "2.7.6"
  }
 },
 "nbformat": 4,
 "nbformat_minor": 5
}
