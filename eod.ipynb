{
 "cells": [
  {
   "cell_type": "code",
   "id": "initial_id",
   "metadata": {
    "collapsed": true,
    "ExecuteTime": {
     "end_time": "2024-09-01T01:31:39.535718Z",
     "start_time": "2024-09-01T01:31:38.568987Z"
    }
   },
   "source": [
    "from eodhd import APIClient\n",
    "import pandas as pd\n",
    "from dotenv import load_dotenv, dotenv_values"
   ],
   "outputs": [],
   "execution_count": 1
  },
  {
   "metadata": {
    "ExecuteTime": {
     "end_time": "2024-09-01T01:31:39.569136Z",
     "start_time": "2024-09-01T01:31:39.554813Z"
    }
   },
   "cell_type": "code",
   "source": [
    "config = dotenv_values(\".env\")\n",
    "api = APIClient(config['eod_key'])"
   ],
   "id": "3f5748362d3f1255",
   "outputs": [],
   "execution_count": 2
  },
  {
   "metadata": {
    "ExecuteTime": {
     "end_time": "2024-09-01T01:33:04.885670Z",
     "start_time": "2024-09-01T01:33:03.880060Z"
    }
   },
   "cell_type": "code",
   "source": [
    "resp = api.get_eod_historical_stock_market_data(symbol = 'AAPL.MX', period='d', from_date = '2024-01-01', to_date = '2024-01-15', order='a')\n",
    "df = pd.DataFrame(resp)\n",
    "df"
   ],
   "id": "c5891f3685f9a5b7",
   "outputs": [
    {
     "data": {
      "text/plain": [
       "         date          open          high           low         close  \\\n",
       "0  2024-01-02 3230.00000000 3230.00000000 3136.87010000 3146.91990000   \n",
       "1  2024-01-03 3160.00000000 3160.00000000 3127.03000000 3138.29000000   \n",
       "2  2024-01-04 3139.00000000 3139.00000000 3085.95000000 3097.67990000   \n",
       "3  2024-01-05 3080.00000000 3099.99000000 3043.01000000 3054.03000000   \n",
       "4  2024-01-08 3074.99000000 3126.83010000 3063.00000000 3119.46000000   \n",
       "5  2024-01-09 3119.47000000 3140.97000000 3086.02000000 3137.95000000   \n",
       "6  2024-01-10 3146.99000000 3165.05000000 3121.86010000 3153.73000000   \n",
       "7  2024-01-11 3165.12010000 3170.00000000 3124.01000000 3137.87010000   \n",
       "8  2024-01-12 3129.38990000 3153.18990000 3123.00000000 3136.67990000   \n",
       "9  2024-01-15 3137.99000000 3137.99000000 3071.05000000 3130.00000000   \n",
       "\n",
       "   adjusted_close  volume  \n",
       "0   3135.04670000   17831  \n",
       "1   3126.44930000   17020  \n",
       "2   3085.99250000   14970  \n",
       "3   3042.50720000   10347  \n",
       "4   3107.69040000    3981  \n",
       "5   3126.11060000   31557  \n",
       "6   3141.83110000   12485  \n",
       "7   3126.03100000    3306  \n",
       "8   3124.84530000    7000  \n",
       "9   3118.19060000     488  "
      ],
      "text/html": [
       "<div>\n",
       "<style scoped>\n",
       "    .dataframe tbody tr th:only-of-type {\n",
       "        vertical-align: middle;\n",
       "    }\n",
       "\n",
       "    .dataframe tbody tr th {\n",
       "        vertical-align: top;\n",
       "    }\n",
       "\n",
       "    .dataframe thead th {\n",
       "        text-align: right;\n",
       "    }\n",
       "</style>\n",
       "<table border=\"1\" class=\"dataframe\">\n",
       "  <thead>\n",
       "    <tr style=\"text-align: right;\">\n",
       "      <th></th>\n",
       "      <th>date</th>\n",
       "      <th>open</th>\n",
       "      <th>high</th>\n",
       "      <th>low</th>\n",
       "      <th>close</th>\n",
       "      <th>adjusted_close</th>\n",
       "      <th>volume</th>\n",
       "    </tr>\n",
       "  </thead>\n",
       "  <tbody>\n",
       "    <tr>\n",
       "      <th>0</th>\n",
       "      <td>2024-01-02</td>\n",
       "      <td>3230.00000000</td>\n",
       "      <td>3230.00000000</td>\n",
       "      <td>3136.87010000</td>\n",
       "      <td>3146.91990000</td>\n",
       "      <td>3135.04670000</td>\n",
       "      <td>17831</td>\n",
       "    </tr>\n",
       "    <tr>\n",
       "      <th>1</th>\n",
       "      <td>2024-01-03</td>\n",
       "      <td>3160.00000000</td>\n",
       "      <td>3160.00000000</td>\n",
       "      <td>3127.03000000</td>\n",
       "      <td>3138.29000000</td>\n",
       "      <td>3126.44930000</td>\n",
       "      <td>17020</td>\n",
       "    </tr>\n",
       "    <tr>\n",
       "      <th>2</th>\n",
       "      <td>2024-01-04</td>\n",
       "      <td>3139.00000000</td>\n",
       "      <td>3139.00000000</td>\n",
       "      <td>3085.95000000</td>\n",
       "      <td>3097.67990000</td>\n",
       "      <td>3085.99250000</td>\n",
       "      <td>14970</td>\n",
       "    </tr>\n",
       "    <tr>\n",
       "      <th>3</th>\n",
       "      <td>2024-01-05</td>\n",
       "      <td>3080.00000000</td>\n",
       "      <td>3099.99000000</td>\n",
       "      <td>3043.01000000</td>\n",
       "      <td>3054.03000000</td>\n",
       "      <td>3042.50720000</td>\n",
       "      <td>10347</td>\n",
       "    </tr>\n",
       "    <tr>\n",
       "      <th>4</th>\n",
       "      <td>2024-01-08</td>\n",
       "      <td>3074.99000000</td>\n",
       "      <td>3126.83010000</td>\n",
       "      <td>3063.00000000</td>\n",
       "      <td>3119.46000000</td>\n",
       "      <td>3107.69040000</td>\n",
       "      <td>3981</td>\n",
       "    </tr>\n",
       "    <tr>\n",
       "      <th>5</th>\n",
       "      <td>2024-01-09</td>\n",
       "      <td>3119.47000000</td>\n",
       "      <td>3140.97000000</td>\n",
       "      <td>3086.02000000</td>\n",
       "      <td>3137.95000000</td>\n",
       "      <td>3126.11060000</td>\n",
       "      <td>31557</td>\n",
       "    </tr>\n",
       "    <tr>\n",
       "      <th>6</th>\n",
       "      <td>2024-01-10</td>\n",
       "      <td>3146.99000000</td>\n",
       "      <td>3165.05000000</td>\n",
       "      <td>3121.86010000</td>\n",
       "      <td>3153.73000000</td>\n",
       "      <td>3141.83110000</td>\n",
       "      <td>12485</td>\n",
       "    </tr>\n",
       "    <tr>\n",
       "      <th>7</th>\n",
       "      <td>2024-01-11</td>\n",
       "      <td>3165.12010000</td>\n",
       "      <td>3170.00000000</td>\n",
       "      <td>3124.01000000</td>\n",
       "      <td>3137.87010000</td>\n",
       "      <td>3126.03100000</td>\n",
       "      <td>3306</td>\n",
       "    </tr>\n",
       "    <tr>\n",
       "      <th>8</th>\n",
       "      <td>2024-01-12</td>\n",
       "      <td>3129.38990000</td>\n",
       "      <td>3153.18990000</td>\n",
       "      <td>3123.00000000</td>\n",
       "      <td>3136.67990000</td>\n",
       "      <td>3124.84530000</td>\n",
       "      <td>7000</td>\n",
       "    </tr>\n",
       "    <tr>\n",
       "      <th>9</th>\n",
       "      <td>2024-01-15</td>\n",
       "      <td>3137.99000000</td>\n",
       "      <td>3137.99000000</td>\n",
       "      <td>3071.05000000</td>\n",
       "      <td>3130.00000000</td>\n",
       "      <td>3118.19060000</td>\n",
       "      <td>488</td>\n",
       "    </tr>\n",
       "  </tbody>\n",
       "</table>\n",
       "</div>"
      ]
     },
     "execution_count": 6,
     "metadata": {},
     "output_type": "execute_result"
    }
   ],
   "execution_count": 6
  },
  {
   "metadata": {
    "ExecuteTime": {
     "end_time": "2024-09-01T01:42:31.673613Z",
     "start_time": "2024-09-01T01:42:30.003564Z"
    }
   },
   "cell_type": "code",
   "source": [
    "# \n",
    "resp = api.get_live_stock_prices(date_from = '2024-01-05', date_to = '2024-02-10', ticker = 'AAPL.US')\n",
    "resp"
   ],
   "id": "895e06984bf28f0a",
   "outputs": [
    {
     "data": {
      "text/plain": [
       "{'code': 'AAPL.US',\n",
       " 'timestamp': 1725049680,\n",
       " 'gmtoffset': 0,\n",
       " 'open': 230.19,\n",
       " 'high': 230.4,\n",
       " 'low': 227.48,\n",
       " 'close': 229,\n",
       " 'volume': 52807448,\n",
       " 'previousClose': 229.79,\n",
       " 'change': -0.79,\n",
       " 'change_p': -0.3438}"
      ]
     },
     "execution_count": 9,
     "metadata": {},
     "output_type": "execute_result"
    }
   ],
   "execution_count": 9
  },
  {
   "metadata": {
    "ExecuteTime": {
     "end_time": "2024-09-01T01:46:27.138352Z",
     "start_time": "2024-09-01T01:46:26.224366Z"
    }
   },
   "cell_type": "code",
   "source": [
    "bonds = api.get_bonds_fundamentals_data (isin = \"TMUBMUSD10Y\")\n",
    "bf = pd.DataFrame(bonds) \n",
    "print(bf)"
   ],
   "id": "33df76c95e824b72",
   "outputs": [
    {
     "data": {
      "text/plain": [
       "\u001B[2;36m[09:46:27]\u001B[0m\u001B[2;36m \u001B[0mExpecting value: line \u001B[1;36m1\u001B[0m column \u001B[1;36m1\u001B[0m \u001B[1m(\u001B[0mchar \u001B[1;36m0\u001B[0m\u001B[1m)\u001B[0m                                                  \u001B]8;id=378716;file://C:\\code\\trading\\v1\\pythonProject\\.venv\\Lib\\site-packages\\eodhd\\APIs\\BaseAPI.py\u001B\\\u001B[2mBaseAPI.py\u001B[0m\u001B]8;;\u001B\\\u001B[2m:\u001B[0m\u001B]8;id=722471;file://C:\\code\\trading\\v1\\pythonProject\\.venv\\Lib\\site-packages\\eodhd\\APIs\\BaseAPI.py#39\u001B\\\u001B[2m39\u001B[0m\u001B]8;;\u001B\\\n"
      ],
      "text/html": [
       "<pre style=\"white-space:pre;overflow-x:auto;line-height:normal;font-family:Menlo,'DejaVu Sans Mono',consolas,'Courier New',monospace\"><span style=\"color: #7fbfbf; text-decoration-color: #7fbfbf\">[09:46:27] </span>Expecting value: line <span style=\"color: #008080; text-decoration-color: #008080; font-weight: bold\">1</span> column <span style=\"color: #008080; text-decoration-color: #008080; font-weight: bold\">1</span> <span style=\"font-weight: bold\">(</span>char <span style=\"color: #008080; text-decoration-color: #008080; font-weight: bold\">0</span><span style=\"font-weight: bold\">)</span>                                                  <a href=\"file://C:\\code\\trading\\v1\\pythonProject\\.venv\\Lib\\site-packages\\eodhd\\APIs\\BaseAPI.py\" target=\"_blank\"><span style=\"color: #7f7f7f; text-decoration-color: #7f7f7f\">BaseAPI.py</span></a><span style=\"color: #7f7f7f; text-decoration-color: #7f7f7f\">:</span><a href=\"file://C:\\code\\trading\\v1\\pythonProject\\.venv\\Lib\\site-packages\\eodhd\\APIs\\BaseAPI.py#39\" target=\"_blank\"><span style=\"color: #7f7f7f; text-decoration-color: #7f7f7f\">39</span></a>\n",
       "</pre>\n"
      ]
     },
     "metadata": {},
     "output_type": "display_data"
    },
    {
     "data": {
      "text/plain": [
       "\u001B[2;36m          \u001B[0m\u001B[2;36m \u001B[0m\u001B[1;36m403\u001B[0m Client Error: Forbidden for url:                                                       \u001B]8;id=417747;file://C:\\code\\trading\\v1\\pythonProject\\.venv\\Lib\\site-packages\\eodhd\\APIs\\BaseAPI.py\u001B\\\u001B[2mBaseAPI.py\u001B[0m\u001B]8;;\u001B\\\u001B[2m:\u001B[0m\u001B]8;id=457499;file://C:\\code\\trading\\v1\\pythonProject\\.venv\\Lib\\site-packages\\eodhd\\APIs\\BaseAPI.py#52\u001B\\\u001B[2m52\u001B[0m\u001B]8;;\u001B\\\n",
       "\u001B[2;36m           \u001B[0m\u001B[4;94mhttps://eodhd.com/api/bond-fundamentals/TMUBMUSD10Y?\u001B[0m\u001B[4;94mapi_token\u001B[0m\u001B[4;94m=\u001B[0m\u001B[4;94m66d3c3197c15a4\u001B[0m\u001B[4;94m.32020982&\u001B[0m\u001B[4;94mfmt\u001B[0m\u001B[4;94m=\u001B[0m \u001B[2m             \u001B[0m\n",
       "\u001B[2;36m           \u001B[0m\u001B[4;94mjson\u001B[0m                                                                                       \u001B[2m             \u001B[0m\n"
      ],
      "text/html": [
       "<pre style=\"white-space:pre;overflow-x:auto;line-height:normal;font-family:Menlo,'DejaVu Sans Mono',consolas,'Courier New',monospace\"><span style=\"color: #7fbfbf; text-decoration-color: #7fbfbf\">           </span><span style=\"color: #008080; text-decoration-color: #008080; font-weight: bold\">403</span> Client Error: Forbidden for url:                                                       <a href=\"file://C:\\code\\trading\\v1\\pythonProject\\.venv\\Lib\\site-packages\\eodhd\\APIs\\BaseAPI.py\" target=\"_blank\"><span style=\"color: #7f7f7f; text-decoration-color: #7f7f7f\">BaseAPI.py</span></a><span style=\"color: #7f7f7f; text-decoration-color: #7f7f7f\">:</span><a href=\"file://C:\\code\\trading\\v1\\pythonProject\\.venv\\Lib\\site-packages\\eodhd\\APIs\\BaseAPI.py#52\" target=\"_blank\"><span style=\"color: #7f7f7f; text-decoration-color: #7f7f7f\">52</span></a>\n",
       "<span style=\"color: #7fbfbf; text-decoration-color: #7fbfbf\">           </span><span style=\"color: #0000ff; text-decoration-color: #0000ff; text-decoration: underline\">https://eodhd.com/api/bond-fundamentals/TMUBMUSD10Y?api_token=66d3c3197c15a4.32020982&amp;fmt=</span> <span style=\"color: #7f7f7f; text-decoration-color: #7f7f7f\">             </span>\n",
       "<span style=\"color: #7fbfbf; text-decoration-color: #7fbfbf\">           </span><span style=\"color: #0000ff; text-decoration-color: #0000ff; text-decoration: underline\">json</span>                                                                                       <span style=\"color: #7f7f7f; text-decoration-color: #7f7f7f\">             </span>\n",
       "</pre>\n"
      ]
     },
     "metadata": {},
     "output_type": "display_data"
    },
    {
     "name": "stdout",
     "output_type": "stream",
     "text": [
      "Empty DataFrame\n",
      "Columns: []\n",
      "Index: []\n"
     ]
    }
   ],
   "execution_count": 12
  },
  {
   "metadata": {
    "ExecuteTime": {
     "end_time": "2024-09-01T01:47:00.964075Z",
     "start_time": "2024-09-01T01:47:00.051260Z"
    }
   },
   "cell_type": "code",
   "source": [
    "d_by_datetime = api.get_historical_data(symbol = \"AAPL.US\", iso8601_start = \"2024-01-10\", iso8601_end = \"2024-04-10\", interval = \"5m\")\n",
    "print(d_by_datetime)"
   ],
   "id": "d67051f751215c37",
   "outputs": [
    {
     "data": {
      "text/plain": [
       "\u001B[2;36m[09:47:00]\u001B[0m\u001B[2;36m \u001B[0mExpecting value: line \u001B[1;36m1\u001B[0m column \u001B[1;36m1\u001B[0m \u001B[1m(\u001B[0mchar \u001B[1;36m0\u001B[0m\u001B[1m)\u001B[0m                                               \u001B]8;id=663749;file://C:\\code\\trading\\v1\\pythonProject\\.venv\\Lib\\site-packages\\eodhd\\apiclient.py\u001B\\\u001B[2mapiclient.py\u001B[0m\u001B]8;;\u001B\\\u001B[2m:\u001B[0m\u001B]8;id=187486;file://C:\\code\\trading\\v1\\pythonProject\\.venv\\Lib\\site-packages\\eodhd\\apiclient.py#134\u001B\\\u001B[2m134\u001B[0m\u001B]8;;\u001B\\\n"
      ],
      "text/html": [
       "<pre style=\"white-space:pre;overflow-x:auto;line-height:normal;font-family:Menlo,'DejaVu Sans Mono',consolas,'Courier New',monospace\"><span style=\"color: #7fbfbf; text-decoration-color: #7fbfbf\">[09:47:00] </span>Expecting value: line <span style=\"color: #008080; text-decoration-color: #008080; font-weight: bold\">1</span> column <span style=\"color: #008080; text-decoration-color: #008080; font-weight: bold\">1</span> <span style=\"font-weight: bold\">(</span>char <span style=\"color: #008080; text-decoration-color: #008080; font-weight: bold\">0</span><span style=\"font-weight: bold\">)</span>                                               <a href=\"file://C:\\code\\trading\\v1\\pythonProject\\.venv\\Lib\\site-packages\\eodhd\\apiclient.py\" target=\"_blank\"><span style=\"color: #7f7f7f; text-decoration-color: #7f7f7f\">apiclient.py</span></a><span style=\"color: #7f7f7f; text-decoration-color: #7f7f7f\">:</span><a href=\"file://C:\\code\\trading\\v1\\pythonProject\\.venv\\Lib\\site-packages\\eodhd\\apiclient.py#134\" target=\"_blank\"><span style=\"color: #7f7f7f; text-decoration-color: #7f7f7f\">134</span></a>\n",
       "</pre>\n"
      ]
     },
     "metadata": {},
     "output_type": "display_data"
    },
    {
     "data": {
      "text/plain": [
       "\u001B[2;36m          \u001B[0m\u001B[2;36m \u001B[0m\u001B[1;36m403\u001B[0m Client Error: Forbidden for url:                                                    \u001B]8;id=983185;file://C:\\code\\trading\\v1\\pythonProject\\.venv\\Lib\\site-packages\\eodhd\\apiclient.py\u001B\\\u001B[2mapiclient.py\u001B[0m\u001B]8;;\u001B\\\u001B[2m:\u001B[0m\u001B]8;id=573427;file://C:\\code\\trading\\v1\\pythonProject\\.venv\\Lib\\site-packages\\eodhd\\apiclient.py#150\u001B\\\u001B[2m150\u001B[0m\u001B]8;;\u001B\\\n",
       "\u001B[2;36m           \u001B[0m\u001B[4;94mhttps://eodhd.com/api/intraday/AAPL.US?\u001B[0m\u001B[4;94mapi_token\u001B[0m\u001B[4;94m=\u001B[0m\u001B[4;94m66d3c3197c15a4\u001B[0m\u001B[4;94m.32020982&\u001B[0m\u001B[4;94mfmt\u001B[0m\u001B[4;94m=\u001B[0m\u001B[4;94mjson\u001B[0m\u001B[4;94m&\u001B[0m\u001B[4;94minter\u001B[0m \u001B[2m                \u001B[0m\n",
       "\u001B[2;36m           \u001B[0m\u001B[4;94mval\u001B[0m\u001B[4;94m=\u001B[0m\u001B[4;94m5m\u001B[0m\u001B[4;94m&\u001B[0m\u001B[4;94mfrom\u001B[0m\u001B[4;94m=\u001B[0m\u001B[4;94m1704816000\u001B[0m\u001B[4;94m&\u001B[0m\u001B[4;94mto\u001B[0m\u001B[4;94m=\u001B[0m\u001B[4;94m1712678400\u001B[0m                                                    \u001B[2m                \u001B[0m\n"
      ],
      "text/html": [
       "<pre style=\"white-space:pre;overflow-x:auto;line-height:normal;font-family:Menlo,'DejaVu Sans Mono',consolas,'Courier New',monospace\"><span style=\"color: #7fbfbf; text-decoration-color: #7fbfbf\">           </span><span style=\"color: #008080; text-decoration-color: #008080; font-weight: bold\">403</span> Client Error: Forbidden for url:                                                    <a href=\"file://C:\\code\\trading\\v1\\pythonProject\\.venv\\Lib\\site-packages\\eodhd\\apiclient.py\" target=\"_blank\"><span style=\"color: #7f7f7f; text-decoration-color: #7f7f7f\">apiclient.py</span></a><span style=\"color: #7f7f7f; text-decoration-color: #7f7f7f\">:</span><a href=\"file://C:\\code\\trading\\v1\\pythonProject\\.venv\\Lib\\site-packages\\eodhd\\apiclient.py#150\" target=\"_blank\"><span style=\"color: #7f7f7f; text-decoration-color: #7f7f7f\">150</span></a>\n",
       "<span style=\"color: #7fbfbf; text-decoration-color: #7fbfbf\">           </span><span style=\"color: #0000ff; text-decoration-color: #0000ff; text-decoration: underline\">https://eodhd.com/api/intraday/AAPL.US?api_token=66d3c3197c15a4.32020982&amp;fmt=json&amp;inter</span> <span style=\"color: #7f7f7f; text-decoration-color: #7f7f7f\">                </span>\n",
       "<span style=\"color: #7fbfbf; text-decoration-color: #7fbfbf\">           </span><span style=\"color: #0000ff; text-decoration-color: #0000ff; text-decoration: underline\">val=5m&amp;from=1704816000&amp;to=1712678400</span>                                                    <span style=\"color: #7f7f7f; text-decoration-color: #7f7f7f\">                </span>\n",
       "</pre>\n"
      ]
     },
     "metadata": {},
     "output_type": "display_data"
    },
    {
     "name": "stdout",
     "output_type": "stream",
     "text": [
      "Empty DataFrame\n",
      "Columns: [symbol, interval, open, high, low, close, adjusted_close, volume]\n",
      "Index: []\n"
     ]
    }
   ],
   "execution_count": 13
  }
 ],
 "metadata": {
  "kernelspec": {
   "display_name": "Python 3",
   "language": "python",
   "name": "python3"
  },
  "language_info": {
   "codemirror_mode": {
    "name": "ipython",
    "version": 2
   },
   "file_extension": ".py",
   "mimetype": "text/x-python",
   "name": "python",
   "nbconvert_exporter": "python",
   "pygments_lexer": "ipython2",
   "version": "2.7.6"
  }
 },
 "nbformat": 4,
 "nbformat_minor": 5
}
