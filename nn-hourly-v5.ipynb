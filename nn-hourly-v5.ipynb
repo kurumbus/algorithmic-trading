{
 "cells": [
  {
   "cell_type": "code",
   "id": "initial_id",
   "metadata": {
    "collapsed": true,
    "ExecuteTime": {
     "end_time": "2024-08-25T03:43:35.588242Z",
     "start_time": "2024-08-25T03:43:35.584008Z"
    }
   },
   "source": [
    "from unittest.mock import inplace\n",
    "\n",
    "import pandas as pd\n",
    "import numpy as np\n",
    "import matplotlib.pyplot as plt\n",
    "import yfinance as yf\n",
    "from keras.src.callbacks import EarlyStopping\n",
    "import random\n",
    "import numpy as np\n",
    "import tensorflow as tf\n",
    "from keras.api.layers import Dense, Dropout\n",
    "from keras.api.models import Sequential\n",
    "from keras.api.regularizers import l1, l2\n",
    "from keras.api.optimizers import Adam"
   ],
   "outputs": [],
   "execution_count": 247
  },
  {
   "metadata": {
    "ExecuteTime": {
     "end_time": "2024-08-25T03:43:35.600066Z",
     "start_time": "2024-08-25T03:43:35.596292Z"
    }
   },
   "cell_type": "code",
   "source": [
    "def set_seeds(seed = 100):\n",
    "    random.seed(seed)\n",
    "    np.random.seed(seed)\n",
    "    tf.random.set_seed(seed)\n",
    "    \n",
    "def cw(df):\n",
    "    c0, c1 = np.bincount(df[\"dir\"])\n",
    "    w0 = (1/c0) * (len(df)) / 2\n",
    "    w1 = (1/c1) * (len(df)) / 2\n",
    "    return {0:w0, 1:w1}"
   ],
   "id": "b782f57370576e45",
   "outputs": [],
   "execution_count": 248
  },
  {
   "metadata": {
    "ExecuteTime": {
     "end_time": "2024-08-25T03:43:35.607522Z",
     "start_time": "2024-08-25T03:43:35.604583Z"
    }
   },
   "cell_type": "code",
   "source": [
    "symbol = \"EURUSD=X\"\n",
    "#start = \"2022-08-27\"\n",
    "start = \"2022-08-28\"\n",
    "end = \"2024-08-22\"\n",
    "interval = '1h'\n",
    "ptc = 0.000059\n",
    "lags = 7"
   ],
   "id": "b9805ccb87d70066",
   "outputs": [],
   "execution_count": 249
  },
  {
   "metadata": {
    "ExecuteTime": {
     "end_time": "2024-08-25T03:43:35.674393Z",
     "start_time": "2024-08-25T03:43:35.616407Z"
    }
   },
   "cell_type": "code",
   "source": [
    "df = yf.download(symbol, start, end, interval=interval)\n",
    "#df.rename(columns={\"Close\": \"price\"}, inplace=True)\n",
    "df.drop(columns=['Adj Close', 'Volume'], inplace=True)\n",
    "#df.index = df.index.tz_convert('utc')\n",
    "df['returns'] = np.log(df['Close'].div(df['Close'].shift(1)))\n",
    "df['day_of_week'] = df.index.dayofweek\n",
    "df['dir'] = np.where(df['returns'] > 0, 1,0)\n",
    "df.dropna(inplace=True)\n",
    "features = [\"dir\", 'Open', 'High', 'Low', 'Close', 'returns']"
   ],
   "id": "8cc6e61a6ac618cc",
   "outputs": [
    {
     "name": "stderr",
     "output_type": "stream",
     "text": [
      "[*********************100%%**********************]  1 of 1 completed\n"
     ]
    }
   ],
   "execution_count": 250
  },
  {
   "metadata": {
    "ExecuteTime": {
     "end_time": "2024-08-25T03:43:35.719983Z",
     "start_time": "2024-08-25T03:43:35.693144Z"
    }
   },
   "cell_type": "code",
   "source": [
    "copy = df.copy()\n",
    "cols = []\n",
    "for f in features:\n",
    "    for lag in range(1, lags + 1):\n",
    "        col = \"{}_lag_{}\".format(f, lag)\n",
    "        copy[col] = copy[f].shift(lag)\n",
    "        cols.append(col)\n",
    "copy.dropna(inplace=True)\n",
    "cols.append('day_of_week')\n",
    "split = int(len(copy)* 0.8)\n",
    "train = copy.iloc[:split].copy()\n",
    "test = copy.iloc[split:].copy()\n",
    "mu, std = train.mean(), train.std()\n",
    "train_standardized = (train-mu) / std"
   ],
   "id": "9262fad79b9be002",
   "outputs": [],
   "execution_count": 251
  },
  {
   "metadata": {
    "ExecuteTime": {
     "end_time": "2024-08-25T03:43:35.726363Z",
     "start_time": "2024-08-25T03:43:35.723145Z"
    }
   },
   "cell_type": "code",
   "source": [
    "### Parameters\n",
    "dropout = 0.3"
   ],
   "id": "b901ea99b98523e1",
   "outputs": [],
   "execution_count": 252
  },
  {
   "metadata": {
    "ExecuteTime": {
     "end_time": "2024-08-25T03:43:47.827124Z",
     "start_time": "2024-08-25T03:43:35.735599Z"
    }
   },
   "cell_type": "code",
   "source": [
    "optimizer = Adam(learning_rate = 0.0001)\n",
    "early_stopping = EarlyStopping(monitor='val_loss', patience=10, restore_best_weights=True)\n",
    "\n",
    "set_seeds(100)\n",
    "model = Sequential()\n",
    "model.add(Dense(32, input_dim = len(cols), activity_regularizer = None ,activation = \"relu\", kernel_regularizer=l2(0.001), )) \n",
    "model.add(Dropout(dropout, seed = 100))\n",
    "model.add(Dense(32, activation = \"relu\", activity_regularizer = None, kernel_regularizer=l2(0.001),))\n",
    "model.add(Dense(32, activation = \"relu\", activity_regularizer = None, kernel_regularizer=l2(0.001),))    \n",
    "model.add(Dropout(dropout, seed = 100))        \n",
    "model.add(Dense(1, activation = \"sigmoid\")) \n",
    "model.compile(loss = \"binary_crossentropy\", optimizer = optimizer, metrics = [\"accuracy\"])\n",
    "\n",
    "model.fit(x=train_standardized[cols], y=train['dir'], epochs=30, verbose=False,\n",
    "          validation_split=0.2, shuffle=False, class_weight=cw(train), callbacks=[early_stopping] )\n"
   ],
   "id": "3d945ef08bf3221",
   "outputs": [
    {
     "name": "stderr",
     "output_type": "stream",
     "text": [
      "C:\\code\\trading\\v1\\pythonProject\\.venv\\Lib\\site-packages\\keras\\src\\layers\\core\\dense.py:87: UserWarning: Do not pass an `input_shape`/`input_dim` argument to a layer. When using Sequential models, prefer using an `Input(shape)` object as the first layer in the model instead.\n",
      "  super().__init__(activity_regularizer=activity_regularizer, **kwargs)\n",
      "C:\\code\\trading\\v1\\pythonProject\\.venv\\Lib\\site-packages\\keras\\src\\trainers\\data_adapters\\data_adapter_utils.py:126: FutureWarning: Series.__getitem__ treating keys as positions is deprecated. In a future version, integer keys will always be treated as labels (consistent with DataFrame behavior). To access a value by position, use `ser.iloc[pos]`\n",
      "  sample_weight[i] = class_weight.get(int(y[i]), 1.0)\n"
     ]
    },
    {
     "data": {
      "text/plain": [
       "<keras.src.callbacks.history.History at 0x1942cfed0d0>"
      ]
     },
     "execution_count": 253,
     "metadata": {},
     "output_type": "execute_result"
    }
   ],
   "execution_count": 253
  },
  {
   "metadata": {
    "ExecuteTime": {
     "end_time": "2024-08-25T03:43:49.400253Z",
     "start_time": "2024-08-25T03:43:47.848190Z"
    }
   },
   "cell_type": "code",
   "source": [
    "loss_train, accuracy_train =  model.evaluate(train_standardized[cols], train['dir'])\n",
    "predict = model.predict(train_standardized[cols])\n",
    "\n",
    "test_standardized = (test-mu) / std\n",
    "loss_test, accuracy_test =  model.evaluate(test_standardized[cols], test['dir'])\n",
    "test['probability'] = model.predict(test_standardized[cols])\n",
    "threshold = 0.53\n",
    "test['position'] = np.where(test.probability < (1-threshold), -1, np.nan)\n",
    "test['position'] = np.where(test.probability > threshold, 1, test.position)\n",
    "test['position'] = test.position.ffill()\n",
    "test['strategy'] = test['position'] * test['returns']\n",
    "test['creturns'] = test['returns'].cumsum().apply(np.exp)\n",
    "test['cstrategy'] = test['strategy'].cumsum().apply(np.exp)\n",
    "test['trades'] = test.position.diff().abs()\n",
    "test['strategy_net'] = test.strategy - test.trades * ptc\n",
    "test['cstrategy_net'] = test['strategy_net'].cumsum().apply(np.exp)"
   ],
   "id": "f391aaecdae9bb04",
   "outputs": [
    {
     "name": "stdout",
     "output_type": "stream",
     "text": [
      "\u001B[1m308/308\u001B[0m \u001B[32m━━━━━━━━━━━━━━━━━━━━\u001B[0m\u001B[37m\u001B[0m \u001B[1m0s\u001B[0m 1ms/step - accuracy: 0.5354 - loss: 0.7367\n",
      "\u001B[1m308/308\u001B[0m \u001B[32m━━━━━━━━━━━━━━━━━━━━\u001B[0m\u001B[37m\u001B[0m \u001B[1m0s\u001B[0m 1ms/step\n",
      "\u001B[1m77/77\u001B[0m \u001B[32m━━━━━━━━━━━━━━━━━━━━\u001B[0m\u001B[37m\u001B[0m \u001B[1m0s\u001B[0m 1ms/step - accuracy: 0.5350 - loss: 0.7384\n",
      "\u001B[1m77/77\u001B[0m \u001B[32m━━━━━━━━━━━━━━━━━━━━\u001B[0m\u001B[37m\u001B[0m \u001B[1m0s\u001B[0m 1ms/step\n"
     ]
    }
   ],
   "execution_count": 254
  },
  {
   "metadata": {
    "ExecuteTime": {
     "end_time": "2024-08-25T03:43:49.424061Z",
     "start_time": "2024-08-25T03:43:49.418390Z"
    }
   },
   "cell_type": "code",
   "source": [
    "print(f\"Loss: {loss_train}\")\n",
    "print(f\"Accuracy: {accuracy_train}\")"
   ],
   "id": "4683f4b4dd7cfbf0",
   "outputs": [
    {
     "name": "stdout",
     "output_type": "stream",
     "text": [
      "Loss: 0.7365191578865051\n",
      "Accuracy: 0.5395258665084839\n"
     ]
    }
   ],
   "execution_count": 255
  },
  {
   "metadata": {
    "ExecuteTime": {
     "end_time": "2024-08-25T03:43:49.479504Z",
     "start_time": "2024-08-25T03:43:49.475434Z"
    }
   },
   "cell_type": "code",
   "source": [
    "print(f\"Loss: {loss_test}\")\n",
    "print(f\"Accuracy: {accuracy_test}\")"
   ],
   "id": "6f575fa58fa73cd3",
   "outputs": [
    {
     "name": "stdout",
     "output_type": "stream",
     "text": [
      "Loss: 0.7389277815818787\n",
      "Accuracy: 0.5215622186660767\n"
     ]
    }
   ],
   "execution_count": 256
  },
  {
   "metadata": {
    "ExecuteTime": {
     "end_time": "2024-08-25T03:43:49.725193Z",
     "start_time": "2024-08-25T03:43:49.541431Z"
    }
   },
   "cell_type": "code",
   "source": "test.probability.hist()",
   "id": "e62c05c5d7a3e94d",
   "outputs": [
    {
     "data": {
      "text/plain": [
       "<Axes: >"
      ]
     },
     "execution_count": 257,
     "metadata": {},
     "output_type": "execute_result"
    },
    {
     "data": {
      "text/plain": [
       "<Figure size 640x480 with 1 Axes>"
      ],
      "image/png": "[encoded data removed]"
     },
     "metadata": {},
     "output_type": "display_data"
    }
   ],
   "execution_count": 257
  },
  {
   "metadata": {
    "ExecuteTime": {
     "end_time": "2024-08-25T03:43:49.749471Z",
     "start_time": "2024-08-25T03:43:49.743499Z"
    }
   },
   "cell_type": "code",
   "source": "test.creturns.corr(test.cstrategy)",
   "id": "2e77923ccf6611cf",
   "outputs": [
    {
     "data": {
      "text/plain": [
       "0.8864333808449487"
      ]
     },
     "execution_count": 258,
     "metadata": {},
     "output_type": "execute_result"
    }
   ],
   "execution_count": 258
  },
  {
   "metadata": {
    "ExecuteTime": {
     "end_time": "2024-08-25T03:43:49.837553Z",
     "start_time": "2024-08-25T03:43:49.829712Z"
    }
   },
   "cell_type": "code",
   "source": "test.position.value_counts()",
   "id": "49142fff6b0af84",
   "outputs": [
    {
     "data": {
      "text/plain": [
       "position\n",
       " 1.0    1789\n",
       "-1.0     651\n",
       "Name: count, dtype: int64"
      ]
     },
     "execution_count": 259,
     "metadata": {},
     "output_type": "execute_result"
    }
   ],
   "execution_count": 259
  },
  {
   "metadata": {
    "ExecuteTime": {
     "end_time": "2024-08-25T03:43:51.866154Z",
     "start_time": "2024-08-25T03:43:49.977231Z"
    }
   },
   "cell_type": "code",
   "source": [
    "train['probability'] = model.predict(train_standardized[cols])\n",
    "threshold = 0.53\n",
    "train['position'] = np.where(train.probability < (1-threshold), -1, np.nan)\n",
    "train['position'] = np.where(train.probability > threshold, 1, train.position)\n",
    "train['position'] = train.position.ffill()\n",
    "train['strategy'] = train['position'] * train['returns']\n",
    "train['creturns'] = train['returns'].cumsum().apply(np.exp)\n",
    "train['cstrategy'] = train['strategy'].cumsum().apply(np.exp)\n",
    "train['trades'] = train.position.diff().abs()\n",
    "train['strategy_net'] = train.strategy - train.trades * ptc\n",
    "train['cstrategy_net'] = train['strategy_net'].cumsum().apply(np.exp)\n",
    "train[['cstrategy_net', 'cstrategy', 'creturns']].plot()"
   ],
   "id": "35503ebb2054d35",
   "outputs": [
    {
     "name": "stdout",
     "output_type": "stream",
     "text": [
      "\u001B[1m308/308\u001B[0m \u001B[32m━━━━━━━━━━━━━━━━━━━━\u001B[0m\u001B[37m\u001B[0m \u001B[1m0s\u001B[0m 1ms/step\n"
     ]
    },
    {
     "data": {
      "text/plain": [
       "<Axes: xlabel='Datetime'>"
      ]
     },
     "execution_count": 260,
     "metadata": {},
     "output_type": "execute_result"
    },
    {
     "data": {
      "text/plain": [
       "<Figure size 640x480 with 1 Axes>"
      ],
      "image/png": "[encoded data removed]"
     },
     "metadata": {},
     "output_type": "display_data"
    }
   ],
   "execution_count": 260
  },
  {
   "metadata": {
    "ExecuteTime": {
     "end_time": "2024-08-25T03:43:52.344824Z",
     "start_time": "2024-08-25T03:43:51.903698Z"
    }
   },
   "cell_type": "code",
   "source": "test[['cstrategy_net', 'cstrategy', 'creturns']].plot()",
   "id": "2e536b11d081a21",
   "outputs": [
    {
     "data": {
      "text/plain": [
       "<Axes: xlabel='Datetime'>"
      ]
     },
     "execution_count": 261,
     "metadata": {},
     "output_type": "execute_result"
    },
    {
     "data": {
      "text/plain": [
       "<Figure size 640x480 with 1 Axes>"
      ],
      "image/png": "[encoded data removed]"
     },
     "metadata": {},
     "output_type": "display_data"
    }
   ],
   "execution_count": 261
  },
  {
   "metadata": {
    "ExecuteTime": {
     "end_time": "2024-08-25T03:43:52.366478Z",
     "start_time": "2024-08-25T03:43:52.356099Z"
    }
   },
   "cell_type": "code",
   "source": [
    "analysis = test.copy()\n",
    "analysis.drop(columns = cols, inplace = True)\n",
    "analysis.dropna(inplace = True)"
   ],
   "id": "c8ff124b6f163697",
   "outputs": [],
   "execution_count": 262
  },
  {
   "metadata": {
    "ExecuteTime": {
     "end_time": "2024-08-25T03:43:52.404854Z",
     "start_time": "2024-08-25T03:43:52.400356Z"
    }
   },
   "cell_type": "code",
   "source": "analysis.cstrategy_net.iloc[-1]",
   "id": "4835fdad07820181",
   "outputs": [
    {
     "data": {
      "text/plain": [
       "1.0287994395524556"
      ]
     },
     "execution_count": 263,
     "metadata": {},
     "output_type": "execute_result"
    }
   ],
   "execution_count": 263
  },
  {
   "metadata": {
    "ExecuteTime": {
     "end_time": "2024-08-25T03:43:52.668623Z",
     "start_time": "2024-08-25T03:43:52.648625Z"
    }
   },
   "cell_type": "code",
   "source": "analysis",
   "id": "eb4a028e141da00a",
   "outputs": [
    {
     "data": {
      "text/plain": [
       "                               Open      High       Low     Close   returns  \\\n",
       "Datetime                                                                      \n",
       "2024-04-01 13:00:00+01:00  1.078749  1.078865  1.078051  1.078400 -0.000216   \n",
       "2024-04-01 14:00:00+01:00  1.078400  1.078516  1.077470  1.077702 -0.000647   \n",
       "2024-04-01 15:00:00+01:00  1.076658  1.076658  1.074229  1.074691 -0.002798   \n",
       "2024-04-01 16:00:00+01:00  1.074807  1.074807  1.073422  1.073537 -0.001074   \n",
       "2024-04-01 17:00:00+01:00  1.073537  1.073998  1.073422  1.073998  0.000430   \n",
       "...                             ...       ...       ...       ...       ...   \n",
       "2024-08-21 19:00:00+01:00  1.116321  1.117693  1.116321  1.116445  0.000447   \n",
       "2024-08-21 20:00:00+01:00  1.116321  1.116321  1.115449  1.115573 -0.000781   \n",
       "2024-08-21 21:00:00+01:00  1.115573  1.115822  1.115076  1.115324 -0.000223   \n",
       "2024-08-21 22:00:00+01:00  1.115324  1.115822  1.115200  1.115324  0.000000   \n",
       "2024-08-21 23:00:00+01:00  1.115573  1.115947  1.115573  1.115947  0.000558   \n",
       "\n",
       "                           dir  probability  position  strategy  creturns  \\\n",
       "Datetime                                                                    \n",
       "2024-04-01 13:00:00+01:00    0     0.485802       1.0 -0.000216  0.999137   \n",
       "2024-04-01 14:00:00+01:00    0     0.518234       1.0 -0.000647  0.998491   \n",
       "2024-04-01 15:00:00+01:00    0     0.491325       1.0 -0.002798  0.995701   \n",
       "2024-04-01 16:00:00+01:00    0     0.535691       1.0 -0.001074  0.994632   \n",
       "2024-04-01 17:00:00+01:00    1     0.539479       1.0  0.000430  0.995060   \n",
       "...                        ...          ...       ...       ...       ...   \n",
       "2024-08-21 19:00:00+01:00    1     0.459666      -1.0 -0.000447  1.034387   \n",
       "2024-08-21 20:00:00+01:00    0     0.474686      -1.0  0.000781  1.033579   \n",
       "2024-08-21 21:00:00+01:00    0     0.480614      -1.0  0.000223  1.033348   \n",
       "2024-08-21 22:00:00+01:00    0     0.494853      -1.0 -0.000000  1.033348   \n",
       "2024-08-21 23:00:00+01:00    1     0.486959      -1.0 -0.000558  1.033925   \n",
       "\n",
       "                           cstrategy  trades  strategy_net  cstrategy_net  \n",
       "Datetime                                                                   \n",
       "2024-04-01 13:00:00+01:00   1.000000     0.0     -0.000216       0.999784  \n",
       "2024-04-01 14:00:00+01:00   0.999353     0.0     -0.000647       0.999138  \n",
       "2024-04-01 15:00:00+01:00   0.996561     0.0     -0.002798       0.996346  \n",
       "2024-04-01 16:00:00+01:00   0.995491     0.0     -0.001074       0.995276  \n",
       "2024-04-01 17:00:00+01:00   0.995919     0.0      0.000430       0.995704  \n",
       "...                              ...     ...           ...            ...  \n",
       "2024-08-21 19:00:00+01:00   1.037950     0.0     -0.000447       1.028340  \n",
       "2024-08-21 20:00:00+01:00   1.038761     0.0      0.000781       1.029144  \n",
       "2024-08-21 21:00:00+01:00   1.038993     0.0      0.000223       1.029374  \n",
       "2024-08-21 22:00:00+01:00   1.038993     0.0     -0.000000       1.029374  \n",
       "2024-08-21 23:00:00+01:00   1.038414     0.0     -0.000558       1.028799  \n",
       "\n",
       "[2439 rows x 14 columns]"
      ],
      "text/html": [
       "<div>\n",
       "<style scoped>\n",
       "    .dataframe tbody tr th:only-of-type {\n",
       "        vertical-align: middle;\n",
       "    }\n",
       "\n",
       "    .dataframe tbody tr th {\n",
       "        vertical-align: top;\n",
       "    }\n",
       "\n",
       "    .dataframe thead th {\n",
       "        text-align: right;\n",
       "    }\n",
       "</style>\n",
       "<table border=\"1\" class=\"dataframe\">\n",
       "  <thead>\n",
       "    <tr style=\"text-align: right;\">\n",
       "      <th></th>\n",
       "      <th>Open</th>\n",
       "      <th>High</th>\n",
       "      <th>Low</th>\n",
       "      <th>Close</th>\n",
       "      <th>returns</th>\n",
       "      <th>dir</th>\n",
       "      <th>probability</th>\n",
       "      <th>position</th>\n",
       "      <th>strategy</th>\n",
       "      <th>creturns</th>\n",
       "      <th>cstrategy</th>\n",
       "      <th>trades</th>\n",
       "      <th>strategy_net</th>\n",
       "      <th>cstrategy_net</th>\n",
       "    </tr>\n",
       "    <tr>\n",
       "      <th>Datetime</th>\n",
       "      <th></th>\n",
       "      <th></th>\n",
       "      <th></th>\n",
       "      <th></th>\n",
       "      <th></th>\n",
       "      <th></th>\n",
       "      <th></th>\n",
       "      <th></th>\n",
       "      <th></th>\n",
       "      <th></th>\n",
       "      <th></th>\n",
       "      <th></th>\n",
       "      <th></th>\n",
       "      <th></th>\n",
       "    </tr>\n",
       "  </thead>\n",
       "  <tbody>\n",
       "    <tr>\n",
       "      <th>2024-04-01 13:00:00+01:00</th>\n",
       "      <td>1.078749</td>\n",
       "      <td>1.078865</td>\n",
       "      <td>1.078051</td>\n",
       "      <td>1.078400</td>\n",
       "      <td>-0.000216</td>\n",
       "      <td>0</td>\n",
       "      <td>0.485802</td>\n",
       "      <td>1.0</td>\n",
       "      <td>-0.000216</td>\n",
       "      <td>0.999137</td>\n",
       "      <td>1.000000</td>\n",
       "      <td>0.0</td>\n",
       "      <td>-0.000216</td>\n",
       "      <td>0.999784</td>\n",
       "    </tr>\n",
       "    <tr>\n",
       "      <th>2024-04-01 14:00:00+01:00</th>\n",
       "      <td>1.078400</td>\n",
       "      <td>1.078516</td>\n",
       "      <td>1.077470</td>\n",
       "      <td>1.077702</td>\n",
       "      <td>-0.000647</td>\n",
       "      <td>0</td>\n",
       "      <td>0.518234</td>\n",
       "      <td>1.0</td>\n",
       "      <td>-0.000647</td>\n",
       "      <td>0.998491</td>\n",
       "      <td>0.999353</td>\n",
       "      <td>0.0</td>\n",
       "      <td>-0.000647</td>\n",
       "      <td>0.999138</td>\n",
       "    </tr>\n",
       "    <tr>\n",
       "      <th>2024-04-01 15:00:00+01:00</th>\n",
       "      <td>1.076658</td>\n",
       "      <td>1.076658</td>\n",
       "      <td>1.074229</td>\n",
       "      <td>1.074691</td>\n",
       "      <td>-0.002798</td>\n",
       "      <td>0</td>\n",
       "      <td>0.491325</td>\n",
       "      <td>1.0</td>\n",
       "      <td>-0.002798</td>\n",
       "      <td>0.995701</td>\n",
       "      <td>0.996561</td>\n",
       "      <td>0.0</td>\n",
       "      <td>-0.002798</td>\n",
       "      <td>0.996346</td>\n",
       "    </tr>\n",
       "    <tr>\n",
       "      <th>2024-04-01 16:00:00+01:00</th>\n",
       "      <td>1.074807</td>\n",
       "      <td>1.074807</td>\n",
       "      <td>1.073422</td>\n",
       "      <td>1.073537</td>\n",
       "      <td>-0.001074</td>\n",
       "      <td>0</td>\n",
       "      <td>0.535691</td>\n",
       "      <td>1.0</td>\n",
       "      <td>-0.001074</td>\n",
       "      <td>0.994632</td>\n",
       "      <td>0.995491</td>\n",
       "      <td>0.0</td>\n",
       "      <td>-0.001074</td>\n",
       "      <td>0.995276</td>\n",
       "    </tr>\n",
       "    <tr>\n",
       "      <th>2024-04-01 17:00:00+01:00</th>\n",
       "      <td>1.073537</td>\n",
       "      <td>1.073998</td>\n",
       "      <td>1.073422</td>\n",
       "      <td>1.073998</td>\n",
       "      <td>0.000430</td>\n",
       "      <td>1</td>\n",
       "      <td>0.539479</td>\n",
       "      <td>1.0</td>\n",
       "      <td>0.000430</td>\n",
       "      <td>0.995060</td>\n",
       "      <td>0.995919</td>\n",
       "      <td>0.0</td>\n",
       "      <td>0.000430</td>\n",
       "      <td>0.995704</td>\n",
       "    </tr>\n",
       "    <tr>\n",
       "      <th>...</th>\n",
       "      <td>...</td>\n",
       "      <td>...</td>\n",
       "      <td>...</td>\n",
       "      <td>...</td>\n",
       "      <td>...</td>\n",
       "      <td>...</td>\n",
       "      <td>...</td>\n",
       "      <td>...</td>\n",
       "      <td>...</td>\n",
       "      <td>...</td>\n",
       "      <td>...</td>\n",
       "      <td>...</td>\n",
       "      <td>...</td>\n",
       "      <td>...</td>\n",
       "    </tr>\n",
       "    <tr>\n",
       "      <th>2024-08-21 19:00:00+01:00</th>\n",
       "      <td>1.116321</td>\n",
       "      <td>1.117693</td>\n",
       "      <td>1.116321</td>\n",
       "      <td>1.116445</td>\n",
       "      <td>0.000447</td>\n",
       "      <td>1</td>\n",
       "      <td>0.459666</td>\n",
       "      <td>-1.0</td>\n",
       "      <td>-0.000447</td>\n",
       "      <td>1.034387</td>\n",
       "      <td>1.037950</td>\n",
       "      <td>0.0</td>\n",
       "      <td>-0.000447</td>\n",
       "      <td>1.028340</td>\n",
       "    </tr>\n",
       "    <tr>\n",
       "      <th>2024-08-21 20:00:00+01:00</th>\n",
       "      <td>1.116321</td>\n",
       "      <td>1.116321</td>\n",
       "      <td>1.115449</td>\n",
       "      <td>1.115573</td>\n",
       "      <td>-0.000781</td>\n",
       "      <td>0</td>\n",
       "      <td>0.474686</td>\n",
       "      <td>-1.0</td>\n",
       "      <td>0.000781</td>\n",
       "      <td>1.033579</td>\n",
       "      <td>1.038761</td>\n",
       "      <td>0.0</td>\n",
       "      <td>0.000781</td>\n",
       "      <td>1.029144</td>\n",
       "    </tr>\n",
       "    <tr>\n",
       "      <th>2024-08-21 21:00:00+01:00</th>\n",
       "      <td>1.115573</td>\n",
       "      <td>1.115822</td>\n",
       "      <td>1.115076</td>\n",
       "      <td>1.115324</td>\n",
       "      <td>-0.000223</td>\n",
       "      <td>0</td>\n",
       "      <td>0.480614</td>\n",
       "      <td>-1.0</td>\n",
       "      <td>0.000223</td>\n",
       "      <td>1.033348</td>\n",
       "      <td>1.038993</td>\n",
       "      <td>0.0</td>\n",
       "      <td>0.000223</td>\n",
       "      <td>1.029374</td>\n",
       "    </tr>\n",
       "    <tr>\n",
       "      <th>2024-08-21 22:00:00+01:00</th>\n",
       "      <td>1.115324</td>\n",
       "      <td>1.115822</td>\n",
       "      <td>1.115200</td>\n",
       "      <td>1.115324</td>\n",
       "      <td>0.000000</td>\n",
       "      <td>0</td>\n",
       "      <td>0.494853</td>\n",
       "      <td>-1.0</td>\n",
       "      <td>-0.000000</td>\n",
       "      <td>1.033348</td>\n",
       "      <td>1.038993</td>\n",
       "      <td>0.0</td>\n",
       "      <td>-0.000000</td>\n",
       "      <td>1.029374</td>\n",
       "    </tr>\n",
       "    <tr>\n",
       "      <th>2024-08-21 23:00:00+01:00</th>\n",
       "      <td>1.115573</td>\n",
       "      <td>1.115947</td>\n",
       "      <td>1.115573</td>\n",
       "      <td>1.115947</td>\n",
       "      <td>0.000558</td>\n",
       "      <td>1</td>\n",
       "      <td>0.486959</td>\n",
       "      <td>-1.0</td>\n",
       "      <td>-0.000558</td>\n",
       "      <td>1.033925</td>\n",
       "      <td>1.038414</td>\n",
       "      <td>0.0</td>\n",
       "      <td>-0.000558</td>\n",
       "      <td>1.028799</td>\n",
       "    </tr>\n",
       "  </tbody>\n",
       "</table>\n",
       "<p>2439 rows × 14 columns</p>\n",
       "</div>"
      ]
     },
     "execution_count": 264,
     "metadata": {},
     "output_type": "execute_result"
    }
   ],
   "execution_count": 264
  },
  {
   "metadata": {
    "ExecuteTime": {
     "end_time": "2024-08-25T03:43:52.771119Z",
     "start_time": "2024-08-25T03:43:52.767661Z"
    }
   },
   "cell_type": "code",
   "source": "analysis['dir_position'] = np.where(analysis['probability'] < 0.47, 0, np.where(analysis['probability'] > 0.53, 1, np.nan))",
   "id": "29af9d26df620cc0",
   "outputs": [],
   "execution_count": 265
  },
  {
   "metadata": {
    "ExecuteTime": {
     "end_time": "2024-08-25T03:43:52.864794Z",
     "start_time": "2024-08-25T03:43:52.843351Z"
    }
   },
   "cell_type": "code",
   "source": "analysis[(analysis.dir_position != analysis.dir) & (pd.notna(analysis.dir_position))]",
   "id": "b0365f8e052d0a3b",
   "outputs": [
    {
     "data": {
      "text/plain": [
       "                               Open      High       Low     Close   returns  \\\n",
       "Datetime                                                                      \n",
       "2024-04-01 16:00:00+01:00  1.074807  1.074807  1.073422  1.073537 -0.001074   \n",
       "2024-04-04 16:00:00+01:00  1.087075  1.087075  1.086602  1.086720 -0.000326   \n",
       "2024-04-05 16:00:00+01:00  1.082017  1.084599  1.082017  1.084363  0.001950   \n",
       "2024-04-08 23:00:00+01:00  1.086248  1.086366  1.086248  1.086248  0.000000   \n",
       "2024-04-09 16:00:00+01:00  1.086012  1.086248  1.085541  1.085894 -0.000109   \n",
       "...                             ...       ...       ...       ...       ...   \n",
       "2024-08-20 08:00:00+01:00  1.108525  1.108893  1.107542  1.108893  0.000333   \n",
       "2024-08-20 19:00:00+01:00  1.111852  1.112595  1.111852  1.112347  0.000334   \n",
       "2024-08-20 21:00:00+01:00  1.112842  1.113338  1.112718  1.113338  0.000557   \n",
       "2024-08-21 17:00:00+01:00  1.114579  1.115200  1.114579  1.114951  0.000334   \n",
       "2024-08-21 19:00:00+01:00  1.116321  1.117693  1.116321  1.116445  0.000447   \n",
       "\n",
       "                           dir  probability  position  strategy  creturns  \\\n",
       "Datetime                                                                    \n",
       "2024-04-01 16:00:00+01:00    0     0.535691       1.0 -0.001074  0.994632   \n",
       "2024-04-04 16:00:00+01:00    0     0.541846       1.0 -0.000326  1.006846   \n",
       "2024-04-05 16:00:00+01:00    1     0.459171      -1.0 -0.001950  1.004663   \n",
       "2024-04-08 23:00:00+01:00    0     0.536353       1.0  0.000000  1.006409   \n",
       "2024-04-09 16:00:00+01:00    0     0.544416       1.0 -0.000109  1.006081   \n",
       "...                        ...          ...       ...       ...       ...   \n",
       "2024-08-20 08:00:00+01:00    1     0.465228      -1.0 -0.000333  1.027390   \n",
       "2024-08-20 19:00:00+01:00    1     0.459326      -1.0 -0.000334  1.030590   \n",
       "2024-08-20 21:00:00+01:00    1     0.467403      -1.0 -0.000557  1.031508   \n",
       "2024-08-21 17:00:00+01:00    1     0.464835      -1.0 -0.000334  1.033003   \n",
       "2024-08-21 19:00:00+01:00    1     0.459666      -1.0 -0.000447  1.034387   \n",
       "\n",
       "                           cstrategy  trades  strategy_net  cstrategy_net  \\\n",
       "Datetime                                                                    \n",
       "2024-04-01 16:00:00+01:00   0.995491     0.0     -0.001074       0.995276   \n",
       "2024-04-04 16:00:00+01:00   1.007716     0.0     -0.000326       1.007498   \n",
       "2024-04-05 16:00:00+01:00   1.012966     2.0     -0.002068       1.012150   \n",
       "2024-04-08 23:00:00+01:00   1.011208     2.0     -0.000118       1.010274   \n",
       "2024-04-09 16:00:00+01:00   1.010878     0.0     -0.000109       1.009945   \n",
       "...                              ...     ...           ...            ...   \n",
       "2024-08-20 08:00:00+01:00   1.045019     0.0     -0.000333       1.035343   \n",
       "2024-08-20 19:00:00+01:00   1.041774     0.0     -0.000334       1.032129   \n",
       "2024-08-20 21:00:00+01:00   1.040847     0.0     -0.000557       1.031210   \n",
       "2024-08-21 17:00:00+01:00   1.039341     0.0     -0.000334       1.029718   \n",
       "2024-08-21 19:00:00+01:00   1.037950     0.0     -0.000447       1.028340   \n",
       "\n",
       "                           dir_position  \n",
       "Datetime                                 \n",
       "2024-04-01 16:00:00+01:00           1.0  \n",
       "2024-04-04 16:00:00+01:00           1.0  \n",
       "2024-04-05 16:00:00+01:00           0.0  \n",
       "2024-04-08 23:00:00+01:00           1.0  \n",
       "2024-04-09 16:00:00+01:00           1.0  \n",
       "...                                 ...  \n",
       "2024-08-20 08:00:00+01:00           0.0  \n",
       "2024-08-20 19:00:00+01:00           0.0  \n",
       "2024-08-20 21:00:00+01:00           0.0  \n",
       "2024-08-21 17:00:00+01:00           0.0  \n",
       "2024-08-21 19:00:00+01:00           0.0  \n",
       "\n",
       "[110 rows x 15 columns]"
      ],
      "text/html": [
       "<div>\n",
       "<style scoped>\n",
       "    .dataframe tbody tr th:only-of-type {\n",
       "        vertical-align: middle;\n",
       "    }\n",
       "\n",
       "    .dataframe tbody tr th {\n",
       "        vertical-align: top;\n",
       "    }\n",
       "\n",
       "    .dataframe thead th {\n",
       "        text-align: right;\n",
       "    }\n",
       "</style>\n",
       "<table border=\"1\" class=\"dataframe\">\n",
       "  <thead>\n",
       "    <tr style=\"text-align: right;\">\n",
       "      <th></th>\n",
       "      <th>Open</th>\n",
       "      <th>High</th>\n",
       "      <th>Low</th>\n",
       "      <th>Close</th>\n",
       "      <th>returns</th>\n",
       "      <th>dir</th>\n",
       "      <th>probability</th>\n",
       "      <th>position</th>\n",
       "      <th>strategy</th>\n",
       "      <th>creturns</th>\n",
       "      <th>cstrategy</th>\n",
       "      <th>trades</th>\n",
       "      <th>strategy_net</th>\n",
       "      <th>cstrategy_net</th>\n",
       "      <th>dir_position</th>\n",
       "    </tr>\n",
       "    <tr>\n",
       "      <th>Datetime</th>\n",
       "      <th></th>\n",
       "      <th></th>\n",
       "      <th></th>\n",
       "      <th></th>\n",
       "      <th></th>\n",
       "      <th></th>\n",
       "      <th></th>\n",
       "      <th></th>\n",
       "      <th></th>\n",
       "      <th></th>\n",
       "      <th></th>\n",
       "      <th></th>\n",
       "      <th></th>\n",
       "      <th></th>\n",
       "      <th></th>\n",
       "    </tr>\n",
       "  </thead>\n",
       "  <tbody>\n",
       "    <tr>\n",
       "      <th>2024-04-01 16:00:00+01:00</th>\n",
       "      <td>1.074807</td>\n",
       "      <td>1.074807</td>\n",
       "      <td>1.073422</td>\n",
       "      <td>1.073537</td>\n",
       "      <td>-0.001074</td>\n",
       "      <td>0</td>\n",
       "      <td>0.535691</td>\n",
       "      <td>1.0</td>\n",
       "      <td>-0.001074</td>\n",
       "      <td>0.994632</td>\n",
       "      <td>0.995491</td>\n",
       "      <td>0.0</td>\n",
       "      <td>-0.001074</td>\n",
       "      <td>0.995276</td>\n",
       "      <td>1.0</td>\n",
       "    </tr>\n",
       "    <tr>\n",
       "      <th>2024-04-04 16:00:00+01:00</th>\n",
       "      <td>1.087075</td>\n",
       "      <td>1.087075</td>\n",
       "      <td>1.086602</td>\n",
       "      <td>1.086720</td>\n",
       "      <td>-0.000326</td>\n",
       "      <td>0</td>\n",
       "      <td>0.541846</td>\n",
       "      <td>1.0</td>\n",
       "      <td>-0.000326</td>\n",
       "      <td>1.006846</td>\n",
       "      <td>1.007716</td>\n",
       "      <td>0.0</td>\n",
       "      <td>-0.000326</td>\n",
       "      <td>1.007498</td>\n",
       "      <td>1.0</td>\n",
       "    </tr>\n",
       "    <tr>\n",
       "      <th>2024-04-05 16:00:00+01:00</th>\n",
       "      <td>1.082017</td>\n",
       "      <td>1.084599</td>\n",
       "      <td>1.082017</td>\n",
       "      <td>1.084363</td>\n",
       "      <td>0.001950</td>\n",
       "      <td>1</td>\n",
       "      <td>0.459171</td>\n",
       "      <td>-1.0</td>\n",
       "      <td>-0.001950</td>\n",
       "      <td>1.004663</td>\n",
       "      <td>1.012966</td>\n",
       "      <td>2.0</td>\n",
       "      <td>-0.002068</td>\n",
       "      <td>1.012150</td>\n",
       "      <td>0.0</td>\n",
       "    </tr>\n",
       "    <tr>\n",
       "      <th>2024-04-08 23:00:00+01:00</th>\n",
       "      <td>1.086248</td>\n",
       "      <td>1.086366</td>\n",
       "      <td>1.086248</td>\n",
       "      <td>1.086248</td>\n",
       "      <td>0.000000</td>\n",
       "      <td>0</td>\n",
       "      <td>0.536353</td>\n",
       "      <td>1.0</td>\n",
       "      <td>0.000000</td>\n",
       "      <td>1.006409</td>\n",
       "      <td>1.011208</td>\n",
       "      <td>2.0</td>\n",
       "      <td>-0.000118</td>\n",
       "      <td>1.010274</td>\n",
       "      <td>1.0</td>\n",
       "    </tr>\n",
       "    <tr>\n",
       "      <th>2024-04-09 16:00:00+01:00</th>\n",
       "      <td>1.086012</td>\n",
       "      <td>1.086248</td>\n",
       "      <td>1.085541</td>\n",
       "      <td>1.085894</td>\n",
       "      <td>-0.000109</td>\n",
       "      <td>0</td>\n",
       "      <td>0.544416</td>\n",
       "      <td>1.0</td>\n",
       "      <td>-0.000109</td>\n",
       "      <td>1.006081</td>\n",
       "      <td>1.010878</td>\n",
       "      <td>0.0</td>\n",
       "      <td>-0.000109</td>\n",
       "      <td>1.009945</td>\n",
       "      <td>1.0</td>\n",
       "    </tr>\n",
       "    <tr>\n",
       "      <th>...</th>\n",
       "      <td>...</td>\n",
       "      <td>...</td>\n",
       "      <td>...</td>\n",
       "      <td>...</td>\n",
       "      <td>...</td>\n",
       "      <td>...</td>\n",
       "      <td>...</td>\n",
       "      <td>...</td>\n",
       "      <td>...</td>\n",
       "      <td>...</td>\n",
       "      <td>...</td>\n",
       "      <td>...</td>\n",
       "      <td>...</td>\n",
       "      <td>...</td>\n",
       "      <td>...</td>\n",
       "    </tr>\n",
       "    <tr>\n",
       "      <th>2024-08-20 08:00:00+01:00</th>\n",
       "      <td>1.108525</td>\n",
       "      <td>1.108893</td>\n",
       "      <td>1.107542</td>\n",
       "      <td>1.108893</td>\n",
       "      <td>0.000333</td>\n",
       "      <td>1</td>\n",
       "      <td>0.465228</td>\n",
       "      <td>-1.0</td>\n",
       "      <td>-0.000333</td>\n",
       "      <td>1.027390</td>\n",
       "      <td>1.045019</td>\n",
       "      <td>0.0</td>\n",
       "      <td>-0.000333</td>\n",
       "      <td>1.035343</td>\n",
       "      <td>0.0</td>\n",
       "    </tr>\n",
       "    <tr>\n",
       "      <th>2024-08-20 19:00:00+01:00</th>\n",
       "      <td>1.111852</td>\n",
       "      <td>1.112595</td>\n",
       "      <td>1.111852</td>\n",
       "      <td>1.112347</td>\n",
       "      <td>0.000334</td>\n",
       "      <td>1</td>\n",
       "      <td>0.459326</td>\n",
       "      <td>-1.0</td>\n",
       "      <td>-0.000334</td>\n",
       "      <td>1.030590</td>\n",
       "      <td>1.041774</td>\n",
       "      <td>0.0</td>\n",
       "      <td>-0.000334</td>\n",
       "      <td>1.032129</td>\n",
       "      <td>0.0</td>\n",
       "    </tr>\n",
       "    <tr>\n",
       "      <th>2024-08-20 21:00:00+01:00</th>\n",
       "      <td>1.112842</td>\n",
       "      <td>1.113338</td>\n",
       "      <td>1.112718</td>\n",
       "      <td>1.113338</td>\n",
       "      <td>0.000557</td>\n",
       "      <td>1</td>\n",
       "      <td>0.467403</td>\n",
       "      <td>-1.0</td>\n",
       "      <td>-0.000557</td>\n",
       "      <td>1.031508</td>\n",
       "      <td>1.040847</td>\n",
       "      <td>0.0</td>\n",
       "      <td>-0.000557</td>\n",
       "      <td>1.031210</td>\n",
       "      <td>0.0</td>\n",
       "    </tr>\n",
       "    <tr>\n",
       "      <th>2024-08-21 17:00:00+01:00</th>\n",
       "      <td>1.114579</td>\n",
       "      <td>1.115200</td>\n",
       "      <td>1.114579</td>\n",
       "      <td>1.114951</td>\n",
       "      <td>0.000334</td>\n",
       "      <td>1</td>\n",
       "      <td>0.464835</td>\n",
       "      <td>-1.0</td>\n",
       "      <td>-0.000334</td>\n",
       "      <td>1.033003</td>\n",
       "      <td>1.039341</td>\n",
       "      <td>0.0</td>\n",
       "      <td>-0.000334</td>\n",
       "      <td>1.029718</td>\n",
       "      <td>0.0</td>\n",
       "    </tr>\n",
       "    <tr>\n",
       "      <th>2024-08-21 19:00:00+01:00</th>\n",
       "      <td>1.116321</td>\n",
       "      <td>1.117693</td>\n",
       "      <td>1.116321</td>\n",
       "      <td>1.116445</td>\n",
       "      <td>0.000447</td>\n",
       "      <td>1</td>\n",
       "      <td>0.459666</td>\n",
       "      <td>-1.0</td>\n",
       "      <td>-0.000447</td>\n",
       "      <td>1.034387</td>\n",
       "      <td>1.037950</td>\n",
       "      <td>0.0</td>\n",
       "      <td>-0.000447</td>\n",
       "      <td>1.028340</td>\n",
       "      <td>0.0</td>\n",
       "    </tr>\n",
       "  </tbody>\n",
       "</table>\n",
       "<p>110 rows × 15 columns</p>\n",
       "</div>"
      ]
     },
     "execution_count": 266,
     "metadata": {},
     "output_type": "execute_result"
    }
   ],
   "execution_count": 266
  },
  {
   "metadata": {
    "ExecuteTime": {
     "end_time": "2024-08-25T03:43:53.006068Z",
     "start_time": "2024-08-25T03:43:52.996702Z"
    }
   },
   "cell_type": "code",
   "source": "analysis[(analysis.dir_position != analysis.dir) & (pd.notna(analysis.dir_position))].probability.describe()",
   "id": "860fd132ce4a40ad",
   "outputs": [
    {
     "data": {
      "text/plain": [
       "count    110.000000\n",
       "mean       0.519346\n",
       "std        0.036960\n",
       "min        0.451299\n",
       "25%        0.468997\n",
       "50%        0.534844\n",
       "75%        0.544160\n",
       "max        0.573768\n",
       "Name: probability, dtype: float64"
      ]
     },
     "execution_count": 267,
     "metadata": {},
     "output_type": "execute_result"
    }
   ],
   "execution_count": 267
  },
  {
   "metadata": {
    "ExecuteTime": {
     "end_time": "2024-08-25T03:43:53.165179Z",
     "start_time": "2024-08-25T03:43:53.142157Z"
    }
   },
   "cell_type": "code",
   "source": "analysis[analysis.dir_position == analysis.dir]",
   "id": "d64ea190fc8a8ea",
   "outputs": [
    {
     "data": {
      "text/plain": [
       "                               Open      High       Low     Close   returns  \\\n",
       "Datetime                                                                      \n",
       "2024-04-01 17:00:00+01:00  1.073537  1.073998  1.073422  1.073998  0.000430   \n",
       "2024-04-04 08:00:00+01:00  1.084246  1.086130  1.084246  1.086012  0.001519   \n",
       "2024-04-04 19:00:00+01:00  1.086248  1.086248  1.085069  1.085305 -0.000977   \n",
       "2024-04-04 22:00:00+01:00  1.084011  1.084246  1.083776  1.084011  0.000000   \n",
       "2024-04-05 04:00:00+01:00  1.082837  1.083072  1.082720  1.082954  0.000108   \n",
       "...                             ...       ...       ...       ...       ...   \n",
       "2024-08-16 07:00:00+01:00  1.098780  1.098901  1.098418  1.098418 -0.000439   \n",
       "2024-08-16 12:00:00+01:00  1.099747  1.099747  1.099264  1.099505 -0.000220   \n",
       "2024-08-19 11:00:00+01:00  1.103753  1.104118  1.103387  1.103997  0.000221   \n",
       "2024-08-20 03:00:00+01:00  1.108893  1.109016  1.107911  1.107911 -0.000776   \n",
       "2024-08-21 12:00:00+01:00  1.112595  1.112595  1.111358  1.111852 -0.000890   \n",
       "\n",
       "                           dir  probability  position  strategy  creturns  \\\n",
       "Datetime                                                                    \n",
       "2024-04-01 17:00:00+01:00    1     0.539479       1.0  0.000430  0.995060   \n",
       "2024-04-04 08:00:00+01:00    1     0.532662       1.0  0.001519  1.006190   \n",
       "2024-04-04 19:00:00+01:00    0     0.469868      -1.0  0.000977  1.005535   \n",
       "2024-04-04 22:00:00+01:00    0     0.463241      -1.0 -0.000000  1.004336   \n",
       "2024-04-05 04:00:00+01:00    1     0.551935       1.0  0.000108  1.003357   \n",
       "...                        ...          ...       ...       ...       ...   \n",
       "2024-08-16 07:00:00+01:00    0     0.469572      -1.0  0.000439  1.017685   \n",
       "2024-08-16 12:00:00+01:00    0     0.466278      -1.0  0.000220  1.018692   \n",
       "2024-08-19 11:00:00+01:00    1     0.532850       1.0  0.000221  1.022853   \n",
       "2024-08-20 03:00:00+01:00    0     0.469418      -1.0  0.000776  1.026479   \n",
       "2024-08-21 12:00:00+01:00    0     0.466939      -1.0  0.000890  1.030131   \n",
       "\n",
       "                           cstrategy  trades  strategy_net  cstrategy_net  \\\n",
       "Datetime                                                                    \n",
       "2024-04-01 17:00:00+01:00   0.995919     0.0      0.000430       0.995704   \n",
       "2024-04-04 08:00:00+01:00   1.007059     0.0      0.001519       1.006842   \n",
       "2024-04-04 19:00:00+01:00   1.008372     2.0      0.000859       1.008036   \n",
       "2024-04-04 22:00:00+01:00   1.009576     0.0     -0.000000       1.009239   \n",
       "2024-04-05 04:00:00+01:00   1.010780     2.0     -0.000010       1.010324   \n",
       "...                              ...     ...           ...            ...   \n",
       "2024-08-16 07:00:00+01:00   1.054519     0.0      0.000439       1.045002   \n",
       "2024-08-16 12:00:00+01:00   1.053476     0.0      0.000220       1.043969   \n",
       "2024-08-19 11:00:00+01:00   1.049654     2.0      0.000103       1.040059   \n",
       "2024-08-20 03:00:00+01:00   1.045946     0.0      0.000776       1.036262   \n",
       "2024-08-21 12:00:00+01:00   1.042238     0.0      0.000890       1.032588   \n",
       "\n",
       "                           dir_position  \n",
       "Datetime                                 \n",
       "2024-04-01 17:00:00+01:00           1.0  \n",
       "2024-04-04 08:00:00+01:00           1.0  \n",
       "2024-04-04 19:00:00+01:00           0.0  \n",
       "2024-04-04 22:00:00+01:00           0.0  \n",
       "2024-04-05 04:00:00+01:00           1.0  \n",
       "...                                 ...  \n",
       "2024-08-16 07:00:00+01:00           0.0  \n",
       "2024-08-16 12:00:00+01:00           0.0  \n",
       "2024-08-19 11:00:00+01:00           1.0  \n",
       "2024-08-20 03:00:00+01:00           0.0  \n",
       "2024-08-21 12:00:00+01:00           0.0  \n",
       "\n",
       "[104 rows x 15 columns]"
      ],
      "text/html": [
       "<div>\n",
       "<style scoped>\n",
       "    .dataframe tbody tr th:only-of-type {\n",
       "        vertical-align: middle;\n",
       "    }\n",
       "\n",
       "    .dataframe tbody tr th {\n",
       "        vertical-align: top;\n",
       "    }\n",
       "\n",
       "    .dataframe thead th {\n",
       "        text-align: right;\n",
       "    }\n",
       "</style>\n",
       "<table border=\"1\" class=\"dataframe\">\n",
       "  <thead>\n",
       "    <tr style=\"text-align: right;\">\n",
       "      <th></th>\n",
       "      <th>Open</th>\n",
       "      <th>High</th>\n",
       "      <th>Low</th>\n",
       "      <th>Close</th>\n",
       "      <th>returns</th>\n",
       "      <th>dir</th>\n",
       "      <th>probability</th>\n",
       "      <th>position</th>\n",
       "      <th>strategy</th>\n",
       "      <th>creturns</th>\n",
       "      <th>cstrategy</th>\n",
       "      <th>trades</th>\n",
       "      <th>strategy_net</th>\n",
       "      <th>cstrategy_net</th>\n",
       "      <th>dir_position</th>\n",
       "    </tr>\n",
       "    <tr>\n",
       "      <th>Datetime</th>\n",
       "      <th></th>\n",
       "      <th></th>\n",
       "      <th></th>\n",
       "      <th></th>\n",
       "      <th></th>\n",
       "      <th></th>\n",
       "      <th></th>\n",
       "      <th></th>\n",
       "      <th></th>\n",
       "      <th></th>\n",
       "      <th></th>\n",
       "      <th></th>\n",
       "      <th></th>\n",
       "      <th></th>\n",
       "      <th></th>\n",
       "    </tr>\n",
       "  </thead>\n",
       "  <tbody>\n",
       "    <tr>\n",
       "      <th>2024-04-01 17:00:00+01:00</th>\n",
       "      <td>1.073537</td>\n",
       "      <td>1.073998</td>\n",
       "      <td>1.073422</td>\n",
       "      <td>1.073998</td>\n",
       "      <td>0.000430</td>\n",
       "      <td>1</td>\n",
       "      <td>0.539479</td>\n",
       "      <td>1.0</td>\n",
       "      <td>0.000430</td>\n",
       "      <td>0.995060</td>\n",
       "      <td>0.995919</td>\n",
       "      <td>0.0</td>\n",
       "      <td>0.000430</td>\n",
       "      <td>0.995704</td>\n",
       "      <td>1.0</td>\n",
       "    </tr>\n",
       "    <tr>\n",
       "      <th>2024-04-04 08:00:00+01:00</th>\n",
       "      <td>1.084246</td>\n",
       "      <td>1.086130</td>\n",
       "      <td>1.084246</td>\n",
       "      <td>1.086012</td>\n",
       "      <td>0.001519</td>\n",
       "      <td>1</td>\n",
       "      <td>0.532662</td>\n",
       "      <td>1.0</td>\n",
       "      <td>0.001519</td>\n",
       "      <td>1.006190</td>\n",
       "      <td>1.007059</td>\n",
       "      <td>0.0</td>\n",
       "      <td>0.001519</td>\n",
       "      <td>1.006842</td>\n",
       "      <td>1.0</td>\n",
       "    </tr>\n",
       "    <tr>\n",
       "      <th>2024-04-04 19:00:00+01:00</th>\n",
       "      <td>1.086248</td>\n",
       "      <td>1.086248</td>\n",
       "      <td>1.085069</td>\n",
       "      <td>1.085305</td>\n",
       "      <td>-0.000977</td>\n",
       "      <td>0</td>\n",
       "      <td>0.469868</td>\n",
       "      <td>-1.0</td>\n",
       "      <td>0.000977</td>\n",
       "      <td>1.005535</td>\n",
       "      <td>1.008372</td>\n",
       "      <td>2.0</td>\n",
       "      <td>0.000859</td>\n",
       "      <td>1.008036</td>\n",
       "      <td>0.0</td>\n",
       "    </tr>\n",
       "    <tr>\n",
       "      <th>2024-04-04 22:00:00+01:00</th>\n",
       "      <td>1.084011</td>\n",
       "      <td>1.084246</td>\n",
       "      <td>1.083776</td>\n",
       "      <td>1.084011</td>\n",
       "      <td>0.000000</td>\n",
       "      <td>0</td>\n",
       "      <td>0.463241</td>\n",
       "      <td>-1.0</td>\n",
       "      <td>-0.000000</td>\n",
       "      <td>1.004336</td>\n",
       "      <td>1.009576</td>\n",
       "      <td>0.0</td>\n",
       "      <td>-0.000000</td>\n",
       "      <td>1.009239</td>\n",
       "      <td>0.0</td>\n",
       "    </tr>\n",
       "    <tr>\n",
       "      <th>2024-04-05 04:00:00+01:00</th>\n",
       "      <td>1.082837</td>\n",
       "      <td>1.083072</td>\n",
       "      <td>1.082720</td>\n",
       "      <td>1.082954</td>\n",
       "      <td>0.000108</td>\n",
       "      <td>1</td>\n",
       "      <td>0.551935</td>\n",
       "      <td>1.0</td>\n",
       "      <td>0.000108</td>\n",
       "      <td>1.003357</td>\n",
       "      <td>1.010780</td>\n",
       "      <td>2.0</td>\n",
       "      <td>-0.000010</td>\n",
       "      <td>1.010324</td>\n",
       "      <td>1.0</td>\n",
       "    </tr>\n",
       "    <tr>\n",
       "      <th>...</th>\n",
       "      <td>...</td>\n",
       "      <td>...</td>\n",
       "      <td>...</td>\n",
       "      <td>...</td>\n",
       "      <td>...</td>\n",
       "      <td>...</td>\n",
       "      <td>...</td>\n",
       "      <td>...</td>\n",
       "      <td>...</td>\n",
       "      <td>...</td>\n",
       "      <td>...</td>\n",
       "      <td>...</td>\n",
       "      <td>...</td>\n",
       "      <td>...</td>\n",
       "      <td>...</td>\n",
       "    </tr>\n",
       "    <tr>\n",
       "      <th>2024-08-16 07:00:00+01:00</th>\n",
       "      <td>1.098780</td>\n",
       "      <td>1.098901</td>\n",
       "      <td>1.098418</td>\n",
       "      <td>1.098418</td>\n",
       "      <td>-0.000439</td>\n",
       "      <td>0</td>\n",
       "      <td>0.469572</td>\n",
       "      <td>-1.0</td>\n",
       "      <td>0.000439</td>\n",
       "      <td>1.017685</td>\n",
       "      <td>1.054519</td>\n",
       "      <td>0.0</td>\n",
       "      <td>0.000439</td>\n",
       "      <td>1.045002</td>\n",
       "      <td>0.0</td>\n",
       "    </tr>\n",
       "    <tr>\n",
       "      <th>2024-08-16 12:00:00+01:00</th>\n",
       "      <td>1.099747</td>\n",
       "      <td>1.099747</td>\n",
       "      <td>1.099264</td>\n",
       "      <td>1.099505</td>\n",
       "      <td>-0.000220</td>\n",
       "      <td>0</td>\n",
       "      <td>0.466278</td>\n",
       "      <td>-1.0</td>\n",
       "      <td>0.000220</td>\n",
       "      <td>1.018692</td>\n",
       "      <td>1.053476</td>\n",
       "      <td>0.0</td>\n",
       "      <td>0.000220</td>\n",
       "      <td>1.043969</td>\n",
       "      <td>0.0</td>\n",
       "    </tr>\n",
       "    <tr>\n",
       "      <th>2024-08-19 11:00:00+01:00</th>\n",
       "      <td>1.103753</td>\n",
       "      <td>1.104118</td>\n",
       "      <td>1.103387</td>\n",
       "      <td>1.103997</td>\n",
       "      <td>0.000221</td>\n",
       "      <td>1</td>\n",
       "      <td>0.532850</td>\n",
       "      <td>1.0</td>\n",
       "      <td>0.000221</td>\n",
       "      <td>1.022853</td>\n",
       "      <td>1.049654</td>\n",
       "      <td>2.0</td>\n",
       "      <td>0.000103</td>\n",
       "      <td>1.040059</td>\n",
       "      <td>1.0</td>\n",
       "    </tr>\n",
       "    <tr>\n",
       "      <th>2024-08-20 03:00:00+01:00</th>\n",
       "      <td>1.108893</td>\n",
       "      <td>1.109016</td>\n",
       "      <td>1.107911</td>\n",
       "      <td>1.107911</td>\n",
       "      <td>-0.000776</td>\n",
       "      <td>0</td>\n",
       "      <td>0.469418</td>\n",
       "      <td>-1.0</td>\n",
       "      <td>0.000776</td>\n",
       "      <td>1.026479</td>\n",
       "      <td>1.045946</td>\n",
       "      <td>0.0</td>\n",
       "      <td>0.000776</td>\n",
       "      <td>1.036262</td>\n",
       "      <td>0.0</td>\n",
       "    </tr>\n",
       "    <tr>\n",
       "      <th>2024-08-21 12:00:00+01:00</th>\n",
       "      <td>1.112595</td>\n",
       "      <td>1.112595</td>\n",
       "      <td>1.111358</td>\n",
       "      <td>1.111852</td>\n",
       "      <td>-0.000890</td>\n",
       "      <td>0</td>\n",
       "      <td>0.466939</td>\n",
       "      <td>-1.0</td>\n",
       "      <td>0.000890</td>\n",
       "      <td>1.030131</td>\n",
       "      <td>1.042238</td>\n",
       "      <td>0.0</td>\n",
       "      <td>0.000890</td>\n",
       "      <td>1.032588</td>\n",
       "      <td>0.0</td>\n",
       "    </tr>\n",
       "  </tbody>\n",
       "</table>\n",
       "<p>104 rows × 15 columns</p>\n",
       "</div>"
      ]
     },
     "execution_count": 268,
     "metadata": {},
     "output_type": "execute_result"
    }
   ],
   "execution_count": 268
  },
  {
   "metadata": {
    "ExecuteTime": {
     "end_time": "2024-08-25T03:43:53.334956Z",
     "start_time": "2024-08-25T03:43:53.322462Z"
    }
   },
   "cell_type": "code",
   "source": "analysis[analysis.dir_position == analysis.dir].probability.describe()",
   "id": "cc98b2a43ca0462d",
   "outputs": [
    {
     "data": {
      "text/plain": [
       "count    104.000000\n",
       "mean       0.511383\n",
       "std        0.039232\n",
       "min        0.451198\n",
       "25%        0.468416\n",
       "50%        0.531583\n",
       "75%        0.539340\n",
       "max        0.610371\n",
       "Name: probability, dtype: float64"
      ]
     },
     "execution_count": 269,
     "metadata": {},
     "output_type": "execute_result"
    }
   ],
   "execution_count": 269
  }
 ],
 "metadata": {
  "kernelspec": {
   "display_name": "Python 3",
   "language": "python",
   "name": "python3"
  },
  "language_info": {
   "codemirror_mode": {
    "name": "ipython",
    "version": 2
   },
   "file_extension": ".py",
   "mimetype": "text/x-python",
   "name": "python",
   "nbconvert_exporter": "python",
   "pygments_lexer": "ipython2",
   "version": "2.7.6"
  }
 },
 "nbformat": 4,
 "nbformat_minor": 5
}
