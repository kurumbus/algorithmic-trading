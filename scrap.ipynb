{
 "cells": [
  {
   "cell_type": "code",
   "id": "initial_id",
   "metadata": {
    "collapsed": true,
    "ExecuteTime": {
     "end_time": "2024-08-24T10:48:42.634061Z",
     "start_time": "2024-08-24T10:48:42.596916Z"
    }
   },
   "source": [
    "import yfinance as yf\n",
    "\n",
    "# Example: Fetching U.S. 10-Year Treasury Yields\n",
    "us_treasury = yf.download('^TNX', start='2000-01-01', end='2024-01-01')\n",
    "print(us_treasury.head())"
   ],
   "outputs": [
    {
     "name": "stderr",
     "output_type": "stream",
     "text": [
      "[*********************100%%**********************]  1 of 1 completed"
     ]
    },
    {
     "name": "stdout",
     "output_type": "stream",
     "text": [
      "             Open   High    Low  Close  Adj Close  Volume\n",
      "Date                                                     \n",
      "2000-01-03  6.498  6.603  6.498  6.548      6.548       0\n",
      "2000-01-04  6.530  6.548  6.485  6.485      6.485       0\n",
      "2000-01-05  6.521  6.599  6.508  6.599      6.599       0\n",
      "2000-01-06  6.558  6.585  6.540  6.549      6.549       0\n",
      "2000-01-07  6.545  6.595  6.504  6.504      6.504       0\n"
     ]
    },
    {
     "name": "stderr",
     "output_type": "stream",
     "text": [
      "\n"
     ]
    }
   ],
   "execution_count": 2
  },
  {
   "metadata": {},
   "cell_type": "code",
   "outputs": [],
   "execution_count": null,
   "source": [
    "import datetime as dt\n",
    "a=1\n",
    "b=2\n",
    "\n",
    "if a == b:\n",
    "    ## Business is usual\n",
    "    pass\n",
    "\n",
    "elif dt.datetime.utcnow()- last_update > dt.timedelta(seconds=120): \n",
    "    ib.cancelHistoricalData(bars)\n",
    "    ib.sleep(5)\n",
    "    try: \n",
    "        initialize_stream()\n",
    "    except:\n",
    "        ib.sleep(5)\n",
    "        #close positions\n",
    "        try:\n",
    "            trade_reporting()\n",
    "        except:\n",
    "            pass\n",
    "        print('session stopped')\n",
    "        ib.disconnect()\n",
    "        break\n",
    "else:\n",
    "    pass"
   ],
   "id": "163c876350254b2"
  },
  {
   "metadata": {},
   "cell_type": "code",
   "outputs": [],
   "execution_count": null,
   "source": [
    "from ib_insync import * \n",
    "\n",
    "\n",
    "ib = IB()\n",
    "connection = ib.connect()\n",
    "\n",
    "def BracketOrder(parentOrderId, childOrderId1, childOrderId2, action, quantity, stopLossPrice=None, takeProfitPrice=None):\n",
    "    \n",
    "    global stopLoss, takeProfit\n",
    "    \n",
    "    parent = Order()\n",
    "    parent.orderId  = parentOrderId\n",
    "    parent.action = action\n",
    "    parent.orderType =  'MKT'\n",
    "    parent.totalQuantity = quantity\n",
    "    if not stopLossPrice and not takeProfitPrice:\n",
    "        parent.transmit = True\n",
    "    else: \n",
    "        parent.transmit = False\n",
    "        \n",
    "    bracketOrder = [parent]\n",
    "    \n",
    "    if stopLossPrice:\n",
    "        stopLoss = Order()\n",
    "        stopLoss.orderId = childOrderId1\n",
    "        stopLoss.actionn = \"SELL\" if action == \"BUY\" else \"BUY\"\n",
    "        stopLoss.orderType = 'STP'\n",
    "        stopLoss.auxPrice = stopLossPrice\n",
    "        stopLoss.totalQuantity = quantity\n",
    "        stopLoss.parentId = parentOrderId\n",
    "        if not takeProfitPrice:\n",
    "            stopLoss.transmit = True\n",
    "        else:\n",
    "            stopLoss.transmit = False\n",
    "        bracketOrder.append(stopLoss)\n",
    "        \n",
    "    if takeProfitPrice:\n",
    "        takeProfit = Order()\n",
    "        takeProfit.orderId = childOrderId2\n",
    "        takeProfit.actionn = \"SELL\" if action == \"BUY\" else \"BUY\"\n",
    "        takeProfit.orderType = 'LMT'\n",
    "        takeProfit.lmtPrice = takeProfitPrice\n",
    "        takeProfit.totalQuantity = quantity\n",
    "        stopLoss.parentId = parentOrderId\n",
    "        takeProfit.transmit = True\n",
    "        bracketOrder.append(takeProfit)\n",
    "        \n",
    "    return bracketOrder\n",
    "        \n",
    "        "
   ],
   "id": "4aee561a39b1c9f0"
  },
  {
   "metadata": {},
   "cell_type": "code",
   "outputs": [],
   "execution_count": null,
   "source": [
    "bracket = BracketOrder(\n",
    "                        parentOrderId=ib.client.getReqId(),\n",
    "                       childOrderId1 = ib.client.getReqId(),\n",
    "                       childOrderId2 = ib.client.getReqId(),\n",
    "                       action = 'BUY',\n",
    "                       quantity = 1000,\n",
    "                       stopLossPrice=None,\n",
    "                       takeProfitPrice=None\n",
    "                       )"
   ],
   "id": "8c563a7aab9c4822"
  },
  {
   "metadata": {},
   "cell_type": "code",
   "outputs": [],
   "execution_count": null,
   "source": [
    "for o in bracket:\n",
    "    ib.placeOrder(cfd, o)"
   ],
   "id": "70c3dbfc16c381b8"
  }
 ],
 "metadata": {
  "kernelspec": {
   "display_name": "Python 3",
   "language": "python",
   "name": "python3"
  },
  "language_info": {
   "codemirror_mode": {
    "name": "ipython",
    "version": 2
   },
   "file_extension": ".py",
   "mimetype": "text/x-python",
   "name": "python",
   "nbconvert_exporter": "python",
   "pygments_lexer": "ipython2",
   "version": "2.7.6"
  }
 },
 "nbformat": 4,
 "nbformat_minor": 5
}
