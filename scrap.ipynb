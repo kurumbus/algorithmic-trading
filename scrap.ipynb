{
 "cells": [
  {
   "cell_type": "code",
   "id": "initial_id",
   "metadata": {
    "collapsed": true,
    "ExecuteTime": {
     "end_time": "2024-08-24T10:48:42.634061Z",
     "start_time": "2024-08-24T10:48:42.596916Z"
    }
   },
   "source": [
    "import yfinance as yf\n",
    "\n",
    "# Example: Fetching U.S. 10-Year Treasury Yields\n",
    "us_treasury = yf.download('^TNX', start='2000-01-01', end='2024-01-01')\n",
    "print(us_treasury.head())"
   ],
   "outputs": [
    {
     "name": "stderr",
     "output_type": "stream",
     "text": [
      "[*********************100%%**********************]  1 of 1 completed"
     ]
    },
    {
     "name": "stdout",
     "output_type": "stream",
     "text": [
      "             Open   High    Low  Close  Adj Close  Volume\n",
      "Date                                                     \n",
      "2000-01-03  6.498  6.603  6.498  6.548      6.548       0\n",
      "2000-01-04  6.530  6.548  6.485  6.485      6.485       0\n",
      "2000-01-05  6.521  6.599  6.508  6.599      6.599       0\n",
      "2000-01-06  6.558  6.585  6.540  6.549      6.549       0\n",
      "2000-01-07  6.545  6.595  6.504  6.504      6.504       0\n"
     ]
    },
    {
     "name": "stderr",
     "output_type": "stream",
     "text": [
      "\n"
     ]
    }
   ],
   "execution_count": 2
  }
 ],
 "metadata": {
  "kernelspec": {
   "display_name": "Python 3",
   "language": "python",
   "name": "python3"
  },
  "language_info": {
   "codemirror_mode": {
    "name": "ipython",
    "version": 2
   },
   "file_extension": ".py",
   "mimetype": "text/x-python",
   "name": "python",
   "nbconvert_exporter": "python",
   "pygments_lexer": "ipython2",
   "version": "2.7.6"
  }
 },
 "nbformat": 4,
 "nbformat_minor": 5
}
