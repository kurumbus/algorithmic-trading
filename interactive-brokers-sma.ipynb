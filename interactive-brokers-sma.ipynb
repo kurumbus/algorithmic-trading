{
 "cells": [
  {
   "cell_type": "code",
   "id": "initial_id",
   "metadata": {
    "collapsed": true,
    "ExecuteTime": {
     "end_time": "2024-08-22T10:20:26.356429Z",
     "start_time": "2024-08-22T10:20:26.339433Z"
    }
   },
   "source": [
    "#import dt\n",
    "from ib_insync import *\n",
    "import pandas as pd\n",
    "import asyncio\n",
    "from IPython.display import display, clear_output\n",
    "import matplotlib.style\n",
    "import matplotlib.pyplot as plt\n",
    "pd.options.display.float_format = '{:.6f}'.format\n",
    "plt.style.use(\"seaborn-v0_8\")\n",
    "import ib_insync.util as util2\n",
    "util2.startLoop()\n",
    "import numpy as np\n",
    "ib = IB()"
   ],
   "outputs": [],
   "execution_count": 291
  },
  {
   "metadata": {
    "ExecuteTime": {
     "end_time": "2024-08-22T10:20:26.829755Z",
     "start_time": "2024-08-22T10:20:26.381502Z"
    }
   },
   "cell_type": "code",
   "source": "connection = ib.connect()",
   "id": "496c823f9e1e1e66",
   "outputs": [],
   "execution_count": 292
  },
  {
   "metadata": {
    "ExecuteTime": {
     "end_time": "2024-08-22T10:20:26.933059Z",
     "start_time": "2024-08-22T10:20:26.925787Z"
    }
   },
   "cell_type": "code",
   "source": [
    "sma_s = 50\n",
    "sma_l = 200\n",
    "units=1000"
   ],
   "id": "4add63a53a77c52f",
   "outputs": [],
   "execution_count": 293
  },
  {
   "metadata": {
    "ExecuteTime": {
     "end_time": "2024-08-22T10:20:28.089947Z",
     "start_time": "2024-08-22T10:20:26.960758Z"
    }
   },
   "cell_type": "code",
   "source": [
    "contract = Forex('EURUSD')\n",
    "ib.qualifyContracts(contract)\n",
    "cfd = CFD('EUR', currency='USD')\n",
    "ib.qualifyContracts(cfd)\n",
    "conID=cfd.conId"
   ],
   "id": "8087d18f3ac6ceaf",
   "outputs": [],
   "execution_count": 294
  },
  {
   "metadata": {
    "ExecuteTime": {
     "end_time": "2024-08-22T10:20:31.519745Z",
     "start_time": "2024-08-22T10:20:28.122188Z"
    }
   },
   "cell_type": "code",
   "source": [
    "bars = ib.reqHistoricalData(\n",
    "    contract,\n",
    "    endDateTime='',\n",
    "    durationStr='1 D',\n",
    "    barSizeSetting='1 min',\n",
    "    whatToShow='MIDPOINT',\n",
    "    useRTH=True,\n",
    "    formatDate=2,\n",
    "    keepUpToDate=True\n",
    ")\n",
    "last_bar_date = bars[-1].date"
   ],
   "id": "b764884cf2417102",
   "outputs": [],
   "execution_count": 295
  },
  {
   "metadata": {
    "ExecuteTime": {
     "end_time": "2024-08-22T10:20:31.556303Z",
     "start_time": "2024-08-22T10:20:31.545029Z"
    }
   },
   "cell_type": "code",
   "source": [
    "logger = 'something'\n",
    "\n",
    "def onBarUpdate(bars, hasNewBar):\n",
    "    global df, last_bar_date\n",
    "    global logger\n",
    "    \n",
    "    logger += 'run'\n",
    "    \n",
    "    if bars[-1].date > last_bar_date:\n",
    "        logger = 'true, btw units={}'.format(units)\n",
    "        last_bar_date = bars[-1].date\n",
    "        \n",
    "        df = pd.DataFrame(bars)[['date', 'open', 'high', 'low', 'close']]\n",
    "        df.set_index('date', inplace=True)\n",
    "        \n",
    "        df['sma_s'] = df.close.rolling(sma_s).mean()\n",
    "        df['sma_l'] = df.close.rolling(sma_l).mean()\n",
    "        df.dropna(inplace=True)\n",
    "        df['position'] = np.where(df['close'] > df['sma_l'], 1, -1)\n",
    "        \n",
    "        target = df['position'][-1] * units\n",
    "        \n",
    "        logger += 'gonna execute'\n",
    "        execute_trade(target = target)\n",
    "        \n",
    "        clear_output(wait=True)\n",
    "        display(df)\n",
    "    else:\n",
    "        logger +=' false'\n",
    "        pass\n",
    "        \n",
    "def execute_trade(target):\n",
    "    global current_position, logger\n",
    "    \n",
    "    logger += 'im here btw target= {} '.format(target) \n",
    "    try: \n",
    "        logger+= 'trying to execute'\n",
    "        current_position = [pos.position for pos in ib.positions() if pos.contract.conId == conID][0]\n",
    "    except:\n",
    "        logger += 'exception'\n",
    "        current_position = 0\n",
    "    \n",
    "    \n",
    "    trades = target - current_position\n",
    "    \n",
    "    logger += ' | trades = {} | '.format(trades)\n",
    "    \n",
    "    if trades > 0:\n",
    "        logger += 'buy'\n",
    "        \n",
    "        side = \"BUY\"\n",
    "        order = MarketOrder(side, abs(trades))\n",
    "        trade = ib.placeOrder(cfd, order)\n",
    "    elif trades < 0:\n",
    "        logger += 'sell'\n",
    "        side = \"SELL\"\n",
    "        order = MarketOrder(side, abs(trades))\n",
    "        trade = ib.placeOrder(cfd, order)\n",
    "    else:\n",
    "        logger += '_nobuynosell_'\n",
    "        pass\n",
    "        "
   ],
   "id": "af62591853869612",
   "outputs": [],
   "execution_count": 296
  },
  {
   "metadata": {
    "ExecuteTime": {
     "end_time": "2024-08-22T10:20:31.609052Z",
     "start_time": "2024-08-22T10:20:31.604573Z"
    }
   },
   "cell_type": "code",
   "source": "bars.updateEvent += onBarUpdate",
   "id": "15f55450d8d8c366",
   "outputs": [],
   "execution_count": 297
  },
  {
   "metadata": {
    "ExecuteTime": {
     "end_time": "2024-08-22T10:23:55.092865Z",
     "start_time": "2024-08-22T10:23:55.084176Z"
    }
   },
   "cell_type": "code",
   "source": "df = df.drop(columns=['high', 'low', 'open'], axis=1)",
   "id": "24115e75a943a653",
   "outputs": [],
   "execution_count": 313
  },
  {
   "metadata": {
    "ExecuteTime": {
     "end_time": "2024-08-22T10:32:58.722574Z",
     "start_time": "2024-08-22T10:32:58.701635Z"
    }
   },
   "cell_type": "code",
   "source": "df",
   "id": "d088a8c9f7845f5d",
   "outputs": [
    {
     "data": {
      "text/plain": [
       "                              open     high      low    close    sma_s  \\\n",
       "date                                                                     \n",
       "2024-08-22 00:34:00+00:00 1.115000 1.115100 1.114950 1.115050 1.115320   \n",
       "2024-08-22 00:35:00+00:00 1.115050 1.115050 1.115000 1.115000 1.115312   \n",
       "2024-08-22 00:36:00+00:00 1.115000 1.115050 1.114950 1.115000 1.115306   \n",
       "2024-08-22 00:37:00+00:00 1.115000 1.115100 1.115000 1.115050 1.115300   \n",
       "2024-08-22 00:38:00+00:00 1.115050 1.115100 1.115050 1.115050 1.115293   \n",
       "...                            ...      ...      ...      ...      ...   \n",
       "2024-08-22 10:28:00+00:00 1.113750 1.113850 1.113650 1.113700 1.113794   \n",
       "2024-08-22 10:29:00+00:00 1.113700 1.113750 1.113650 1.113650 1.113788   \n",
       "2024-08-22 10:30:00+00:00 1.113650 1.113850 1.113650 1.113850 1.113786   \n",
       "2024-08-22 10:31:00+00:00 1.113850 1.113900 1.113800 1.113850 1.113783   \n",
       "2024-08-22 10:32:00+00:00 1.113850 1.113850 1.113850 1.113850 1.113780   \n",
       "\n",
       "                             sma_l  position  \n",
       "date                                          \n",
       "2024-08-22 00:34:00+00:00 1.115342        -1  \n",
       "2024-08-22 00:35:00+00:00 1.115342        -1  \n",
       "2024-08-22 00:36:00+00:00 1.115341        -1  \n",
       "2024-08-22 00:37:00+00:00 1.115341        -1  \n",
       "2024-08-22 00:38:00+00:00 1.115340        -1  \n",
       "...                            ...       ...  \n",
       "2024-08-22 10:28:00+00:00 1.114144        -1  \n",
       "2024-08-22 10:29:00+00:00 1.114136        -1  \n",
       "2024-08-22 10:30:00+00:00 1.114129        -1  \n",
       "2024-08-22 10:31:00+00:00 1.114122        -1  \n",
       "2024-08-22 10:32:00+00:00 1.114115        -1  \n",
       "\n",
       "[599 rows x 7 columns]"
      ],
      "text/html": [
       "<div>\n",
       "<style scoped>\n",
       "    .dataframe tbody tr th:only-of-type {\n",
       "        vertical-align: middle;\n",
       "    }\n",
       "\n",
       "    .dataframe tbody tr th {\n",
       "        vertical-align: top;\n",
       "    }\n",
       "\n",
       "    .dataframe thead th {\n",
       "        text-align: right;\n",
       "    }\n",
       "</style>\n",
       "<table border=\"1\" class=\"dataframe\">\n",
       "  <thead>\n",
       "    <tr style=\"text-align: right;\">\n",
       "      <th></th>\n",
       "      <th>open</th>\n",
       "      <th>high</th>\n",
       "      <th>low</th>\n",
       "      <th>close</th>\n",
       "      <th>sma_s</th>\n",
       "      <th>sma_l</th>\n",
       "      <th>position</th>\n",
       "    </tr>\n",
       "    <tr>\n",
       "      <th>date</th>\n",
       "      <th></th>\n",
       "      <th></th>\n",
       "      <th></th>\n",
       "      <th></th>\n",
       "      <th></th>\n",
       "      <th></th>\n",
       "      <th></th>\n",
       "    </tr>\n",
       "  </thead>\n",
       "  <tbody>\n",
       "    <tr>\n",
       "      <th>2024-08-22 00:34:00+00:00</th>\n",
       "      <td>1.115000</td>\n",
       "      <td>1.115100</td>\n",
       "      <td>1.114950</td>\n",
       "      <td>1.115050</td>\n",
       "      <td>1.115320</td>\n",
       "      <td>1.115342</td>\n",
       "      <td>-1</td>\n",
       "    </tr>\n",
       "    <tr>\n",
       "      <th>2024-08-22 00:35:00+00:00</th>\n",
       "      <td>1.115050</td>\n",
       "      <td>1.115050</td>\n",
       "      <td>1.115000</td>\n",
       "      <td>1.115000</td>\n",
       "      <td>1.115312</td>\n",
       "      <td>1.115342</td>\n",
       "      <td>-1</td>\n",
       "    </tr>\n",
       "    <tr>\n",
       "      <th>2024-08-22 00:36:00+00:00</th>\n",
       "      <td>1.115000</td>\n",
       "      <td>1.115050</td>\n",
       "      <td>1.114950</td>\n",
       "      <td>1.115000</td>\n",
       "      <td>1.115306</td>\n",
       "      <td>1.115341</td>\n",
       "      <td>-1</td>\n",
       "    </tr>\n",
       "    <tr>\n",
       "      <th>2024-08-22 00:37:00+00:00</th>\n",
       "      <td>1.115000</td>\n",
       "      <td>1.115100</td>\n",
       "      <td>1.115000</td>\n",
       "      <td>1.115050</td>\n",
       "      <td>1.115300</td>\n",
       "      <td>1.115341</td>\n",
       "      <td>-1</td>\n",
       "    </tr>\n",
       "    <tr>\n",
       "      <th>2024-08-22 00:38:00+00:00</th>\n",
       "      <td>1.115050</td>\n",
       "      <td>1.115100</td>\n",
       "      <td>1.115050</td>\n",
       "      <td>1.115050</td>\n",
       "      <td>1.115293</td>\n",
       "      <td>1.115340</td>\n",
       "      <td>-1</td>\n",
       "    </tr>\n",
       "    <tr>\n",
       "      <th>...</th>\n",
       "      <td>...</td>\n",
       "      <td>...</td>\n",
       "      <td>...</td>\n",
       "      <td>...</td>\n",
       "      <td>...</td>\n",
       "      <td>...</td>\n",
       "      <td>...</td>\n",
       "    </tr>\n",
       "    <tr>\n",
       "      <th>2024-08-22 10:28:00+00:00</th>\n",
       "      <td>1.113750</td>\n",
       "      <td>1.113850</td>\n",
       "      <td>1.113650</td>\n",
       "      <td>1.113700</td>\n",
       "      <td>1.113794</td>\n",
       "      <td>1.114144</td>\n",
       "      <td>-1</td>\n",
       "    </tr>\n",
       "    <tr>\n",
       "      <th>2024-08-22 10:29:00+00:00</th>\n",
       "      <td>1.113700</td>\n",
       "      <td>1.113750</td>\n",
       "      <td>1.113650</td>\n",
       "      <td>1.113650</td>\n",
       "      <td>1.113788</td>\n",
       "      <td>1.114136</td>\n",
       "      <td>-1</td>\n",
       "    </tr>\n",
       "    <tr>\n",
       "      <th>2024-08-22 10:30:00+00:00</th>\n",
       "      <td>1.113650</td>\n",
       "      <td>1.113850</td>\n",
       "      <td>1.113650</td>\n",
       "      <td>1.113850</td>\n",
       "      <td>1.113786</td>\n",
       "      <td>1.114129</td>\n",
       "      <td>-1</td>\n",
       "    </tr>\n",
       "    <tr>\n",
       "      <th>2024-08-22 10:31:00+00:00</th>\n",
       "      <td>1.113850</td>\n",
       "      <td>1.113900</td>\n",
       "      <td>1.113800</td>\n",
       "      <td>1.113850</td>\n",
       "      <td>1.113783</td>\n",
       "      <td>1.114122</td>\n",
       "      <td>-1</td>\n",
       "    </tr>\n",
       "    <tr>\n",
       "      <th>2024-08-22 10:32:00+00:00</th>\n",
       "      <td>1.113850</td>\n",
       "      <td>1.113850</td>\n",
       "      <td>1.113850</td>\n",
       "      <td>1.113850</td>\n",
       "      <td>1.113780</td>\n",
       "      <td>1.114115</td>\n",
       "      <td>-1</td>\n",
       "    </tr>\n",
       "  </tbody>\n",
       "</table>\n",
       "<p>599 rows × 7 columns</p>\n",
       "</div>"
      ]
     },
     "execution_count": 333,
     "metadata": {},
     "output_type": "execute_result"
    }
   ],
   "execution_count": 333
  },
  {
   "metadata": {
    "ExecuteTime": {
     "end_time": "2024-08-22T10:24:59.416955Z",
     "start_time": "2024-08-22T10:24:59.408169Z"
    }
   },
   "cell_type": "code",
   "source": "ib.positions()",
   "id": "79a129049020d60f",
   "outputs": [
    {
     "data": {
      "text/plain": [
       "[Position(account='DUA407556', contract=CFD(conId=143916318, symbol='EUR', currency='USD', localSymbol='EUR.USD', tradingClass='EUR.USD'), position=-1000.0, avgCost=1.11165)]"
      ]
     },
     "execution_count": 316,
     "metadata": {},
     "output_type": "execute_result"
    }
   ],
   "execution_count": 316
  },
  {
   "metadata": {
    "ExecuteTime": {
     "end_time": "2024-08-22T11:09:02.465981Z",
     "start_time": "2024-08-22T11:09:02.459805Z"
    }
   },
   "cell_type": "code",
   "source": "ib.disconnect()",
   "id": "99b284347c6c0246",
   "outputs": [],
   "execution_count": 387
  },
  {
   "metadata": {},
   "cell_type": "markdown",
   "source": "",
   "id": "645eff19eba0cf9b"
  },
  {
   "metadata": {
    "ExecuteTime": {
     "end_time": "2024-08-22T10:51:29.168339Z",
     "start_time": "2024-08-22T10:51:29.157122Z"
    }
   },
   "cell_type": "code",
   "source": "current_position ",
   "id": "e8573bcd5678d883",
   "outputs": [
    {
     "data": {
      "text/plain": [
       "1000.0"
      ]
     },
     "execution_count": 360,
     "metadata": {},
     "output_type": "execute_result"
    }
   ],
   "execution_count": 360
  },
  {
   "metadata": {
    "ExecuteTime": {
     "end_time": "2024-08-22T11:03:46.648532Z",
     "start_time": "2024-08-22T11:03:46.639376Z"
    }
   },
   "cell_type": "code",
   "source": "logger",
   "id": "2cf5ef3110ebf3ec",
   "outputs": [
    {
     "data": {
      "text/plain": [
       "'true, btw units=1000gonna executeim here btw target= 1000 trying to execute | trades = 0.0 | _nobuynosell_run falserun false'"
      ]
     },
     "execution_count": 376,
     "metadata": {},
     "output_type": "execute_result"
    }
   ],
   "execution_count": 376
  },
  {
   "metadata": {
    "ExecuteTime": {
     "end_time": "2024-08-22T11:03:49.272620Z",
     "start_time": "2024-08-22T11:03:49.264932Z"
    }
   },
   "cell_type": "code",
   "source": "last_bar_date",
   "id": "818ffba0eec63441",
   "outputs": [
    {
     "data": {
      "text/plain": [
       "datetime.datetime(2024, 8, 22, 11, 3, tzinfo=datetime.timezone.utc)"
      ]
     },
     "execution_count": 377,
     "metadata": {},
     "output_type": "execute_result"
    }
   ],
   "execution_count": 377
  },
  {
   "metadata": {
    "ExecuteTime": {
     "end_time": "2024-08-22T11:08:14.675169Z",
     "start_time": "2024-08-22T11:08:14.666600Z"
    }
   },
   "cell_type": "code",
   "source": "bars[-1].close",
   "id": "666d4f7f4f11fc9e",
   "outputs": [
    {
     "data": {
      "text/plain": [
       "1.114"
      ]
     },
     "execution_count": 384,
     "metadata": {},
     "output_type": "execute_result"
    }
   ],
   "execution_count": 384
  },
  {
   "metadata": {
    "ExecuteTime": {
     "end_time": "2024-08-22T11:04:50.775940Z",
     "start_time": "2024-08-22T11:04:50.767053Z"
    }
   },
   "cell_type": "code",
   "source": "ib.fills()",
   "id": "84b0e4e6bb3a4278",
   "outputs": [
    {
     "data": {
      "text/plain": [
       "[Fill(contract=CFD(conId=143916318, symbol='EUR', exchange='SMART', currency='USD', localSymbol='EUR.USD', tradingClass='EUR.USD'), execution=Execution(execId='000132a9.66c6b817.01.01', time=datetime.datetime(2024, 8, 22, 10, 21, 3, tzinfo=datetime.timezone.utc), acctNumber='DUA407556', exchange='SMART', side='SLD', shares=1000.0, price=1.11365, permId=392629660, clientId=1, orderId=6, liquidation=0, cumQty=1000.0, avgPrice=1.11365, orderRef='', evRule='', evMultiplier=0.0, modelCode='', lastLiquidity=2), commissionReport=CommissionReport(execId='000132a9.66c6b817.01.01', commission=2.0, currency='USD', realizedPNL=0.0, yield_=0.0, yieldRedemptionDate=0), time=datetime.datetime(2024, 8, 22, 10, 21, 5, 497045, tzinfo=datetime.timezone.utc)),\n",
       " Fill(contract=CFD(conId=143916318, symbol='EUR', exchange='SMART', currency='USD', localSymbol='EUR.USD', tradingClass='EUR.USD'), execution=Execution(execId='000132a9.66c6b81c.01.01', time=datetime.datetime(2024, 8, 22, 10, 35, 1, tzinfo=datetime.timezone.utc), acctNumber='DUA407556', exchange='SMART', side='BOT', shares=1000.0, price=1.11415, permId=392629664, clientId=1, orderId=7, liquidation=0, cumQty=1000.0, avgPrice=1.11415, orderRef='', evRule='', evMultiplier=0.0, modelCode='', lastLiquidity=2), commissionReport=CommissionReport(execId='000132a9.66c6b81c.01.01', commission=2.0, currency='USD', realizedPNL=-4.5, yield_=0.0, yieldRedemptionDate=0), time=datetime.datetime(2024, 8, 22, 10, 35, 1, 276522, tzinfo=datetime.timezone.utc)),\n",
       " Fill(contract=CFD(conId=143916318, symbol='EUR', exchange='SMART', currency='USD', localSymbol='EUR.USD', tradingClass='EUR.USD'), execution=Execution(execId='000132a9.66c6b81d.01.01', time=datetime.datetime(2024, 8, 22, 10, 35, 1, tzinfo=datetime.timezone.utc), acctNumber='DUA407556', exchange='SMART', side='BOT', shares=1000.0, price=1.11415, permId=392629664, clientId=1, orderId=7, liquidation=0, cumQty=2000.0, avgPrice=1.11415, orderRef='', evRule='', evMultiplier=0.0, modelCode='', lastLiquidity=2), commissionReport=CommissionReport(execId='000132a9.66c6b81d.01.01', commission=0.0, currency='USD', realizedPNL=0.0, yield_=0.0, yieldRedemptionDate=0), time=datetime.datetime(2024, 8, 22, 10, 35, 1, 306633, tzinfo=datetime.timezone.utc))]"
      ]
     },
     "execution_count": 382,
     "metadata": {},
     "output_type": "execute_result"
    }
   ],
   "execution_count": 382
  },
  {
   "metadata": {
    "ExecuteTime": {
     "end_time": "2024-08-22T10:46:34.477762Z",
     "start_time": "2024-08-22T10:46:34.461634Z"
    }
   },
   "cell_type": "code",
   "source": "util.df([fs.execution for fs in ib.fills()])[['execId', 'time', 'side', 'cumQty', 'avgPrice']].set_index('execId')",
   "id": "feaf2dde2902b91",
   "outputs": [
    {
     "data": {
      "text/plain": [
       "                                             time side      cumQty  avgPrice\n",
       "execId                                                                      \n",
       "000132a9.66c6b817.01.01 2024-08-22 10:21:03+00:00  SLD 1000.000000  1.113650\n",
       "000132a9.66c6b81c.01.01 2024-08-22 10:35:01+00:00  BOT 1000.000000  1.114150\n",
       "000132a9.66c6b81d.01.01 2024-08-22 10:35:01+00:00  BOT 2000.000000  1.114150"
      ],
      "text/html": [
       "<div>\n",
       "<style scoped>\n",
       "    .dataframe tbody tr th:only-of-type {\n",
       "        vertical-align: middle;\n",
       "    }\n",
       "\n",
       "    .dataframe tbody tr th {\n",
       "        vertical-align: top;\n",
       "    }\n",
       "\n",
       "    .dataframe thead th {\n",
       "        text-align: right;\n",
       "    }\n",
       "</style>\n",
       "<table border=\"1\" class=\"dataframe\">\n",
       "  <thead>\n",
       "    <tr style=\"text-align: right;\">\n",
       "      <th></th>\n",
       "      <th>time</th>\n",
       "      <th>side</th>\n",
       "      <th>cumQty</th>\n",
       "      <th>avgPrice</th>\n",
       "    </tr>\n",
       "    <tr>\n",
       "      <th>execId</th>\n",
       "      <th></th>\n",
       "      <th></th>\n",
       "      <th></th>\n",
       "      <th></th>\n",
       "    </tr>\n",
       "  </thead>\n",
       "  <tbody>\n",
       "    <tr>\n",
       "      <th>000132a9.66c6b817.01.01</th>\n",
       "      <td>2024-08-22 10:21:03+00:00</td>\n",
       "      <td>SLD</td>\n",
       "      <td>1000.000000</td>\n",
       "      <td>1.113650</td>\n",
       "    </tr>\n",
       "    <tr>\n",
       "      <th>000132a9.66c6b81c.01.01</th>\n",
       "      <td>2024-08-22 10:35:01+00:00</td>\n",
       "      <td>BOT</td>\n",
       "      <td>1000.000000</td>\n",
       "      <td>1.114150</td>\n",
       "    </tr>\n",
       "    <tr>\n",
       "      <th>000132a9.66c6b81d.01.01</th>\n",
       "      <td>2024-08-22 10:35:01+00:00</td>\n",
       "      <td>BOT</td>\n",
       "      <td>2000.000000</td>\n",
       "      <td>1.114150</td>\n",
       "    </tr>\n",
       "  </tbody>\n",
       "</table>\n",
       "</div>"
      ]
     },
     "execution_count": 352,
     "metadata": {},
     "output_type": "execute_result"
    }
   ],
   "execution_count": 352
  },
  {
   "metadata": {
    "ExecuteTime": {
     "end_time": "2024-08-22T11:04:47.146578Z",
     "start_time": "2024-08-22T11:04:47.130247Z"
    }
   },
   "cell_type": "code",
   "source": "util.df([fs.commissionReport for fs in ib.fills()])[['execId','realizedPNL']].set_index('execId')",
   "id": "ef4ce0967ce0d045",
   "outputs": [
    {
     "data": {
      "text/plain": [
       "                         realizedPNL\n",
       "execId                              \n",
       "000132a9.66c6b817.01.01     0.000000\n",
       "000132a9.66c6b81c.01.01    -4.500000\n",
       "000132a9.66c6b81d.01.01     0.000000"
      ],
      "text/html": [
       "<div>\n",
       "<style scoped>\n",
       "    .dataframe tbody tr th:only-of-type {\n",
       "        vertical-align: middle;\n",
       "    }\n",
       "\n",
       "    .dataframe tbody tr th {\n",
       "        vertical-align: top;\n",
       "    }\n",
       "\n",
       "    .dataframe thead th {\n",
       "        text-align: right;\n",
       "    }\n",
       "</style>\n",
       "<table border=\"1\" class=\"dataframe\">\n",
       "  <thead>\n",
       "    <tr style=\"text-align: right;\">\n",
       "      <th></th>\n",
       "      <th>realizedPNL</th>\n",
       "    </tr>\n",
       "    <tr>\n",
       "      <th>execId</th>\n",
       "      <th></th>\n",
       "    </tr>\n",
       "  </thead>\n",
       "  <tbody>\n",
       "    <tr>\n",
       "      <th>000132a9.66c6b817.01.01</th>\n",
       "      <td>0.000000</td>\n",
       "    </tr>\n",
       "    <tr>\n",
       "      <th>000132a9.66c6b81c.01.01</th>\n",
       "      <td>-4.500000</td>\n",
       "    </tr>\n",
       "    <tr>\n",
       "      <th>000132a9.66c6b81d.01.01</th>\n",
       "      <td>0.000000</td>\n",
       "    </tr>\n",
       "  </tbody>\n",
       "</table>\n",
       "</div>"
      ]
     },
     "execution_count": 381,
     "metadata": {},
     "output_type": "execute_result"
    }
   ],
   "execution_count": 381
  },
  {
   "metadata": {
    "ExecuteTime": {
     "end_time": "2024-08-22T10:49:54.667667Z",
     "start_time": "2024-08-22T10:49:54.658692Z"
    }
   },
   "cell_type": "code",
   "source": [
    "#session_start = pd.to_datetime(dt.datetime.utcnow()).tz_localize('UTC')\n",
    "\n",
    "def trade_reporting():\n",
    "    global report\n",
    "    \n",
    "    fill_df = util.df([fs.execution for fs in ib.fills()])[['execId', 'time', 'side', 'cumQty', 'avgPrice']].set_index('execId')\n",
    "    profit_df = util.df([fs.commissionReport for fs in ib.fills()])[['execId','realizedPNL']].set_index('execId')\n",
    "    report = pd.concat([fill_df, profit_df], axis=1).set_index(\"time\")#.loc[session_start:]\n",
    "    report = report.groupby('time').agg({'side':'first', 'cumQty':'max', 'avgPrice': 'mean', 'realizedPNL':'sum'})\n",
    "    report['cumPNL'] = report.realizedPNL.cumsum()\n",
    "    \n",
    "    clear_output(wait=True)\n",
    "    try:\n",
    "        display(df, report)\n",
    "    except:\n",
    "        pass"
   ],
   "id": "699e52c58edde738",
   "outputs": [],
   "execution_count": 357
  },
  {
   "metadata": {},
   "cell_type": "code",
   "source": "trade_reporting()",
   "id": "3a39b6f75df508ba",
   "execution_count": 385,
   "outputs": [
    {
     "data": {
      "text/plain": [
       "                          side      cumQty  avgPrice  realizedPNL    cumPNL\n",
       "time                                                                       \n",
       "2024-08-22 10:21:03+00:00  SLD 1000.000000  1.113650     0.000000  0.000000\n",
       "2024-08-22 10:35:01+00:00  BOT 2000.000000  1.114150    -4.500000 -4.500000\n",
       "2024-08-22 11:08:03+00:00  SLD 2000.000000  1.113950    -2.200000 -6.700000"
      ],
      "text/html": [
       "<div>\n",
       "<style scoped>\n",
       "    .dataframe tbody tr th:only-of-type {\n",
       "        vertical-align: middle;\n",
       "    }\n",
       "\n",
       "    .dataframe tbody tr th {\n",
       "        vertical-align: top;\n",
       "    }\n",
       "\n",
       "    .dataframe thead th {\n",
       "        text-align: right;\n",
       "    }\n",
       "</style>\n",
       "<table border=\"1\" class=\"dataframe\">\n",
       "  <thead>\n",
       "    <tr style=\"text-align: right;\">\n",
       "      <th></th>\n",
       "      <th>side</th>\n",
       "      <th>cumQty</th>\n",
       "      <th>avgPrice</th>\n",
       "      <th>realizedPNL</th>\n",
       "      <th>cumPNL</th>\n",
       "    </tr>\n",
       "    <tr>\n",
       "      <th>time</th>\n",
       "      <th></th>\n",
       "      <th></th>\n",
       "      <th></th>\n",
       "      <th></th>\n",
       "      <th></th>\n",
       "    </tr>\n",
       "  </thead>\n",
       "  <tbody>\n",
       "    <tr>\n",
       "      <th>2024-08-22 10:21:03+00:00</th>\n",
       "      <td>SLD</td>\n",
       "      <td>1000.000000</td>\n",
       "      <td>1.113650</td>\n",
       "      <td>0.000000</td>\n",
       "      <td>0.000000</td>\n",
       "    </tr>\n",
       "    <tr>\n",
       "      <th>2024-08-22 10:35:01+00:00</th>\n",
       "      <td>BOT</td>\n",
       "      <td>2000.000000</td>\n",
       "      <td>1.114150</td>\n",
       "      <td>-4.500000</td>\n",
       "      <td>-4.500000</td>\n",
       "    </tr>\n",
       "    <tr>\n",
       "      <th>2024-08-22 11:08:03+00:00</th>\n",
       "      <td>SLD</td>\n",
       "      <td>2000.000000</td>\n",
       "      <td>1.113950</td>\n",
       "      <td>-2.200000</td>\n",
       "      <td>-6.700000</td>\n",
       "    </tr>\n",
       "  </tbody>\n",
       "</table>\n",
       "</div>"
      ]
     },
     "metadata": {},
     "output_type": "display_data"
    }
   ]
  }
 ],
 "metadata": {
  "kernelspec": {
   "display_name": "Python 3",
   "language": "python",
   "name": "python3"
  },
  "language_info": {
   "codemirror_mode": {
    "name": "ipython",
    "version": 2
   },
   "file_extension": ".py",
   "mimetype": "text/x-python",
   "name": "python",
   "nbconvert_exporter": "python",
   "pygments_lexer": "ipython2",
   "version": "2.7.6"
  }
 },
 "nbformat": 4,
 "nbformat_minor": 5
}
