{
 "cells": [
  {
   "cell_type": "code",
   "id": "initial_id",
   "metadata": {
    "collapsed": true,
    "ExecuteTime": {
     "end_time": "2024-08-19T05:44:34.530069Z",
     "start_time": "2024-08-19T05:44:29.445564Z"
    }
   },
   "source": [
    "import pandas as pd\n",
    "import numpy as np\n",
    "import matplotlib.style\n",
    "import matplotlib.pyplot as plt\n",
    "import yfinance as yf\n",
    "pd.options.display.float_format = '{:.4f}'.format\n",
    "plt.style.use(\"seaborn-v0_8\")\n",
    "from itertools import product"
   ],
   "outputs": [],
   "execution_count": 1
  },
  {
   "metadata": {
    "ExecuteTime": {
     "end_time": "2024-08-19T05:44:34.542998Z",
     "start_time": "2024-08-19T05:44:34.537083Z"
    }
   },
   "cell_type": "code",
   "source": [
    "symbol = \"EURUSD=X\"\n",
    "start = \"2023-01-01\"\n",
    "end = \"2024-01-01\""
   ],
   "id": "98851064e7521ad0",
   "outputs": [],
   "execution_count": 2
  },
  {
   "metadata": {
    "ExecuteTime": {
     "end_time": "2024-08-19T05:44:47.871311Z",
     "start_time": "2024-08-19T05:44:47.791772Z"
    }
   },
   "cell_type": "code",
   "source": [
    "df = yf.download(symbol, start, end, interval='1h').Close.to_frame()\n",
    "df.rename(columns={\"Close\": \"price\"}, inplace=True)\n",
    "df"
   ],
   "id": "1fd724cf7b920347",
   "outputs": [
    {
     "name": "stderr",
     "output_type": "stream",
     "text": [
      "[*********************100%%**********************]  1 of 1 completed\n"
     ]
    },
    {
     "data": {
      "text/plain": [
       "                           price\n",
       "Datetime                        \n",
       "2023-01-02 00:00:00+00:00 1.0709\n",
       "2023-01-02 01:00:00+00:00 1.0707\n",
       "2023-01-02 02:00:00+00:00 1.0704\n",
       "2023-01-02 03:00:00+00:00 1.0709\n",
       "2023-01-02 04:00:00+00:00 1.0701\n",
       "...                          ...\n",
       "2023-12-29 18:00:00+00:00 1.1055\n",
       "2023-12-29 19:00:00+00:00 1.1044\n",
       "2023-12-29 20:00:00+00:00 1.1044\n",
       "2023-12-29 21:00:00+00:00 1.1040\n",
       "2023-12-29 22:00:00+00:00 1.1040\n",
       "\n",
       "[6175 rows x 1 columns]"
      ],
      "text/html": [
       "<div>\n",
       "<style scoped>\n",
       "    .dataframe tbody tr th:only-of-type {\n",
       "        vertical-align: middle;\n",
       "    }\n",
       "\n",
       "    .dataframe tbody tr th {\n",
       "        vertical-align: top;\n",
       "    }\n",
       "\n",
       "    .dataframe thead th {\n",
       "        text-align: right;\n",
       "    }\n",
       "</style>\n",
       "<table border=\"1\" class=\"dataframe\">\n",
       "  <thead>\n",
       "    <tr style=\"text-align: right;\">\n",
       "      <th></th>\n",
       "      <th>price</th>\n",
       "    </tr>\n",
       "    <tr>\n",
       "      <th>Datetime</th>\n",
       "      <th></th>\n",
       "    </tr>\n",
       "  </thead>\n",
       "  <tbody>\n",
       "    <tr>\n",
       "      <th>2023-01-02 00:00:00+00:00</th>\n",
       "      <td>1.0709</td>\n",
       "    </tr>\n",
       "    <tr>\n",
       "      <th>2023-01-02 01:00:00+00:00</th>\n",
       "      <td>1.0707</td>\n",
       "    </tr>\n",
       "    <tr>\n",
       "      <th>2023-01-02 02:00:00+00:00</th>\n",
       "      <td>1.0704</td>\n",
       "    </tr>\n",
       "    <tr>\n",
       "      <th>2023-01-02 03:00:00+00:00</th>\n",
       "      <td>1.0709</td>\n",
       "    </tr>\n",
       "    <tr>\n",
       "      <th>2023-01-02 04:00:00+00:00</th>\n",
       "      <td>1.0701</td>\n",
       "    </tr>\n",
       "    <tr>\n",
       "      <th>...</th>\n",
       "      <td>...</td>\n",
       "    </tr>\n",
       "    <tr>\n",
       "      <th>2023-12-29 18:00:00+00:00</th>\n",
       "      <td>1.1055</td>\n",
       "    </tr>\n",
       "    <tr>\n",
       "      <th>2023-12-29 19:00:00+00:00</th>\n",
       "      <td>1.1044</td>\n",
       "    </tr>\n",
       "    <tr>\n",
       "      <th>2023-12-29 20:00:00+00:00</th>\n",
       "      <td>1.1044</td>\n",
       "    </tr>\n",
       "    <tr>\n",
       "      <th>2023-12-29 21:00:00+00:00</th>\n",
       "      <td>1.1040</td>\n",
       "    </tr>\n",
       "    <tr>\n",
       "      <th>2023-12-29 22:00:00+00:00</th>\n",
       "      <td>1.1040</td>\n",
       "    </tr>\n",
       "  </tbody>\n",
       "</table>\n",
       "<p>6175 rows × 1 columns</p>\n",
       "</div>"
      ]
     },
     "execution_count": 4,
     "metadata": {},
     "output_type": "execute_result"
    }
   ],
   "execution_count": 4
  },
  {
   "metadata": {
    "ExecuteTime": {
     "end_time": "2024-08-19T05:45:30.748774Z",
     "start_time": "2024-08-19T05:45:30.741347Z"
    }
   },
   "cell_type": "code",
   "source": "df['returns'] = np.log(df['price'].div(df['price'].shift(1)))",
   "id": "7318fba77ab0dc71",
   "outputs": [],
   "execution_count": 5
  },
  {
   "metadata": {
    "ExecuteTime": {
     "end_time": "2024-08-19T05:56:34.576823Z",
     "start_time": "2024-08-19T05:56:34.295576Z"
    }
   },
   "cell_type": "code",
   "source": [
    "resultsDf = pd.DataFrame(columns=['window', 'type', 'result'])\n",
    "\n",
    "for window in range(1,100):\n",
    "    df['position_momentum'] = - np.sign(df['returns'].rolling(window=window).mean())\n",
    "    df['position_contrarian'] = - df['position_momentum']\n",
    "    df['strategy_momentum'] = df.position_momentum.shift(1) * df.returns\n",
    "    df['strategy_contrarian'] = df.position_contrarian.shift(1) * df.returns\n",
    "    result_momentum = df['strategy_momentum'].sum()\n",
    "    result_contrarian = df['strategy_contrarian'].sum()\n",
    "\n",
    "    resultDictMomentum = {'window': window, 'type': 'momentum', 'result': result_momentum}\n",
    "    resultDictContrarian = {'window': window, 'type': 'contrarian', 'result': result_contrarian}\n",
    "    resultsDf.loc[len(resultsDf)] = resultDictMomentum\n",
    "    resultsDf.loc[len(resultsDf)] = resultDictContrarian\n",
    "    print('Window {} | Momentum: {} | Contrarian {}'.format(window, result_momentum, result_contrarian))\n",
    "\n",
    "resultsDf"
   ],
   "id": "a77a173439b6a207",
   "outputs": [
    {
     "name": "stdout",
     "output_type": "stream",
     "text": [
      "Window 1 | Momentum: 0.12895291867592265 | Contrarian -0.12895291867592265\n",
      "Window 2 | Momentum: 0.05338660886525929 | Contrarian -0.05338660886525929\n",
      "Window 3 | Momentum: -0.009854476557520413 | Contrarian 0.009854476557520413\n",
      "Window 4 | Momentum: 0.008961243308215874 | Contrarian -0.008961243308215874\n",
      "Window 5 | Momentum: -0.06783196077356612 | Contrarian 0.06783196077356612\n",
      "Window 6 | Momentum: 0.014351460117207684 | Contrarian -0.014351460117207684\n",
      "Window 7 | Momentum: 0.0007526190204333863 | Contrarian -0.0007526190204333863\n",
      "Window 8 | Momentum: -0.02964532923530636 | Contrarian 0.02964532923530636\n",
      "Window 9 | Momentum: -0.03579433971680785 | Contrarian 0.03579433971680785\n",
      "Window 10 | Momentum: -0.03733459590978715 | Contrarian 0.03733459590978715\n",
      "Window 11 | Momentum: -0.04279459182335539 | Contrarian 0.04279459182335539\n",
      "Window 12 | Momentum: 0.018514941534839957 | Contrarian -0.018514941534839957\n",
      "Window 13 | Momentum: 0.08400050010361185 | Contrarian -0.08400050010361185\n",
      "Window 14 | Momentum: 0.018080949944295523 | Contrarian -0.018080949944295523\n",
      "Window 15 | Momentum: 0.009638770486893242 | Contrarian -0.009638770486893242\n",
      "Window 16 | Momentum: -0.028265869738604354 | Contrarian 0.028265869738604354\n",
      "Window 17 | Momentum: -0.020213947043491203 | Contrarian 0.020213947043491203\n",
      "Window 18 | Momentum: 0.05712119586049656 | Contrarian -0.05712119586049656\n",
      "Window 19 | Momentum: -0.017936625945358137 | Contrarian 0.017936625945358137\n",
      "Window 20 | Momentum: 0.00882477056958807 | Contrarian -0.00882477056958807\n",
      "Window 21 | Momentum: -0.06980619935895152 | Contrarian 0.06980619935895152\n",
      "Window 22 | Momentum: -0.0355873014409583 | Contrarian 0.0355873014409583\n",
      "Window 23 | Momentum: -0.11160839536169039 | Contrarian 0.11160839536169039\n",
      "Window 24 | Momentum: -0.10438526831988294 | Contrarian 0.10438526831988294\n",
      "Window 25 | Momentum: -0.11737154916119522 | Contrarian 0.11737154916119522\n",
      "Window 26 | Momentum: -0.07881987604945537 | Contrarian 0.07881987604945537\n",
      "Window 27 | Momentum: -0.07407889526325463 | Contrarian 0.07407889526325463\n",
      "Window 28 | Momentum: -0.03144816309671179 | Contrarian 0.03144816309671179\n",
      "Window 29 | Momentum: -0.05983341466434181 | Contrarian 0.05983341466434181\n",
      "Window 30 | Momentum: -0.039726833783678576 | Contrarian 0.039726833783678576\n",
      "Window 31 | Momentum: -0.00804376472081016 | Contrarian 0.00804376472081016\n",
      "Window 32 | Momentum: 0.003462060964700916 | Contrarian -0.003462060964700916\n",
      "Window 33 | Momentum: 0.02392012232523977 | Contrarian -0.02392012232523977\n",
      "Window 34 | Momentum: 0.039026158647086376 | Contrarian -0.039026158647086376\n",
      "Window 35 | Momentum: 0.006167975275639032 | Contrarian -0.006167975275639032\n",
      "Window 36 | Momentum: 0.020535663932629417 | Contrarian -0.020535663932629417\n",
      "Window 37 | Momentum: 0.03046716266653962 | Contrarian -0.03046716266653962\n",
      "Window 38 | Momentum: 0.05456877366408035 | Contrarian -0.05456877366408035\n",
      "Window 39 | Momentum: 0.03877028749073285 | Contrarian -0.03877028749073285\n",
      "Window 40 | Momentum: 0.043364713373178 | Contrarian -0.043364713373178\n",
      "Window 41 | Momentum: 0.04365349845235627 | Contrarian -0.04365349845235627\n",
      "Window 42 | Momentum: 0.05721386587099984 | Contrarian -0.05721386587099984\n",
      "Window 43 | Momentum: 0.025156762691795787 | Contrarian -0.025156762691795787\n",
      "Window 44 | Momentum: 0.05107163143730689 | Contrarian -0.05107163143730689\n",
      "Window 45 | Momentum: 0.015317611320907212 | Contrarian -0.015317611320907212\n",
      "Window 46 | Momentum: 0.012776971870793158 | Contrarian -0.012776971870793158\n",
      "Window 47 | Momentum: 0.06296556093468675 | Contrarian -0.06296556093468675\n",
      "Window 48 | Momentum: 0.12328355353191936 | Contrarian -0.12328355353191936\n",
      "Window 49 | Momentum: 0.1274413659667902 | Contrarian -0.1274413659667902\n",
      "Window 50 | Momentum: 0.0833650806291131 | Contrarian -0.0833650806291131\n",
      "Window 51 | Momentum: 0.11788369539975263 | Contrarian -0.11788369539975263\n",
      "Window 52 | Momentum: 0.08033288990645246 | Contrarian -0.08033288990645246\n",
      "Window 53 | Momentum: 0.060298551593563995 | Contrarian -0.060298551593563995\n",
      "Window 54 | Momentum: 0.08948000949322943 | Contrarian -0.08948000949322943\n",
      "Window 55 | Momentum: 0.07014388718130345 | Contrarian -0.07014388718130345\n",
      "Window 56 | Momentum: 0.0999287879849839 | Contrarian -0.0999287879849839\n",
      "Window 57 | Momentum: 0.088233494022214 | Contrarian -0.088233494022214\n",
      "Window 58 | Momentum: 0.06906796146227864 | Contrarian -0.06906796146227864\n",
      "Window 59 | Momentum: 0.057529855418378115 | Contrarian -0.057529855418378115\n",
      "Window 60 | Momentum: 0.028202102984719875 | Contrarian -0.028202102984719875\n",
      "Window 61 | Momentum: 0.09863197876700072 | Contrarian -0.09863197876700072\n",
      "Window 62 | Momentum: 0.06923483565429903 | Contrarian -0.06923483565429903\n",
      "Window 63 | Momentum: 0.07790658571755509 | Contrarian -0.07790658571755509\n",
      "Window 64 | Momentum: 0.07673550156938115 | Contrarian -0.07673550156938115\n",
      "Window 65 | Momentum: 0.06709983499420828 | Contrarian -0.06709983499420828\n",
      "Window 66 | Momentum: 0.04695299569411109 | Contrarian -0.04695299569411109\n",
      "Window 67 | Momentum: -0.0013047824225010662 | Contrarian 0.0013047824225010662\n",
      "Window 68 | Momentum: -0.003841901240772036 | Contrarian 0.003841901240772036\n",
      "Window 69 | Momentum: 0.011732185625256367 | Contrarian -0.011732185625256367\n",
      "Window 70 | Momentum: 0.05276220279466401 | Contrarian -0.05276220279466401\n",
      "Window 71 | Momentum: 0.11511657531450997 | Contrarian -0.11511657531450997\n",
      "Window 72 | Momentum: 0.12737082807526628 | Contrarian -0.12737082807526628\n",
      "Window 73 | Momentum: 0.12475635762535359 | Contrarian -0.12475635762535359\n",
      "Window 74 | Momentum: 0.1577497564105684 | Contrarian -0.1577497564105684\n",
      "Window 75 | Momentum: 0.14623296528913882 | Contrarian -0.14623296528913882\n",
      "Window 76 | Momentum: 0.11312017298280047 | Contrarian -0.11312017298280047\n",
      "Window 77 | Momentum: 0.054659028617529755 | Contrarian -0.054659028617529755\n",
      "Window 78 | Momentum: 0.1010737749825411 | Contrarian -0.1010737749825411\n",
      "Window 79 | Momentum: 0.10151106109171792 | Contrarian -0.10151106109171792\n",
      "Window 80 | Momentum: 0.107723964482558 | Contrarian -0.107723964482558\n",
      "Window 81 | Momentum: 0.10352812035206788 | Contrarian -0.10352812035206788\n",
      "Window 82 | Momentum: 0.09313134081118694 | Contrarian -0.09313134081118694\n",
      "Window 83 | Momentum: 0.06969506094820146 | Contrarian -0.06969506094820146\n",
      "Window 84 | Momentum: 0.057445898828378424 | Contrarian -0.057445898828378424\n",
      "Window 85 | Momentum: 0.06731100752226342 | Contrarian -0.06731100752226342\n",
      "Window 86 | Momentum: 0.08324687238801469 | Contrarian -0.08324687238801469\n",
      "Window 87 | Momentum: 0.07953885029607514 | Contrarian -0.07953885029607514\n",
      "Window 88 | Momentum: 0.10251421428103107 | Contrarian -0.10251421428103107\n",
      "Window 89 | Momentum: 0.12662197713921575 | Contrarian -0.12662197713921575\n",
      "Window 90 | Momentum: 0.03720715804098328 | Contrarian -0.03720715804098328\n",
      "Window 91 | Momentum: 0.08801547800029486 | Contrarian -0.08801547800029486\n",
      "Window 92 | Momentum: 0.08875382766093065 | Contrarian -0.08875382766093065\n",
      "Window 93 | Momentum: 0.04971565990863969 | Contrarian -0.04971565990863969\n",
      "Window 94 | Momentum: 0.09483402728895383 | Contrarian -0.09483402728895383\n",
      "Window 95 | Momentum: 0.05479981954684172 | Contrarian -0.05479981954684172\n",
      "Window 96 | Momentum: 0.04250930642964329 | Contrarian -0.04250930642964329\n",
      "Window 97 | Momentum: 0.050573623046701585 | Contrarian -0.050573623046701585\n",
      "Window 98 | Momentum: 0.051692453258727476 | Contrarian -0.051692453258727476\n",
      "Window 99 | Momentum: 0.09293910391823731 | Contrarian -0.09293910391823731\n"
     ]
    },
    {
     "data": {
      "text/plain": [
       "     window        type  result\n",
       "0         1    momentum  0.1290\n",
       "1         1  contrarian -0.1290\n",
       "2         2    momentum  0.0534\n",
       "3         2  contrarian -0.0534\n",
       "4         3    momentum -0.0099\n",
       "..      ...         ...     ...\n",
       "193      97  contrarian -0.0506\n",
       "194      98    momentum  0.0517\n",
       "195      98  contrarian -0.0517\n",
       "196      99    momentum  0.0929\n",
       "197      99  contrarian -0.0929\n",
       "\n",
       "[198 rows x 3 columns]"
      ],
      "text/html": [
       "<div>\n",
       "<style scoped>\n",
       "    .dataframe tbody tr th:only-of-type {\n",
       "        vertical-align: middle;\n",
       "    }\n",
       "\n",
       "    .dataframe tbody tr th {\n",
       "        vertical-align: top;\n",
       "    }\n",
       "\n",
       "    .dataframe thead th {\n",
       "        text-align: right;\n",
       "    }\n",
       "</style>\n",
       "<table border=\"1\" class=\"dataframe\">\n",
       "  <thead>\n",
       "    <tr style=\"text-align: right;\">\n",
       "      <th></th>\n",
       "      <th>window</th>\n",
       "      <th>type</th>\n",
       "      <th>result</th>\n",
       "    </tr>\n",
       "  </thead>\n",
       "  <tbody>\n",
       "    <tr>\n",
       "      <th>0</th>\n",
       "      <td>1</td>\n",
       "      <td>momentum</td>\n",
       "      <td>0.1290</td>\n",
       "    </tr>\n",
       "    <tr>\n",
       "      <th>1</th>\n",
       "      <td>1</td>\n",
       "      <td>contrarian</td>\n",
       "      <td>-0.1290</td>\n",
       "    </tr>\n",
       "    <tr>\n",
       "      <th>2</th>\n",
       "      <td>2</td>\n",
       "      <td>momentum</td>\n",
       "      <td>0.0534</td>\n",
       "    </tr>\n",
       "    <tr>\n",
       "      <th>3</th>\n",
       "      <td>2</td>\n",
       "      <td>contrarian</td>\n",
       "      <td>-0.0534</td>\n",
       "    </tr>\n",
       "    <tr>\n",
       "      <th>4</th>\n",
       "      <td>3</td>\n",
       "      <td>momentum</td>\n",
       "      <td>-0.0099</td>\n",
       "    </tr>\n",
       "    <tr>\n",
       "      <th>...</th>\n",
       "      <td>...</td>\n",
       "      <td>...</td>\n",
       "      <td>...</td>\n",
       "    </tr>\n",
       "    <tr>\n",
       "      <th>193</th>\n",
       "      <td>97</td>\n",
       "      <td>contrarian</td>\n",
       "      <td>-0.0506</td>\n",
       "    </tr>\n",
       "    <tr>\n",
       "      <th>194</th>\n",
       "      <td>98</td>\n",
       "      <td>momentum</td>\n",
       "      <td>0.0517</td>\n",
       "    </tr>\n",
       "    <tr>\n",
       "      <th>195</th>\n",
       "      <td>98</td>\n",
       "      <td>contrarian</td>\n",
       "      <td>-0.0517</td>\n",
       "    </tr>\n",
       "    <tr>\n",
       "      <th>196</th>\n",
       "      <td>99</td>\n",
       "      <td>momentum</td>\n",
       "      <td>0.0929</td>\n",
       "    </tr>\n",
       "    <tr>\n",
       "      <th>197</th>\n",
       "      <td>99</td>\n",
       "      <td>contrarian</td>\n",
       "      <td>-0.0929</td>\n",
       "    </tr>\n",
       "  </tbody>\n",
       "</table>\n",
       "<p>198 rows × 3 columns</p>\n",
       "</div>"
      ]
     },
     "execution_count": 12,
     "metadata": {},
     "output_type": "execute_result"
    }
   ],
   "execution_count": 12
  },
  {
   "metadata": {
    "ExecuteTime": {
     "end_time": "2024-08-19T06:01:47.407735Z",
     "start_time": "2024-08-19T06:01:47.226338Z"
    }
   },
   "cell_type": "code",
   "source": [
    "resultsDf['result'].where(resultsDf['type'] == 'momentum')\n",
    "resultsDf['result'].where(resultsDf['type'] == 'contrarian').hist(bins=100)"
   ],
   "id": "9cc8769373ab46ac",
   "outputs": [
    {
     "data": {
      "text/plain": [
       "<Axes: >"
      ]
     },
     "execution_count": 32,
     "metadata": {},
     "output_type": "execute_result"
    },
    {
     "data": {
      "text/plain": [
       "<Figure size 800x550 with 1 Axes>"
      ],
      "image/png": "[encoded data removed]"
     },
     "metadata": {},
     "output_type": "display_data"
    }
   ],
   "execution_count": 32
  },
  {
   "metadata": {
    "ExecuteTime": {
     "end_time": "2024-08-19T06:00:03.504870Z",
     "start_time": "2024-08-19T06:00:03.490703Z"
    }
   },
   "cell_type": "code",
   "source": "resultsDf['result'].where(resultsDf['type'] == 'momentum').describe()",
   "id": "99449f197f7e7863",
   "outputs": [
    {
     "data": {
      "text/plain": [
       "count   99.0000\n",
       "mean     0.0413\n",
       "std      0.0601\n",
       "min     -0.1174\n",
       "25%      0.0075\n",
       "50%      0.0517\n",
       "75%      0.0860\n",
       "max      0.1577\n",
       "Name: result, dtype: float64"
      ]
     },
     "execution_count": 21,
     "metadata": {},
     "output_type": "execute_result"
    }
   ],
   "execution_count": 21
  },
  {
   "metadata": {
    "ExecuteTime": {
     "end_time": "2024-08-19T06:01:39.306587Z",
     "start_time": "2024-08-19T06:01:39.118274Z"
    }
   },
   "cell_type": "code",
   "source": "resultsDf['result'].where(resultsDf['type'] == 'contrarian').hist(bins=100)",
   "id": "8834e2b88f74b065",
   "outputs": [
    {
     "data": {
      "text/plain": [
       "<Axes: >"
      ]
     },
     "execution_count": 31,
     "metadata": {},
     "output_type": "execute_result"
    },
    {
     "data": {
      "text/plain": [
       "<Figure size 800x550 with 1 Axes>"
      ],
      "image/png": "[encoded data removed]"
     },
     "metadata": {},
     "output_type": "display_data"
    }
   ],
   "execution_count": 31
  },
  {
   "metadata": {
    "ExecuteTime": {
     "end_time": "2024-08-19T06:00:50.272277Z",
     "start_time": "2024-08-19T06:00:50.261465Z"
    }
   },
   "cell_type": "code",
   "source": "resultsDf['result'].where(resultsDf['type'] == 'contrarian').describe()",
   "id": "57ba20f19c1151b0",
   "outputs": [
    {
     "data": {
      "text/plain": [
       "count   99.0000\n",
       "mean    -0.0413\n",
       "std      0.0601\n",
       "min     -0.1577\n",
       "25%     -0.0860\n",
       "50%     -0.0517\n",
       "75%     -0.0075\n",
       "max      0.1174\n",
       "Name: result, dtype: float64"
      ]
     },
     "execution_count": 25,
     "metadata": {},
     "output_type": "execute_result"
    }
   ],
   "execution_count": 25
  }
 ],
 "metadata": {
  "kernelspec": {
   "display_name": "Python 3",
   "language": "python",
   "name": "python3"
  },
  "language_info": {
   "codemirror_mode": {
    "name": "ipython",
    "version": 2
   },
   "file_extension": ".py",
   "mimetype": "text/x-python",
   "name": "python",
   "nbconvert_exporter": "python",
   "pygments_lexer": "ipython2",
   "version": "2.7.6"
  }
 },
 "nbformat": 4,
 "nbformat_minor": 5
}
